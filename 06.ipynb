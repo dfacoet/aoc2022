{
 "cells": [
  {
   "cell_type": "code",
   "execution_count": 1,
   "id": "6e89caa4-c746-4af0-a290-52bd16e82acb",
   "metadata": {},
   "outputs": [],
   "source": [
    "input_file = \"06_input.txt\""
   ]
  },
  {
   "cell_type": "code",
   "execution_count": 2,
   "id": "bc6cba03-fbbe-43ae-b8f5-93395e7963f1",
   "metadata": {},
   "outputs": [],
   "source": [
    "with open(input_file) as f:\n",
    "    input_string = f.readline().rstrip()"
   ]
  },
  {
   "cell_type": "code",
   "execution_count": 3,
   "id": "19b70ea5-f05e-4068-86bc-bd4a00c4d14e",
   "metadata": {},
   "outputs": [],
   "source": [
    "def find_unique(s, k=4):\n",
    "    last = []\n",
    "    for count, c in enumerate(s):\n",
    "        try:\n",
    "            j = last.index(c)\n",
    "            last = last[j+1:] + [c]\n",
    "        except ValueError:\n",
    "            # c is not in last\n",
    "            last.append(c)\n",
    "        if len(last) == k:\n",
    "            return 1 + count"
   ]
  },
  {
   "cell_type": "code",
   "execution_count": 4,
   "id": "a0a461ac-fcae-4dd6-aa33-0947de5bf017",
   "metadata": {},
   "outputs": [
    {
     "data": {
      "text/plain": [
       "1300"
      ]
     },
     "execution_count": 4,
     "metadata": {},
     "output_type": "execute_result"
    }
   ],
   "source": [
    "#part1\n",
    "find_unique(input_string)"
   ]
  },
  {
   "cell_type": "code",
   "execution_count": 5,
   "id": "aa731208-05b3-46a3-95ce-7c5b2b2f61d2",
   "metadata": {},
   "outputs": [
    {
     "data": {
      "text/plain": [
       "3986"
      ]
     },
     "execution_count": 5,
     "metadata": {},
     "output_type": "execute_result"
    }
   ],
   "source": [
    "#part2\n",
    "find_unique(input_string, k=14)"
   ]
  }
 ],
 "metadata": {
  "kernelspec": {
   "display_name": "Python 3 (ipykernel)",
   "language": "python",
   "name": "python3"
  },
  "language_info": {
   "codemirror_mode": {
    "name": "ipython",
    "version": 3
   },
   "file_extension": ".py",
   "mimetype": "text/x-python",
   "name": "python",
   "nbconvert_exporter": "python",
   "pygments_lexer": "ipython3",
   "version": "3.9.12"
  }
 },
 "nbformat": 4,
 "nbformat_minor": 5
}
