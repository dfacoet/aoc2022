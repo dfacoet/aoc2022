{
 "cells": [
  {
   "cell_type": "code",
   "execution_count": 1,
   "id": "bf9c86b5-1916-4313-9da7-169f9b1d61d0",
   "metadata": {},
   "outputs": [],
   "source": [
    "input_file = \"01_input.txt\""
   ]
  },
  {
   "cell_type": "code",
   "execution_count": 2,
   "id": "d463fcd2-977f-48e5-8c8f-2bb33a452121",
   "metadata": {},
   "outputs": [],
   "source": [
    "with open(input_file) as f:\n",
    "    l = f.readlines()\n",
    "l = [x.rstrip() for x in l]"
   ]
  },
  {
   "cell_type": "code",
   "execution_count": 3,
   "id": "fe4f0ad9-6038-4dda-98e0-5cddd1ef0483",
   "metadata": {},
   "outputs": [],
   "source": [
    "elves = []\n",
    "elf = []\n",
    "\n",
    "for x in l:\n",
    "    if x != '':\n",
    "        elf.append(int(x))\n",
    "    else:\n",
    "        elves.append(elf)\n",
    "        elf = []\n",
    "\n",
    "        \n",
    "calories = [sum(x) for x in elves]"
   ]
  },
  {
   "cell_type": "code",
   "execution_count": 4,
   "id": "8910612b-d95a-40da-bf84-3aea9cad6038",
   "metadata": {},
   "outputs": [],
   "source": [
    "top3 = sorted(calories, reverse=True)[:3]"
   ]
  },
  {
   "cell_type": "code",
   "execution_count": 5,
   "id": "445175e0-6ccb-4ce0-979a-32f53223329d",
   "metadata": {},
   "outputs": [
    {
     "data": {
      "text/plain": [
       "74711"
      ]
     },
     "execution_count": 5,
     "metadata": {},
     "output_type": "execute_result"
    }
   ],
   "source": [
    "top3[0]"
   ]
  },
  {
   "cell_type": "code",
   "execution_count": 6,
   "id": "b82f4beb-e798-4ddd-8be0-deaf5d63e991",
   "metadata": {},
   "outputs": [
    {
     "data": {
      "text/plain": [
       "209481"
      ]
     },
     "execution_count": 6,
     "metadata": {},
     "output_type": "execute_result"
    }
   ],
   "source": [
    "sum(top3)"
   ]
  }
 ],
 "metadata": {
  "kernelspec": {
   "display_name": "Python 3 (ipykernel)",
   "language": "python",
   "name": "python3"
  },
  "language_info": {
   "codemirror_mode": {
    "name": "ipython",
    "version": 3
   },
   "file_extension": ".py",
   "mimetype": "text/x-python",
   "name": "python",
   "nbconvert_exporter": "python",
   "pygments_lexer": "ipython3",
   "version": "3.9.12"
  }
 },
 "nbformat": 4,
 "nbformat_minor": 5
}
