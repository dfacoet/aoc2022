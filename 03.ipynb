{
 "cells": [
  {
   "cell_type": "code",
   "execution_count": null,
   "id": "38067f68-d38d-4aaa-86ab-cb033d820350",
   "metadata": {},
   "outputs": [],
   "source": [
    "from string import ascii_uppercase"
   ]
  },
  {
   "cell_type": "code",
   "execution_count": null,
   "id": "22301887-ea02-45f7-aa78-25f695cb21b9",
   "metadata": {},
   "outputs": [],
   "source": [
    "input_file = \"03_input.txt\""
   ]
  },
  {
   "cell_type": "code",
   "execution_count": null,
   "id": "92612061-3c64-4448-9bac-2efbf545a952",
   "metadata": {},
   "outputs": [],
   "source": [
    "with open(input_file) as f:\n",
    "    bags = f.readlines()\n",
    "bags = [x.rstrip() for x in bags]"
   ]
  },
  {
   "cell_type": "code",
   "execution_count": null,
   "id": "51cd06fe-a44a-46dd-8214-3be3b0035c85",
   "metadata": {},
   "outputs": [],
   "source": [
    "def bag_intersection(s):\n",
    "    m = len(s) // 2\n",
    "    com1, com2 = s[:m], s[m:]\n",
    "    for c1 in set(com1):\n",
    "        for c2 in set(com2):\n",
    "            if c1 == c2:\n",
    "                return c1\n",
    "    raise ValueError(\"No intersection found\")\n",
    "\n",
    "\n",
    "def score(c):\n",
    "    if c in ascii_uppercase:\n",
    "        return 27 + ord(c) - ord('A')\n",
    "    return 1 + ord(c) - ord('a')\n",
    "\n",
    "\n",
    "def part1(l):\n",
    "    return sum(score(bag_intersection(x)) for x in bags)\n",
    "\n",
    "\n",
    "def find_badge(s1, s2, s3):\n",
    "    for c1 in set(s1):\n",
    "        for c2 in set(s2):\n",
    "            if c1 == c2:\n",
    "                for c3 in set(s3):\n",
    "                    if c1 == c3:\n",
    "                        return c1\n",
    "    raise ValueError(\"No intersection found\")\n",
    "\n",
    "\n",
    "def part2(bags):\n",
    "    groups = [bags[3*k:3*k+3] for k in range(len(bags)//3)]\n",
    "    return sum(score(find_badge(*group)) for group in groups)"
   ]
  },
  {
   "cell_type": "code",
   "execution_count": null,
   "id": "bf09ee73-ab38-4341-8dd2-faf29ade470f",
   "metadata": {},
   "outputs": [],
   "source": [
    "part1(bags)"
   ]
  },
  {
   "cell_type": "code",
   "execution_count": null,
   "id": "f443373b-d093-4a63-803c-8c4f0d958654",
   "metadata": {},
   "outputs": [],
   "source": [
    "part2(bags)"
   ]
  },
  {
   "cell_type": "code",
   "execution_count": null,
   "id": "c44d4141-7817-4f81-8e42-8bb2931c2531",
   "metadata": {},
   "outputs": [],
   "source": []
  }
 ],
 "metadata": {
  "kernelspec": {
   "display_name": "Python 3 (ipykernel)",
   "language": "python",
   "name": "python3"
  },
  "language_info": {
   "codemirror_mode": {
    "name": "ipython",
    "version": 3
   },
   "file_extension": ".py",
   "mimetype": "text/x-python",
   "name": "python",
   "nbconvert_exporter": "python",
   "pygments_lexer": "ipython3",
   "version": "3.9.12"
  }
 },
 "nbformat": 4,
 "nbformat_minor": 5
}
