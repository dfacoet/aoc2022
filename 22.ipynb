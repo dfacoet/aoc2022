{
 "cells": [
  {
   "cell_type": "code",
   "execution_count": 1,
   "id": "45a71173-8fc2-487a-9b57-fabb8f70b62f",
   "metadata": {},
   "outputs": [],
   "source": [
    "import re\n",
    "from collections import defaultdict"
   ]
  },
  {
   "cell_type": "code",
   "execution_count": 2,
   "id": "ffbbdf0b-2c8c-4e73-b845-3870590409e9",
   "metadata": {},
   "outputs": [],
   "source": [
    "input_file = \"22_input.txt\"\n",
    "#input_file = \"22_sample.txt\""
   ]
  },
  {
   "cell_type": "code",
   "execution_count": 128,
   "id": "55c2657d-2803-4915-80b0-a1b4498a3a2e",
   "metadata": {},
   "outputs": [],
   "source": [
    "directions = [\"right\", \"down\", \"left\", \"up\"]\n",
    "\n",
    "class Node:\n",
    "    def __init__(self, y, x):\n",
    "        self.x = x\n",
    "        self.y = y\n",
    "        self.neighbours = {d: None for d in directions}\n",
    "        self.turn = {d: 0 for d in directions}\n",
    "\n",
    "class Board:\n",
    "    def __init__(self, map_instructions):\n",
    "        self.nodes = defaultdict(dict)\n",
    "        self.coords = defaultdict(list)\n",
    "        self.instructions = re.split(r\"([LR])\", map_instructions[-1])\n",
    "        mapstrings = map_instructions[:-2]\n",
    "        n_col = 0\n",
    "        for j, r in enumerate(mapstrings):\n",
    "            n_col = max(n_col, len(r))\n",
    "            for k, c in enumerate(r):\n",
    "                if c == '.':\n",
    "                    self.nodes[j][k] = Node(j, k)\n",
    "                    self.coords[j].append(k)\n",
    "                    if k in self.coords[j - 1]:\n",
    "                        self.nodes[j][k].neighbours[\"up\"] = self.nodes[j - 1][k]\n",
    "                        self.nodes[j-1][k].neighbours[\"down\"] = self.nodes[j][k]\n",
    "                    if k - 1 in self.coords[j]:\n",
    "                        self.nodes[j][k].neighbours[\"left\"] = self.nodes[j][k - 1]\n",
    "                        self.nodes[j][k - 1].neighbours[\"right\"] = self.nodes[j][k]\n",
    "        # add periodicity (horizontal)\n",
    "        for j, r in enumerate(mapstrings):\n",
    "            row = r.strip()\n",
    "            if row[0] == '.' and row[-1] == '.':\n",
    "                start = self.nodes[j][self.coords[j][0]]\n",
    "                end = self.nodes[j][self.coords[j][-1]]\n",
    "                start.neighbours[\"left\"] = end\n",
    "                end.neighbours[\"right\"] = start\n",
    "        # add periodicity (vertical):\n",
    "        for k in range(n_col):\n",
    "            first_i = 0\n",
    "            while len(mapstrings[first_i]) <= k or mapstrings[first_i][k] == ' ':\n",
    "                first_i += 1\n",
    "            last_i = len(mapstrings) - 1\n",
    "            while len(mapstrings[last_i]) <= k or mapstrings[last_i][k] == ' ':\n",
    "                last_i -= 1\n",
    "            if mapstrings[first_i][k] == '.' and mapstrings[last_i][k] == '.':\n",
    "                start = self.nodes[first_i][k]\n",
    "                end = self.nodes[last_i][k]\n",
    "                start.neighbours[\"up\"] = end\n",
    "                end.neighbours[\"down\"] = start\n",
    "        \n",
    "        # clean dicts\n",
    "        self.nodes = {k: v for k, v in self.nodes.items() if v}\n",
    "        self.coords = {k: v for k, v in self.coords.items() if v}\n",
    "        \n",
    "    def path(self):\n",
    "        location = self.nodes[0][self.coords[0][0]] #first node\n",
    "        facing = 0\n",
    "        for i in self.instructions:\n",
    "            if i == \"L\":\n",
    "                facing = (facing - 1) % 4\n",
    "            elif i == \"R\":\n",
    "                facing = (facing + 1) % 4\n",
    "            else:\n",
    "                direction = directions[facing]\n",
    "                for _ in range(int(i)):\n",
    "                    if location.neighbours[direction] is None:\n",
    "                        break\n",
    "                    else:\n",
    "                        location = location.neighbours[direction]\n",
    "        password = 1000 * (location.y + 1) + 4 * (location.x + 1) + facing\n",
    "        return password, location.y, location.x, facing\n",
    "\n",
    "\n",
    "class Cube:\n",
    "    def __init__(self, map_instructions):\n",
    "        self.nodes = defaultdict(dict)\n",
    "        self.coords = defaultdict(list)\n",
    "        self.instructions = re.split(r\"([LR])\", map_instructions[-1])\n",
    "        mapstrings = map_instructions[:-2]\n",
    "        n_col = 0\n",
    "        for j, r in enumerate(mapstrings):\n",
    "            n_col = max(n_col, len(r))\n",
    "            for k, c in enumerate(r):\n",
    "                if c == '.':\n",
    "                    self.nodes[j][k] = Node(j, k)\n",
    "                    self.coords[j].append(k)\n",
    "                    if k in self.coords[j - 1]:\n",
    "                        self.nodes[j][k].neighbours[\"up\"] = self.nodes[j - 1][k]\n",
    "                        self.nodes[j-1][k].neighbours[\"down\"] = self.nodes[j][k]\n",
    "                    if k - 1 in self.coords[j]:\n",
    "                        self.nodes[j][k].neighbours[\"left\"] = self.nodes[j][k - 1]\n",
    "                        self.nodes[j][k - 1].neighbours[\"right\"] = self.nodes[j][k]\n",
    "        \n",
    "        # join sides\n",
    "        # # 1-4\n",
    "        # self.join([(0, 50 + k) for k in range(50)], [(150 + k, 0) for k in range(50)], 3, 2)\n",
    "        # # 1-5\n",
    "        # self.join([(k, 50) for k in range(50)], [(0, 149 - k) for k in range(50)], 2, 2)\n",
    "        # # 2-4\n",
    "        # self.join([(0, 100 + k) for k in range(50)], [(199, k) for k in range(50)], 3, 1)\n",
    "        # # 2-6\n",
    "        # self.join([(149, k) for k in range(50)], [(99, 149 - k) for k in range(50)], 0, 0)\n",
    "        # # 2-3\n",
    "        # self.join([(49, 100 + k) for k in range(50)], [(50 + k, 99) for k in range(50)], 1, 0)\n",
    "        # # 3-5\n",
    "        # self.join([(50 + k, 50) for k in range(50)], [(100, k) for k in range(50)], 2, 3)\n",
    "        # # 4-6\n",
    "        # self.join([(150 + k, 49) for k in range(50)], [(149, 50 + k) for k in range(50)], 0, 1)\n",
    "        \n",
    "        # sample\n",
    "        # 1-5\n",
    "        self.join([(k, 8) for k in range(4)], [(4, 4 + k) for k in range(4)], 2, 3)\n",
    "        # 1-4\n",
    "        self.join([], [], )\n",
    "        \n",
    "        \n",
    "    \n",
    "    \n",
    "    def join(self, edge1, edge2, dir1, dir2):\n",
    "        for (y1, x1), (y2, x2) in zip(edge1, edge2):\n",
    "            if x1 in self.coords[y1] and x2 in self.coords[y2]:\n",
    "                start = self.nodes[y1][x1]\n",
    "                end = self.nodes[y2][x2]\n",
    "                start.neighbours[directions[dir1]] = end\n",
    "                end.neighbours[directions[dir2]] = start\n",
    "                start.turn[directions[dir1]] = 2 + dir1 - dir2\n",
    "                end.turn[directions[dir2]] = 2 + dir2 - dir1\n",
    "        \n",
    "        \n",
    "    def path(self):\n",
    "        location = self.nodes[0][self.coords[0][0]] #first node\n",
    "        facing = 0\n",
    "        for i in self.instructions:\n",
    "            if i == \"L\":\n",
    "                facing = (facing - 1) % 4\n",
    "            elif i == \"R\":\n",
    "                facing = (facing + 1) % 4\n",
    "            else:\n",
    "                for _ in range(int(i)):\n",
    "                    direction = directions[facing]\n",
    "                    if location.neighbours[direction] is None:\n",
    "                        break\n",
    "                    else:\n",
    "                        facing = (facing + location.turn[direction]) % 4\n",
    "                        location = location.neighbours[direction]\n",
    "        password = 1000 * (location.y + 1) + 4 * (location.x + 1) + facing\n",
    "        return password, location.y, location.x, facing\n"
   ]
  },
  {
   "cell_type": "code",
   "execution_count": 121,
   "id": "e469d331-ff59-44e8-bb97-9c799440e762",
   "metadata": {},
   "outputs": [
    {
     "data": {
      "text/plain": [
       "['right', 'down', 'left', 'up']"
      ]
     },
     "execution_count": 121,
     "metadata": {},
     "output_type": "execute_result"
    }
   ],
   "source": [
    "directions"
   ]
  },
  {
   "cell_type": "code",
   "execution_count": 122,
   "id": "b90224d9-921a-44ab-96ee-adcda50cdaba",
   "metadata": {},
   "outputs": [],
   "source": [
    "with open(input_file) as f:\n",
    "    inputstrings = [line.rstrip('\\n') for line in f] "
   ]
  },
  {
   "cell_type": "code",
   "execution_count": 123,
   "id": "ce1bd5dc-ba48-449c-8dcd-02768851975e",
   "metadata": {},
   "outputs": [],
   "source": [
    "myboard = Board(inputstrings)"
   ]
  },
  {
   "cell_type": "code",
   "execution_count": 124,
   "id": "91c13bfc-89cb-4ac5-81d2-1ed5bf3d74cc",
   "metadata": {},
   "outputs": [
    {
     "data": {
      "text/plain": [
       "(155060, 154, 14, 0)"
      ]
     },
     "execution_count": 124,
     "metadata": {},
     "output_type": "execute_result"
    }
   ],
   "source": [
    "myboard.path()"
   ]
  },
  {
   "cell_type": "code",
   "execution_count": 125,
   "id": "1943311c-1114-4c1d-98d0-3078785aad0e",
   "metadata": {},
   "outputs": [],
   "source": [
    "cube = Cube(inputstrings)"
   ]
  },
  {
   "cell_type": "code",
   "execution_count": 127,
   "id": "f745c211-2a2c-47cb-ad38-59d7a485d17c",
   "metadata": {},
   "outputs": [
    {
     "data": {
      "text/plain": [
       "(18460, 17, 114, 0)"
      ]
     },
     "execution_count": 127,
     "metadata": {},
     "output_type": "execute_result"
    }
   ],
   "source": [
    "cube.path()\n",
    "\n",
    "# <18460"
   ]
  },
  {
   "cell_type": "code",
   "execution_count": null,
   "id": "e361cde7-1846-435f-b544-498a6465dcf0",
   "metadata": {},
   "outputs": [],
   "source": []
  }
 ],
 "metadata": {
  "kernelspec": {
   "display_name": "Python 3 (ipykernel)",
   "language": "python",
   "name": "python3"
  },
  "language_info": {
   "codemirror_mode": {
    "name": "ipython",
    "version": 3
   },
   "file_extension": ".py",
   "mimetype": "text/x-python",
   "name": "python",
   "nbconvert_exporter": "python",
   "pygments_lexer": "ipython3",
   "version": "3.9.12"
  }
 },
 "nbformat": 4,
 "nbformat_minor": 5
}
