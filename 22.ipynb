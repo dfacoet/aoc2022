{
 "cells": [
  {
   "cell_type": "code",
   "execution_count": 3,
   "id": "45a71173-8fc2-487a-9b57-fabb8f70b62f",
   "metadata": {},
   "outputs": [],
   "source": [
    "import re\n",
    "from collections import defaultdict"
   ]
  },
  {
   "cell_type": "code",
   "execution_count": 4,
   "id": "ffbbdf0b-2c8c-4e73-b845-3870590409e9",
   "metadata": {},
   "outputs": [],
   "source": [
    "input_file = \"22_input.txt\"\n",
    "#input_file = \"22_sample.txt\""
   ]
  },
  {
   "cell_type": "code",
   "execution_count": 14,
   "id": "55c2657d-2803-4915-80b0-a1b4498a3a2e",
   "metadata": {},
   "outputs": [],
   "source": [
    "class Node:\n",
    "    def __init__(self, y, x):\n",
    "        self.x = x\n",
    "        self.y = y\n",
    "        self.neighbours = {d: None for d in self.directions}\n",
    "\n",
    "    directions = [\"right\", \"down\", \"left\", \"up\"]\n",
    "\n",
    "class Board:\n",
    "    def __init__(self, map_instructions):\n",
    "        self.nodes = defaultdict(dict)\n",
    "        self.coords = defaultdict(list)\n",
    "        self.instructions = re.split(r\"([LR])\", map_instructions[-1])\n",
    "        mapstrings = map_instructions[:-2]\n",
    "        n_col = 0\n",
    "        for j, r in enumerate(mapstrings):\n",
    "            n_col = max(n_col, len(r))\n",
    "            for k, c in enumerate(r):\n",
    "                if c == '.':\n",
    "                    self.nodes[j][k] = Node(j, k)\n",
    "                    self.coords[j].append(k)\n",
    "                    if k in self.coords[j - 1]:\n",
    "                        self.nodes[j][k].neighbours[\"up\"] = self.nodes[j - 1][k]\n",
    "                        self.nodes[j-1][k].neighbours[\"down\"] = self.nodes[j][k]\n",
    "                    if k - 1 in self.coords[j]:\n",
    "                        self.nodes[j][k].neighbours[\"left\"] = self.nodes[j][k - 1]\n",
    "                        self.nodes[j][k - 1].neighbours[\"right\"] = self.nodes[j][k]\n",
    "        # add periodicity (horizontal)\n",
    "        for j, r in enumerate(mapstrings):\n",
    "            row = r.strip()\n",
    "            if row[0] == '.' and row[-1] == '.':\n",
    "                start = self.nodes[j][self.coords[j][0]]\n",
    "                end = self.nodes[j][self.coords[j][-1]]\n",
    "                start.neighbours[\"left\"] = end\n",
    "                end.neighbours[\"right\"] = start\n",
    "        # add periodicity (vertical):\n",
    "        for k in range(n_col):\n",
    "            first_i = 0\n",
    "            while len(mapstrings[first_i]) <= k or mapstrings[first_i][k] == ' ':\n",
    "                first_i += 1\n",
    "            last_i = len(mapstrings) - 1\n",
    "            while len(mapstrings[last_i]) <= k or mapstrings[last_i][k] == ' ':\n",
    "                last_i -= 1\n",
    "            if mapstrings[first_i][k] == '.' and mapstrings[last_i][k] == '.':\n",
    "                start = self.nodes[first_i][k]\n",
    "                end = self.nodes[last_i][k]\n",
    "                start.neighbours[\"up\"] = end\n",
    "                end.neighbours[\"down\"] = start\n",
    "        \n",
    "        # clean dicts\n",
    "        self.nodes = {k: v for k, v in self.nodes.items() if v}\n",
    "        self.coords = {k: v for k, v in self.coords.items() if v}\n",
    "        \n",
    "    directions = [\"right\", \"down\", \"left\", \"up\"]\n",
    "    def path(self):\n",
    "        location = self.nodes[0][self.coords[0][0]] #first node\n",
    "        facing = 0\n",
    "        for i in self.instructions:\n",
    "            if i == \"L\":\n",
    "                facing = (facing - 1) % 4\n",
    "            elif i == \"R\":\n",
    "                facing = (facing + 1) % 4\n",
    "            else:\n",
    "                direction = self.directions[facing]\n",
    "                for _ in range(int(i)):\n",
    "                    if location.neighbours[direction] is None:\n",
    "                        break\n",
    "                    else:\n",
    "                        location = location.neighbours[direction]\n",
    "        password = 1000 * (location.y + 1) + 4 * (location.x + 1) + facing\n",
    "        return password, location.y, location.x, facing"
   ]
  },
  {
   "cell_type": "code",
   "execution_count": 11,
   "id": "b90224d9-921a-44ab-96ee-adcda50cdaba",
   "metadata": {},
   "outputs": [],
   "source": [
    "with open(input_file) as f:\n",
    "    inputstrings = [line.rstrip('\\n') for line in f] "
   ]
  },
  {
   "cell_type": "code",
   "execution_count": 12,
   "id": "ce1bd5dc-ba48-449c-8dcd-02768851975e",
   "metadata": {},
   "outputs": [],
   "source": [
    "myboard = Board(inputstrings)"
   ]
  },
  {
   "cell_type": "code",
   "execution_count": 13,
   "id": "91c13bfc-89cb-4ac5-81d2-1ed5bf3d74cc",
   "metadata": {},
   "outputs": [
    {
     "data": {
      "text/plain": [
       "(155060, 154, 14, 0)"
      ]
     },
     "execution_count": 13,
     "metadata": {},
     "output_type": "execute_result"
    }
   ],
   "source": [
    "myboard.path()"
   ]
  },
  {
   "cell_type": "code",
   "execution_count": null,
   "id": "1943311c-1114-4c1d-98d0-3078785aad0e",
   "metadata": {},
   "outputs": [],
   "source": []
  }
 ],
 "metadata": {
  "kernelspec": {
   "display_name": "Python 3 (ipykernel)",
   "language": "python",
   "name": "python3"
  },
  "language_info": {
   "codemirror_mode": {
    "name": "ipython",
    "version": 3
   },
   "file_extension": ".py",
   "mimetype": "text/x-python",
   "name": "python",
   "nbconvert_exporter": "python",
   "pygments_lexer": "ipython3",
   "version": "3.9.12"
  }
 },
 "nbformat": 4,
 "nbformat_minor": 5
}
