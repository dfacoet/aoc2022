{
 "cells": [
  {
   "cell_type": "code",
   "execution_count": 4,
   "id": "45a71173-8fc2-487a-9b57-fabb8f70b62f",
   "metadata": {},
   "outputs": [],
   "source": [
    "import math\n",
    "import re\n",
    "from collections import defaultdict"
   ]
  },
  {
   "cell_type": "code",
   "execution_count": 73,
   "id": "55c2657d-2803-4915-80b0-a1b4498a3a2e",
   "metadata": {},
   "outputs": [],
   "source": [
    "directions = [\"right\", \"down\", \"left\", \"up\"]\n",
    "\n",
    "class Node:\n",
    "    def __init__(self, y, x):\n",
    "        self.x = x\n",
    "        self.y = y\n",
    "        self.neighbours = {d: None for d in directions}\n",
    "        self.face = {d: k for k, d in enumerate(directions)}\n",
    "\n",
    "class Board:\n",
    "    def __init__(self, map_instructions):\n",
    "        self.nodes = defaultdict(dict)\n",
    "        self.coords = defaultdict(list)\n",
    "        self.instructions = re.split(r\"([LR])\", map_instructions[-1])\n",
    "        mapstrings = map_instructions[:-2]\n",
    "        n_col = 0\n",
    "        for j, r in enumerate(mapstrings):\n",
    "            n_col = max(n_col, len(r))\n",
    "            for k, c in enumerate(r):\n",
    "                if c == '.':\n",
    "                    self.nodes[j][k] = Node(j, k)\n",
    "                    self.coords[j].append(k)\n",
    "                    if k in self.coords[j - 1]:\n",
    "                        self.nodes[j][k].neighbours[\"up\"] = self.nodes[j - 1][k]\n",
    "                        self.nodes[j-1][k].neighbours[\"down\"] = self.nodes[j][k]\n",
    "                    if k - 1 in self.coords[j]:\n",
    "                        self.nodes[j][k].neighbours[\"left\"] = self.nodes[j][k - 1]\n",
    "                        self.nodes[j][k - 1].neighbours[\"right\"] = self.nodes[j][k]\n",
    "        # add periodicity (horizontal)\n",
    "        for j, r in enumerate(mapstrings):\n",
    "            row = r.strip()\n",
    "            if row[0] == '.' and row[-1] == '.':\n",
    "                start = self.nodes[j][self.coords[j][0]]\n",
    "                end = self.nodes[j][self.coords[j][-1]]\n",
    "                start.neighbours[\"left\"] = end\n",
    "                end.neighbours[\"right\"] = start\n",
    "        # add periodicity (vertical):\n",
    "        for k in range(n_col):\n",
    "            first_i = 0\n",
    "            while len(mapstrings[first_i]) <= k or mapstrings[first_i][k] == ' ':\n",
    "                first_i += 1\n",
    "            last_i = len(mapstrings) - 1\n",
    "            while len(mapstrings[last_i]) <= k or mapstrings[last_i][k] == ' ':\n",
    "                last_i -= 1\n",
    "            if mapstrings[first_i][k] == '.' and mapstrings[last_i][k] == '.':\n",
    "                start = self.nodes[first_i][k]\n",
    "                end = self.nodes[last_i][k]\n",
    "                start.neighbours[\"up\"] = end\n",
    "                end.neighbours[\"down\"] = start\n",
    "        \n",
    "        # clean dicts\n",
    "        self.nodes = {k: v for k, v in self.nodes.items() if v}\n",
    "        self.coords = {k: v for k, v in self.coords.items() if v}\n",
    "        \n",
    "    def path(self):\n",
    "        location = self.nodes[0][self.coords[0][0]] #first node\n",
    "        facing = 0\n",
    "        for i in self.instructions:\n",
    "            if i == \"L\":\n",
    "                facing = (facing - 1) % 4\n",
    "            elif i == \"R\":\n",
    "                facing = (facing + 1) % 4\n",
    "            else:\n",
    "                direction = directions[facing]\n",
    "                for _ in range(int(i)):\n",
    "                    if location.neighbours[direction] is None:\n",
    "                        break\n",
    "                    else:\n",
    "                        location = location.neighbours[direction]\n",
    "        password = 1000 * (location.y + 1) + 4 * (location.x + 1) + facing\n",
    "        return password, location.y, location.x, facing\n",
    "\n",
    "class Cube:\n",
    "    def __init__(self, map_instructions, face_coordinates, face_links):\n",
    "        self.nodes = defaultdict(dict)\n",
    "        self.coords = defaultdict(list)\n",
    "        self.instructions = re.split(r\"([LR])\", map_instructions[-1])\n",
    "        mapstrings = map_instructions[:-2]\n",
    "        self.l = math.isqrt(sum(sum(x != ' ' for x in l) for l in mapstrings) // 6)\n",
    "        n_col = 0\n",
    "        for j, r in enumerate(mapstrings):\n",
    "            n_col = max(n_col, len(r))\n",
    "            for k, c in enumerate(r):\n",
    "                if c == '.':\n",
    "                    self.nodes[j][k] = Node(j, k)\n",
    "                    self.coords[j].append(k)\n",
    "                    if k in self.coords[j - 1]:\n",
    "                        self.nodes[j][k].neighbours[\"up\"] = self.nodes[j - 1][k]\n",
    "                        self.nodes[j-1][k].neighbours[\"down\"] = self.nodes[j][k]\n",
    "                    if k - 1 in self.coords[j]:\n",
    "                        self.nodes[j][k].neighbours[\"left\"] = self.nodes[j][k - 1]\n",
    "                        self.nodes[j][k - 1].neighbours[\"right\"] = self.nodes[j][k]\n",
    "        for (f_n1, d1), (f_n2, d2) in face_links:\n",
    "            self.join(face_coordinates[f_n1], face_coordinates[f_n2], d1, d2)\n",
    "        # clean dicts\n",
    "        self.nodes == {k: v for k, v in self.nodes.items() if v}\n",
    "        self.coords == {k: v for k, v in self.coords.items() if v}\n",
    "\n",
    "        \n",
    "    def side(self, face, direction):\n",
    "        if direction == 0:\n",
    "            return ((face[0] * self.l + k, (face[1] + 1) * self.l - 1) for k in range(self.l))\n",
    "        if direction == 1:\n",
    "            return (((face[0] + 1) * self.l - 1, face[1] * self.l + k) for k in range(self.l))\n",
    "        if direction == 2:\n",
    "            return ((face[0] * self.l + k, face[1] * self.l) for k in range(self.l))\n",
    "        if direction == 3:\n",
    "            return ((face[0] * self.l, face[1] * self.l + k) for k in range(self.l))\n",
    "\n",
    "    def join(self, face1, face2, dir1, dir2):\n",
    "        s1, s2 = self.side(face1, dir1), self.side(face2, dir2)\n",
    "        if dir1 == dir2 or set((dir1, dir2)) == {1, 2} or set((dir1, dir2)) == {0, 3}: #condition on dir1, dir2 to determine whether to reverse\n",
    "            s2 = (x for x in list(s2)[::-1])\n",
    "        for (y1, x1), (y2, x2) in zip(s1, s2):\n",
    "            if x1 in self.coords[y1] and x2 in self.coords[y2]:\n",
    "                start = self.nodes[y1][x1]\n",
    "                end = self.nodes[y2][x2]\n",
    "                start.neighbours[directions[dir1]] = end\n",
    "                end.neighbours[directions[dir2]] = start\n",
    "                start.face[directions[dir1]] = (dir2 + 2) % 4\n",
    "                end.face[directions[dir2]] = (dir1 + 2) % 4\n",
    "                    \n",
    "    def path(self):\n",
    "        location = self.nodes[0][self.coords[0][0]] #first node\n",
    "        facing = 0\n",
    "        for i in self.instructions:\n",
    "            if i == \"L\":\n",
    "                facing = (facing - 1) % 4\n",
    "            elif i == \"R\":\n",
    "                facing = (facing + 1) % 4\n",
    "            else:\n",
    "                for _ in range(int(i)):\n",
    "                    direction = directions[facing]\n",
    "                    if location.neighbours[direction]:\n",
    "                        facing = location.face[direction]\n",
    "                        location = location.neighbours[direction]\n",
    "                    else:\n",
    "                        continue\n",
    "\n",
    "                    #print(1000 * (location.y + 1) + 4 * (location.x + 1) + facing, location.y + 1, location.x + 1, facing)\n",
    "        password = 1000 * (location.y + 1) + 4 * (location.x + 1) + facing\n",
    "        return password, location.y, location.x, facing\n"
   ]
  },
  {
   "cell_type": "code",
   "execution_count": 74,
   "id": "e469d331-ff59-44e8-bb97-9c799440e762",
   "metadata": {},
   "outputs": [],
   "source": [
    "input_file = \"22_input.txt\"\n",
    "face_coordinates = {1: (0, 1), 2: (0, 2), 3: (1, 1), 4: (3, 0), 5: (2, 0), 6: (2, 1)}\n",
    "face_links = (\n",
    "    ((1, 3), (4, 2)),\n",
    "    ((1, 2), (5, 2)),\n",
    "    ((2, 3), (4, 1)),\n",
    "    ((2, 0), (6, 0)),\n",
    "    ((2, 1), (3, 0)),\n",
    "    ((3, 2), (5, 3)),\n",
    "    ((4, 0), (6, 1)),\n",
    ")\n",
    "\n",
    "with open(input_file) as f:\n",
    "    inputstrings = [line.rstrip('\\n') for line in f]\n",
    "\n",
    "\n",
    "sample_file = \"22_sample.txt\"\n",
    "sample_coordinates = {1: (0, 2), 2: (1, 1), 3: (1, 2), 4: (1, 0), 5: (2, 3), 6: (2, 2)}\n",
    "sample_links = (\n",
    "    ((1, 0), (5, 0)),\n",
    "    ((3, 0), (5, 3)),\n",
    "    ((1, 2), (2, 3)),\n",
    "    ((1, 3), (4, 3)),\n",
    "    ((4, 2), (5, 1)),\n",
    "    ((2, 1), (6, 2)),\n",
    "    ((4, 1), (6, 1)),\n",
    ")\n",
    "\n",
    "    \n",
    "with open(sample_file) as f:\n",
    "    samplestrings = [line.rstrip('\\n') for line in f]"
   ]
  },
  {
   "cell_type": "code",
   "execution_count": 75,
   "id": "0d022df7-f7e3-43be-a06f-69c30ecb4483",
   "metadata": {},
   "outputs": [
    {
     "name": "stdout",
     "output_type": "stream",
     "text": [
      "(6032, 5, 7, 0)\n",
      "(5031, 4, 6, 3)\n"
     ]
    }
   ],
   "source": [
    "myboard = Board(samplestrings)\n",
    "print(myboard.path())\n",
    "cube = Cube(samplestrings, sample_coordinates, sample_links)\n",
    "print(cube.path())"
   ]
  },
  {
   "cell_type": "code",
   "execution_count": 76,
   "id": "ce1bd5dc-ba48-449c-8dcd-02768851975e",
   "metadata": {},
   "outputs": [
    {
     "data": {
      "text/plain": [
       "(155060, 154, 14, 0)"
      ]
     },
     "execution_count": 76,
     "metadata": {},
     "output_type": "execute_result"
    }
   ],
   "source": [
    "myboard = Board(inputstrings)\n",
    "myboard.path()"
   ]
  },
  {
   "cell_type": "code",
   "execution_count": 77,
   "id": "f8bc7fc0-28cd-4b29-b1fd-e0a2582202f9",
   "metadata": {},
   "outputs": [
    {
     "data": {
      "text/plain": [
       "{8: <__main__.Node at 0x114210580>,\n",
       " 9: <__main__.Node at 0x114210040>,\n",
       " 10: <__main__.Node at 0x11495a910>}"
      ]
     },
     "execution_count": 77,
     "metadata": {},
     "output_type": "execute_result"
    }
   ],
   "source": [
    "cube.nodes[0]"
   ]
  },
  {
   "cell_type": "code",
   "execution_count": 78,
   "id": "e361cde7-1846-435f-b544-498a6465dcf0",
   "metadata": {},
   "outputs": [
    {
     "data": {
      "text/plain": [
       "(3479, 2, 118, 3)"
      ]
     },
     "execution_count": 78,
     "metadata": {},
     "output_type": "execute_result"
    }
   ],
   "source": [
    "cube = Cube(inputstrings, face_coordinates, face_links)\n",
    "cube.path()"
   ]
  },
  {
   "cell_type": "code",
   "execution_count": null,
   "id": "36e510fc-bbca-402a-af57-52b535f9c31a",
   "metadata": {},
   "outputs": [],
   "source": [
    "\n"
   ]
  }
 ],
 "metadata": {
  "kernelspec": {
   "display_name": "Python 3 (ipykernel)",
   "language": "python",
   "name": "python3"
  },
  "language_info": {
   "codemirror_mode": {
    "name": "ipython",
    "version": 3
   },
   "file_extension": ".py",
   "mimetype": "text/x-python",
   "name": "python",
   "nbconvert_exporter": "python",
   "pygments_lexer": "ipython3",
   "version": "3.9.12"
  }
 },
 "nbformat": 4,
 "nbformat_minor": 5
}
