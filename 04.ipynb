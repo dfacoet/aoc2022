{
 "cells": [
  {
   "cell_type": "code",
   "execution_count": 1,
   "id": "7dd70f16-98e0-48d5-999a-e91ed8db5670",
   "metadata": {},
   "outputs": [],
   "source": [
    "input_file = \"04_input.txt\""
   ]
  },
  {
   "cell_type": "code",
   "execution_count": 2,
   "id": "e03a250d-9677-4b7e-9cef-ef5ac9e5a165",
   "metadata": {},
   "outputs": [],
   "source": [
    "def rs2n(s):\n",
    "    return list(map(int, s.split('-')))\n",
    "\n",
    "\n",
    "def proc_line(l):\n",
    "    a, b = l.rstrip().split(',')\n",
    "    return list(map(rs2n, [a,b]))\n",
    "\n",
    "\n",
    "def contained(a, b):\n",
    "    return (a[0] <= b[0]) and (a[1] >= b[1])\n",
    "\n",
    "\n",
    "def part1(ass):\n",
    "    return sum(contained(a, b) or contained(b, a) for a, b in ass)\n",
    "\n",
    "\n",
    "def overlap(a, b):\n",
    "    return not((a[1] < b[0]) or (a[0] > b[1]))\n",
    "\n",
    "\n",
    "def part2(ass):\n",
    "    return sum(overlap(a, b) for a, b in ass)"
   ]
  },
  {
   "cell_type": "code",
   "execution_count": 3,
   "id": "425e5613-9890-4fa0-87a5-bd54bd28151a",
   "metadata": {},
   "outputs": [],
   "source": [
    "with open(input_file) as f:\n",
    "    assignments = [proc_line(l) for l in f]"
   ]
  },
  {
   "cell_type": "code",
   "execution_count": 4,
   "id": "190562f5-54c9-4755-ad80-6e341bca2aad",
   "metadata": {},
   "outputs": [
    {
     "data": {
      "text/plain": [
       "595"
      ]
     },
     "execution_count": 4,
     "metadata": {},
     "output_type": "execute_result"
    }
   ],
   "source": [
    "part1(assignments)"
   ]
  },
  {
   "cell_type": "code",
   "execution_count": 5,
   "id": "3b4b66ef-4b0c-4c85-842b-c607701fc187",
   "metadata": {},
   "outputs": [
    {
     "data": {
      "text/plain": [
       "952"
      ]
     },
     "execution_count": 5,
     "metadata": {},
     "output_type": "execute_result"
    }
   ],
   "source": [
    "part2(assignments)"
   ]
  },
  {
   "cell_type": "code",
   "execution_count": null,
   "id": "6c1fc606-81ce-4c3a-be80-e8a2fdb16e12",
   "metadata": {},
   "outputs": [],
   "source": []
  }
 ],
 "metadata": {
  "kernelspec": {
   "display_name": "Python 3 (ipykernel)",
   "language": "python",
   "name": "python3"
  },
  "language_info": {
   "codemirror_mode": {
    "name": "ipython",
    "version": 3
   },
   "file_extension": ".py",
   "mimetype": "text/x-python",
   "name": "python",
   "nbconvert_exporter": "python",
   "pygments_lexer": "ipython3",
   "version": "3.9.12"
  }
 },
 "nbformat": 4,
 "nbformat_minor": 5
}
