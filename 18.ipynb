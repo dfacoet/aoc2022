{
 "cells": [
  {
   "cell_type": "code",
   "execution_count": 1,
   "id": "c1087339-0e9e-4bb6-9f49-cb5868a11fce",
   "metadata": {},
   "outputs": [],
   "source": [
    "import numpy as np\n",
    "from scipy.ndimage import binary_fill_holes"
   ]
  },
  {
   "cell_type": "code",
   "execution_count": 2,
   "id": "b4e5255a-503d-4bcb-8a8c-11254f75ef4b",
   "metadata": {},
   "outputs": [],
   "source": [
    "input_file = \"18_input.txt\""
   ]
  },
  {
   "cell_type": "code",
   "execution_count": 3,
   "id": "36df144c-608e-4093-9657-d79f75ddf693",
   "metadata": {},
   "outputs": [],
   "source": [
    "def parse_input(input_file):\n",
    "    with open(input_file) as f:\n",
    "        return np.array([list(map(int,line.rstrip().split(','))) for line in f])\n",
    "\n",
    "\n",
    "\n",
    "def surface(cubes):\n",
    "    grid = np.zeros(np.amax(cubes, axis=0) + 1, dtype=int)\n",
    "    for c in cubes:\n",
    "        grid[tuple(c)] = 1\n",
    "    edges = sum(np.sum(np.abs(np.diff(grid, axis=a, prepend=0, append=0))) for a in range(len(grid.shape)))\n",
    "    return edges\n",
    "\n",
    "\n",
    "def get_neighbours(p: tuple[int], maxr):\n",
    "    neighbours = []\n",
    "    if any(x > xmax or x < 0 for x, xmax in zip(p, maxr)):\n",
    "        raise ValueError(\"Invalid coordinates\")\n",
    "    for d, (x, xmax) in enumerate(zip(p, maxr)):\n",
    "        if x > 0:\n",
    "            n = p[:d] + (x - 1, ) + p[d+1:]\n",
    "            neighbours.append(n)\n",
    "        if x < xmax:\n",
    "            n = p[:d] + (x + 1, ) + p[d+1:]\n",
    "            neighbours.append(n)\n",
    "    return neighbours\n",
    "\n",
    "\n",
    "def external_surface(cubes):\n",
    "    cubemax = np.amax(cubes, axis=0)\n",
    "    grid = np.zeros(cubemax + 2, dtype=int)\n",
    "    for c in cubes:\n",
    "        grid[tuple(c)] = 1\n",
    "    vgrid = np.zeros(cubemax + 2, dtype=int)\n",
    "    assert grid[0,0,0] == 0\n",
    "    q = [(0, 0, 0)]\n",
    "    vgrid[0, 0, 0] = 1\n",
    "    while q:\n",
    "        current = q.pop()\n",
    "        for n in get_neighbours(current, cubemax + 1):\n",
    "            if grid[n] == 0 and vgrid[n] == 0:\n",
    "                vgrid[n] = 1\n",
    "                q.append(n)\n",
    "    # same as part1, for grid=1-vgrid\n",
    "    vgrid = 1 - vgrid\n",
    "    edges = sum(np.sum(np.abs(np.diff(vgrid, axis=a, prepend=0, append=0))) for a in range(len(vgrid.shape)))\n",
    "    return edges"
   ]
  },
  {
   "cell_type": "code",
   "execution_count": 4,
   "id": "1ec2f9d1-a001-4111-b32a-fca66479d88a",
   "metadata": {},
   "outputs": [
    {
     "data": {
      "text/plain": [
       "4348"
      ]
     },
     "execution_count": 4,
     "metadata": {},
     "output_type": "execute_result"
    }
   ],
   "source": [
    "cubes = parse_input(input_file)\n",
    "part1 = surface(cubes)\n",
    "part1"
   ]
  },
  {
   "cell_type": "code",
   "execution_count": 5,
   "id": "2412dbe0-f228-428d-aaa5-3124539471e2",
   "metadata": {},
   "outputs": [
    {
     "data": {
      "text/plain": [
       "2546"
      ]
     },
     "execution_count": 5,
     "metadata": {},
     "output_type": "execute_result"
    }
   ],
   "source": [
    "part2 = external_surface(cubes)\n",
    "part2"
   ]
  }
 ],
 "metadata": {
  "kernelspec": {
   "display_name": "Python 3 (ipykernel)",
   "language": "python",
   "name": "python3"
  },
  "language_info": {
   "codemirror_mode": {
    "name": "ipython",
    "version": 3
   },
   "file_extension": ".py",
   "mimetype": "text/x-python",
   "name": "python",
   "nbconvert_exporter": "python",
   "pygments_lexer": "ipython3",
   "version": "3.9.12"
  }
 },
 "nbformat": 4,
 "nbformat_minor": 5
}
