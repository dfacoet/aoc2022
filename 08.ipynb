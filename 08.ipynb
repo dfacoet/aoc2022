{
 "cells": [
  {
   "cell_type": "code",
   "execution_count": 62,
   "id": "b7c3cdc5-3d0e-4689-bf7d-fe23a085c710",
   "metadata": {},
   "outputs": [],
   "source": [
    "input_file = \"08_input.txt\""
   ]
  },
  {
   "cell_type": "code",
   "execution_count": 63,
   "id": "b9e44852-128a-48d5-bc4f-857fe718a371",
   "metadata": {},
   "outputs": [],
   "source": [
    "class Forest:\n",
    "    def __init__(self, grid):\n",
    "        self.trees = grid\n",
    "        self.gx, self.gy = len(grid[0]), len(grid)\n",
    "        self.check_visible()\n",
    "    \n",
    "    \n",
    "    def check_visible(self):\n",
    "        self.visibool = [[0 for _ in range(self.gx)]for _ in range(self.gy)]\n",
    "        for r in range(self.gy):\n",
    "            maxh = -1\n",
    "            for c in range(self.gx):\n",
    "                if self.trees[r][c] > maxh:\n",
    "                    self.visibool[r][c] = 1\n",
    "                    maxh = self.trees[r][c]\n",
    "                    lastvis = c\n",
    "            maxh = -1\n",
    "            for c in range(self.gx-1,lastvis,-1): # once a tree is visible from both sides, can stop\n",
    "                if self.trees[r][c] > maxh:\n",
    "                    self.visibool[r][c] = 1\n",
    "                    maxh = self.trees[r][c]\n",
    "        for c in range(self.gx):\n",
    "            maxh = -1\n",
    "            for r in range(self.gy):\n",
    "                if self.trees[r][c] > maxh:\n",
    "                    self.visibool[r][c] = 1\n",
    "                    maxh = self.trees[r][c]\n",
    "                    lastvis = r\n",
    "            maxh = -1\n",
    "            for r in range(self.gy-1,lastvis,-1): # once a tree is visible from both sides, can stop\n",
    "                if self.trees[r][c] > maxh:\n",
    "                    self.visibool[r][c] = 1\n",
    "                    maxh = self.trees[r][c]\n",
    "        \n",
    "        \n",
    "    def print_forest(self):\n",
    "        for r in self.trees[::-1]:\n",
    "             print(r)\n",
    "        print()\n",
    "        \n",
    "        \n",
    "    def print_visible(self):\n",
    "        for r in self.visibool[::-1]:\n",
    "             print(r)\n",
    "        print()\n",
    "    \n",
    "    \n",
    "    def count_visible(self):\n",
    "        return sum(sum(r) for r in self.visibool)\n",
    "    \n",
    "    \n",
    "    "
   ]
  },
  {
   "cell_type": "code",
   "execution_count": 64,
   "id": "b35d0428-f207-4f2c-a430-7ecca233a6c3",
   "metadata": {},
   "outputs": [],
   "source": [
    "with open(input_file) as f:\n",
    "    grid = [list(map(int, l.rstrip())) for l in f]"
   ]
  },
  {
   "cell_type": "code",
   "execution_count": 65,
   "id": "79e4e919-a1a9-4c15-8b43-fc8ea196dc1b",
   "metadata": {},
   "outputs": [
    {
     "data": {
      "text/plain": [
       "1733"
      ]
     },
     "execution_count": 65,
     "metadata": {},
     "output_type": "execute_result"
    }
   ],
   "source": [
    "forest = Forest(grid)\n",
    "forest.count_visible()"
   ]
  },
  {
   "cell_type": "code",
   "execution_count": 61,
   "id": "e689c528-40ca-4fca-91cb-1336f99bd4f5",
   "metadata": {},
   "outputs": [
    {
     "name": "stdout",
     "output_type": "stream",
     "text": [
      "[3, 5, 3, 9, 0]\n",
      "[3, 3, 5, 4, 9]\n",
      "[6, 5, 3, 3, 2]\n",
      "[2, 5, 5, 1, 2]\n",
      "[3, 0, 3, 7, 3]\n",
      "\n",
      "[1, 1, 1, 1, 1]\n",
      "[1, 0, 1, 0, 1]\n",
      "[1, 1, 0, 1, 1]\n",
      "[1, 1, 1, 0, 1]\n",
      "[1, 1, 1, 1, 1]\n",
      "\n"
     ]
    },
    {
     "data": {
      "text/plain": [
       "21"
      ]
     },
     "execution_count": 61,
     "metadata": {},
     "output_type": "execute_result"
    }
   ],
   "source": [
    "#forest.print_forest()\n",
    "#forest.print_visible()\n",
    "forest.count_visible()"
   ]
  },
  {
   "cell_type": "code",
   "execution_count": null,
   "id": "51430eaa-93af-48c9-bc21-3a47fa4eafbd",
   "metadata": {},
   "outputs": [],
   "source": []
  }
 ],
 "metadata": {
  "kernelspec": {
   "display_name": "Python 3 (ipykernel)",
   "language": "python",
   "name": "python3"
  },
  "language_info": {
   "codemirror_mode": {
    "name": "ipython",
    "version": 3
   },
   "file_extension": ".py",
   "mimetype": "text/x-python",
   "name": "python",
   "nbconvert_exporter": "python",
   "pygments_lexer": "ipython3",
   "version": "3.9.12"
  }
 },
 "nbformat": 4,
 "nbformat_minor": 5
}
