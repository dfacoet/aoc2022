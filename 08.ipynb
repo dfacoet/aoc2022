{
 "cells": [
  {
   "cell_type": "code",
   "execution_count": 22,
   "id": "05ad40f7-f6ff-4bb7-a4bf-84565f98a5b1",
   "metadata": {},
   "outputs": [],
   "source": [
    "import numpy as np"
   ]
  },
  {
   "cell_type": "code",
   "execution_count": 23,
   "id": "b7c3cdc5-3d0e-4689-bf7d-fe23a085c710",
   "metadata": {},
   "outputs": [],
   "source": [
    "input_file = \"08_input.txt\""
   ]
  },
  {
   "cell_type": "code",
   "execution_count": 44,
   "id": "b9e44852-128a-48d5-bc4f-857fe718a371",
   "metadata": {},
   "outputs": [],
   "source": [
    "class Forest:\n",
    "    def __init__(self, grid):\n",
    "        self.trees = np.array(grid)\n",
    "        self.gx, self.gy = self.trees.shape\n",
    "        self.check_visible()\n",
    "        self.compute_scenic_scores()\n",
    "    \n",
    "    \n",
    "    def check_visible(self):\n",
    "        self.visibools = dict(zip('LRUD', [[[0 for _ in range(self.gx)]for _ in range(self.gy)] for _ in 'LRUD']))\n",
    "        for r in range(self.gy):\n",
    "            maxh = -1\n",
    "            for c in range(self.gx):\n",
    "                if self.trees[r][c] > maxh:\n",
    "                    self.visibools['L'][r][c] = 1\n",
    "                    maxh = self.trees[r][c]\n",
    "            maxh = -1\n",
    "            for c in range(self.gx-1, -1, -1): # once a tree is visible from both sides, can stop\n",
    "                if self.trees[r][c] > maxh:\n",
    "                    self.visibools['R'][r][c] = 1\n",
    "                    maxh = self.trees[r][c]\n",
    "        for c in range(self.gx):\n",
    "            maxh = -1\n",
    "            for r in range(self.gy):\n",
    "                if self.trees[r][c] > maxh:\n",
    "                    self.visibools['D'][r][c] = 1\n",
    "                    maxh = self.trees[r][c]\n",
    "            maxh = -1\n",
    "            for r in range(self.gy-1, -1, -1): # once a tree is visible from both sides, can stop\n",
    "                if self.trees[r][c] > maxh:\n",
    "                    self.visibools['U'][r][c] = 1\n",
    "                    maxh = self.trees[r][c]\n",
    "        self.visibool = [[sum(self.visibools[d][r][c] for d in 'LRUD') for c in range(self.gx)] for r in range(self.gy)]\n",
    "\n",
    "    \n",
    "    def print_forest(self):\n",
    "        for r in self.trees[::-1]:\n",
    "             print(r)\n",
    "        print()\n",
    "        \n",
    "        \n",
    "    def print_visible(self):\n",
    "        for r in self.visibool[::-1]:\n",
    "             print(r)\n",
    "        print()\n",
    "    \n",
    "    \n",
    "    def count_visible(self):\n",
    "        return sum(sum(1 for c in r if c > 0) for r in self.visibool)\n",
    "    \n",
    "    \n",
    "    def scenic_score(self, r, c):\n",
    "        if r==0 or c==0 or r==self.gy-1 or c==self.gx-1:\n",
    "            return 0\n",
    "        h = self.trees[r, c]\n",
    "        #UDLR\n",
    "        rays = [\n",
    "            self.trees[r+1:, c],\n",
    "            self.trees[r-1::-1, c],\n",
    "            self.trees[r, c+1:],\n",
    "            self.trees[r, c-1::-1]\n",
    "        ]\n",
    "        return np.product([compute_view(h, ray) for ray in rays])\n",
    "    \n",
    "    \n",
    "    def compute_scenic_scores(self):\n",
    "        self.scores = [[self.scenic_score(r, c) for c in range(self.gx)]for r in range(self.gy)]\n",
    "        \n",
    "    \n",
    "    def max_score(self):\n",
    "        return np.max(self.scores)\n",
    "\n",
    "        \n",
    "def compute_view(currh, ray):\n",
    "    for k, tree_height in enumerate(ray):\n",
    "        if tree_height >= currh:\n",
    "            return k + 1\n",
    "    #raises error if len(ray) is zero - that's ok\n",
    "    return k + 1"
   ]
  },
  {
   "cell_type": "code",
   "execution_count": 45,
   "id": "b35d0428-f207-4f2c-a430-7ecca233a6c3",
   "metadata": {},
   "outputs": [],
   "source": [
    "with open(input_file) as f:\n",
    "    grid = [list(map(int, l.rstrip())) for l in f]"
   ]
  },
  {
   "cell_type": "code",
   "execution_count": 46,
   "id": "79e4e919-a1a9-4c15-8b43-fc8ea196dc1b",
   "metadata": {},
   "outputs": [
    {
     "data": {
      "text/plain": [
       "1733"
      ]
     },
     "execution_count": 46,
     "metadata": {},
     "output_type": "execute_result"
    }
   ],
   "source": [
    "#part1\n",
    "forest = Forest(grid)\n",
    "forest.count_visible()"
   ]
  },
  {
   "cell_type": "code",
   "execution_count": 49,
   "id": "c78d997a-fbf4-4f52-90e9-8c2cacab8709",
   "metadata": {},
   "outputs": [
    {
     "data": {
      "text/plain": [
       "284648"
      ]
     },
     "execution_count": 49,
     "metadata": {},
     "output_type": "execute_result"
    }
   ],
   "source": [
    "#part2\n",
    "forest.max_score()"
   ]
  },
  {
   "cell_type": "code",
   "execution_count": null,
   "id": "97d1379a-f7c1-4115-a99f-3b860f744629",
   "metadata": {},
   "outputs": [],
   "source": []
  }
 ],
 "metadata": {
  "kernelspec": {
   "display_name": "Python 3 (ipykernel)",
   "language": "python",
   "name": "python3"
  },
  "language_info": {
   "codemirror_mode": {
    "name": "ipython",
    "version": 3
   },
   "file_extension": ".py",
   "mimetype": "text/x-python",
   "name": "python",
   "nbconvert_exporter": "python",
   "pygments_lexer": "ipython3",
   "version": "3.9.12"
  }
 },
 "nbformat": 4,
 "nbformat_minor": 5
}
