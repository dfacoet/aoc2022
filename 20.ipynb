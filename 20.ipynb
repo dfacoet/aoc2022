{
 "cells": [
  {
   "cell_type": "code",
   "execution_count": 132,
   "id": "2622a221-0940-4e7b-a57f-0235a64673b6",
   "metadata": {},
   "outputs": [],
   "source": [
    "import tqdm.notebook as tqdm"
   ]
  },
  {
   "cell_type": "code",
   "execution_count": 133,
   "id": "cbd5c3a2-95f0-41e5-bc53-1cd0646ab87a",
   "metadata": {},
   "outputs": [],
   "source": [
    "sample = [1, 2, -3, 3, -2, 0, 4]\n",
    "\n",
    "input_file = \"20_input.txt\"\n",
    "with open(input_file) as f:\n",
    "    encr = [int(line.rstrip()) for line in f]"
   ]
  },
  {
   "cell_type": "code",
   "execution_count": 164,
   "id": "f335c22d-18d9-4abb-afbc-48d671dfebb8",
   "metadata": {},
   "outputs": [],
   "source": [
    "class Node:\n",
    "    def __init__(self, value):\n",
    "        self.value = value\n",
    "    \n",
    "    def move_right(self):\n",
    "        a = self.left\n",
    "        n = self.right\n",
    "        nn = self.right.right\n",
    "        a.right, self.right, n.right, self.left, n.left, nn.left = n, nn, self, n, a, self\n",
    "    \n",
    "    def move_left(self):\n",
    "        aa = self.left.left\n",
    "        a = self.left\n",
    "        n = self.right\n",
    "        aa.right, a.right, self.right, a.left, self.left, n.left = self, n, a, self, aa, a\n",
    "\n",
    "class DoubleList:\n",
    "    def __init__(self, numbers):\n",
    "        self.nodes = [Node(x) for x in numbers]\n",
    "        for k, node in enumerate(self.nodes):\n",
    "            node.right = self.nodes[(k + 1) % self.l]\n",
    "            self.nodes[(k + 1) % self.l].left = node\n",
    "    \n",
    "    @property\n",
    "    def l(self):\n",
    "        return len(self.nodes)\n",
    "    \n",
    "    def list(self):\n",
    "        return [n.value for n in self.nodes]\n",
    "    \n",
    "    def list2(self):\n",
    "        # start from self.nodes[0] - need to change this to keep track of the head\n",
    "        node = self.nodes[0]\n",
    "        dl = []\n",
    "        for _ in range(self.l):\n",
    "            dl.append(node.value)\n",
    "            node = node.right\n",
    "        return dl\n",
    "    \n",
    "    def mix(self):\n",
    "        for node in tqdm.tqdm(self.nodes):\n",
    "            # steps = node.value % self.l\n",
    "            # [node.move_right() for _ in range(node.value)]\n",
    "            if node.value > 0:\n",
    "                [node.move_right() for _ in range(node.value % (self.l - 1))]\n",
    "            elif node.value < 0:\n",
    "                [node.move_left() for _ in range(-node.value % (self.l - 1))]\n",
    "    \n",
    "    def part1(self):\n",
    "        dl = self.list2()\n",
    "        z = dl.index(0)\n",
    "        coords = [dl[(z+k) % self.l] for k in [1000, 2000, 3000]]\n",
    "        return sum(coords), coords\n",
    "\n",
    "class DoubleList2(DoubleList):\n",
    "    def __init__(self, numbers, key=811589153):\n",
    "        new_numbers = [n * key for n in numbers]\n",
    "        DoubleList.__init__(self, new_numbers)\n",
    "    \n",
    "    \n",
    "    def mix(self, n_times=10):\n",
    "        for _ in range(n_times):\n",
    "            DoubleList.mix(self)\n",
    "        "
   ]
  },
  {
   "cell_type": "code",
   "execution_count": 166,
   "id": "a491239b-f731-4a83-accf-a15c38e5c490",
   "metadata": {},
   "outputs": [
    {
     "data": {
      "application/json": {
       "ascii": false,
       "bar_format": null,
       "colour": null,
       "elapsed": 0.01088714599609375,
       "initial": 0,
       "n": 0,
       "ncols": null,
       "nrows": 36,
       "postfix": null,
       "prefix": "",
       "rate": null,
       "total": 5000,
       "unit": "it",
       "unit_divisor": 1000,
       "unit_scale": false
      },
      "application/vnd.jupyter.widget-view+json": {
       "model_id": "6bf176fe97f94a4ea268bbdf64a16c87",
       "version_major": 2,
       "version_minor": 0
      },
      "text/plain": [
       "  0%|          | 0/5000 [00:00<?, ?it/s]"
      ]
     },
     "metadata": {},
     "output_type": "display_data"
    },
    {
     "data": {
      "text/plain": [
       "(18257, [1670, 7947, 8640])"
      ]
     },
     "execution_count": 166,
     "metadata": {},
     "output_type": "execute_result"
    }
   ],
   "source": [
    "encrypted = DoubleList(encr)\n",
    "\n",
    "# print(encrypted.list())\n",
    "# print(encrypted.list2())\n",
    "\n",
    "encrypted.mix()\n",
    "\n",
    "# print(encrypted.list())\n",
    "# print(encrypted.list2())\n",
    "encrypted.part1()"
   ]
  },
  {
   "cell_type": "code",
   "execution_count": 169,
   "id": "e2d72992-869f-4f59-be3e-7ad94bd66f1d",
   "metadata": {},
   "outputs": [
    {
     "data": {
      "application/json": {
       "ascii": false,
       "bar_format": null,
       "colour": null,
       "elapsed": 0.014403104782104492,
       "initial": 0,
       "n": 0,
       "ncols": null,
       "nrows": 36,
       "postfix": null,
       "prefix": "",
       "rate": null,
       "total": 5000,
       "unit": "it",
       "unit_divisor": 1000,
       "unit_scale": false
      },
      "application/vnd.jupyter.widget-view+json": {
       "model_id": "c3587aa6f6554dba841d25d845abb274",
       "version_major": 2,
       "version_minor": 0
      },
      "text/plain": [
       "  0%|          | 0/5000 [00:00<?, ?it/s]"
      ]
     },
     "metadata": {},
     "output_type": "display_data"
    },
    {
     "data": {
      "application/json": {
       "ascii": false,
       "bar_format": null,
       "colour": null,
       "elapsed": 0.006635904312133789,
       "initial": 0,
       "n": 0,
       "ncols": null,
       "nrows": 36,
       "postfix": null,
       "prefix": "",
       "rate": null,
       "total": 5000,
       "unit": "it",
       "unit_divisor": 1000,
       "unit_scale": false
      },
      "application/vnd.jupyter.widget-view+json": {
       "model_id": "2fe60d85c5e94caf9bd53c42bcfd8273",
       "version_major": 2,
       "version_minor": 0
      },
      "text/plain": [
       "  0%|          | 0/5000 [00:00<?, ?it/s]"
      ]
     },
     "metadata": {},
     "output_type": "display_data"
    },
    {
     "data": {
      "application/json": {
       "ascii": false,
       "bar_format": null,
       "colour": null,
       "elapsed": 0.006886005401611328,
       "initial": 0,
       "n": 0,
       "ncols": null,
       "nrows": 36,
       "postfix": null,
       "prefix": "",
       "rate": null,
       "total": 5000,
       "unit": "it",
       "unit_divisor": 1000,
       "unit_scale": false
      },
      "application/vnd.jupyter.widget-view+json": {
       "model_id": "bb99e014a2d64959aab7c7d5e38c6da0",
       "version_major": 2,
       "version_minor": 0
      },
      "text/plain": [
       "  0%|          | 0/5000 [00:00<?, ?it/s]"
      ]
     },
     "metadata": {},
     "output_type": "display_data"
    },
    {
     "data": {
      "application/json": {
       "ascii": false,
       "bar_format": null,
       "colour": null,
       "elapsed": 0.006421089172363281,
       "initial": 0,
       "n": 0,
       "ncols": null,
       "nrows": 36,
       "postfix": null,
       "prefix": "",
       "rate": null,
       "total": 5000,
       "unit": "it",
       "unit_divisor": 1000,
       "unit_scale": false
      },
      "application/vnd.jupyter.widget-view+json": {
       "model_id": "2f5d2f21afc44fec8a8801df1b8eeb7f",
       "version_major": 2,
       "version_minor": 0
      },
      "text/plain": [
       "  0%|          | 0/5000 [00:00<?, ?it/s]"
      ]
     },
     "metadata": {},
     "output_type": "display_data"
    },
    {
     "data": {
      "application/json": {
       "ascii": false,
       "bar_format": null,
       "colour": null,
       "elapsed": 0.006604194641113281,
       "initial": 0,
       "n": 0,
       "ncols": null,
       "nrows": 36,
       "postfix": null,
       "prefix": "",
       "rate": null,
       "total": 5000,
       "unit": "it",
       "unit_divisor": 1000,
       "unit_scale": false
      },
      "application/vnd.jupyter.widget-view+json": {
       "model_id": "21d7a593327149cb9da672c83ece2fcf",
       "version_major": 2,
       "version_minor": 0
      },
      "text/plain": [
       "  0%|          | 0/5000 [00:00<?, ?it/s]"
      ]
     },
     "metadata": {},
     "output_type": "display_data"
    },
    {
     "data": {
      "application/json": {
       "ascii": false,
       "bar_format": null,
       "colour": null,
       "elapsed": 0.006512880325317383,
       "initial": 0,
       "n": 0,
       "ncols": null,
       "nrows": 36,
       "postfix": null,
       "prefix": "",
       "rate": null,
       "total": 5000,
       "unit": "it",
       "unit_divisor": 1000,
       "unit_scale": false
      },
      "application/vnd.jupyter.widget-view+json": {
       "model_id": "4a2c0e88df1342d4bdc7414debfe5a5e",
       "version_major": 2,
       "version_minor": 0
      },
      "text/plain": [
       "  0%|          | 0/5000 [00:00<?, ?it/s]"
      ]
     },
     "metadata": {},
     "output_type": "display_data"
    },
    {
     "data": {
      "application/json": {
       "ascii": false,
       "bar_format": null,
       "colour": null,
       "elapsed": 0.006307125091552734,
       "initial": 0,
       "n": 0,
       "ncols": null,
       "nrows": 36,
       "postfix": null,
       "prefix": "",
       "rate": null,
       "total": 5000,
       "unit": "it",
       "unit_divisor": 1000,
       "unit_scale": false
      },
      "application/vnd.jupyter.widget-view+json": {
       "model_id": "20e8c0b3f0b64476a84ee92c4c043a4b",
       "version_major": 2,
       "version_minor": 0
      },
      "text/plain": [
       "  0%|          | 0/5000 [00:00<?, ?it/s]"
      ]
     },
     "metadata": {},
     "output_type": "display_data"
    },
    {
     "data": {
      "application/json": {
       "ascii": false,
       "bar_format": null,
       "colour": null,
       "elapsed": 0.006401777267456055,
       "initial": 0,
       "n": 0,
       "ncols": null,
       "nrows": 36,
       "postfix": null,
       "prefix": "",
       "rate": null,
       "total": 5000,
       "unit": "it",
       "unit_divisor": 1000,
       "unit_scale": false
      },
      "application/vnd.jupyter.widget-view+json": {
       "model_id": "eefb29be91c547a6b9b27c76834a2249",
       "version_major": 2,
       "version_minor": 0
      },
      "text/plain": [
       "  0%|          | 0/5000 [00:00<?, ?it/s]"
      ]
     },
     "metadata": {},
     "output_type": "display_data"
    },
    {
     "data": {
      "application/json": {
       "ascii": false,
       "bar_format": null,
       "colour": null,
       "elapsed": 0.006368875503540039,
       "initial": 0,
       "n": 0,
       "ncols": null,
       "nrows": 36,
       "postfix": null,
       "prefix": "",
       "rate": null,
       "total": 5000,
       "unit": "it",
       "unit_divisor": 1000,
       "unit_scale": false
      },
      "application/vnd.jupyter.widget-view+json": {
       "model_id": "39cb6c1da2f44b5487011c73c83694f4",
       "version_major": 2,
       "version_minor": 0
      },
      "text/plain": [
       "  0%|          | 0/5000 [00:00<?, ?it/s]"
      ]
     },
     "metadata": {},
     "output_type": "display_data"
    },
    {
     "data": {
      "application/json": {
       "ascii": false,
       "bar_format": null,
       "colour": null,
       "elapsed": 0.0068280696868896484,
       "initial": 0,
       "n": 0,
       "ncols": null,
       "nrows": 36,
       "postfix": null,
       "prefix": "",
       "rate": null,
       "total": 5000,
       "unit": "it",
       "unit_divisor": 1000,
       "unit_scale": false
      },
      "application/vnd.jupyter.widget-view+json": {
       "model_id": "e9158c9d27c14fae94c0340b8b4331bb",
       "version_major": 2,
       "version_minor": 0
      },
      "text/plain": [
       "  0%|          | 0/5000 [00:00<?, ?it/s]"
      ]
     },
     "metadata": {},
     "output_type": "display_data"
    },
    {
     "data": {
      "text/plain": [
       "(4148032160983, [-1542830979853, -1268513846139, 6959376986975])"
      ]
     },
     "execution_count": 169,
     "metadata": {},
     "output_type": "execute_result"
    }
   ],
   "source": [
    "encrypted = DoubleList2(encr)\n",
    "encrypted.mix()\n",
    "encrypted.part1()"
   ]
  },
  {
   "cell_type": "code",
   "execution_count": null,
   "id": "9a9ec236-6bbf-4d81-85d0-c137f86f9bdb",
   "metadata": {},
   "outputs": [],
   "source": []
  }
 ],
 "metadata": {
  "kernelspec": {
   "display_name": "Python 3 (ipykernel)",
   "language": "python",
   "name": "python3"
  },
  "language_info": {
   "codemirror_mode": {
    "name": "ipython",
    "version": 3
   },
   "file_extension": ".py",
   "mimetype": "text/x-python",
   "name": "python",
   "nbconvert_exporter": "python",
   "pygments_lexer": "ipython3",
   "version": "3.9.12"
  }
 },
 "nbformat": 4,
 "nbformat_minor": 5
}
