{
 "cells": [
  {
   "cell_type": "code",
   "execution_count": 1,
   "id": "2622a221-0940-4e7b-a57f-0235a64673b6",
   "metadata": {},
   "outputs": [],
   "source": [
    "import tqdm.notebook as tqdm"
   ]
  },
  {
   "cell_type": "code",
   "execution_count": 2,
   "id": "cbd5c3a2-95f0-41e5-bc53-1cd0646ab87a",
   "metadata": {},
   "outputs": [],
   "source": [
    "sample = [1, 2, -3, 3, -2, 0, 4]\n",
    "\n",
    "input_file = \"20_input.txt\"\n",
    "with open(input_file) as f:\n",
    "    encr = [int(line.rstrip()) for line in f]"
   ]
  },
  {
   "cell_type": "code",
   "execution_count": 3,
   "id": "f335c22d-18d9-4abb-afbc-48d671dfebb8",
   "metadata": {},
   "outputs": [],
   "source": [
    "class Node:\n",
    "    def __init__(self, value):\n",
    "        self.value = value\n",
    "    \n",
    "    def move_right(self):\n",
    "        a = self.left\n",
    "        n = self.right\n",
    "        nn = self.right.right\n",
    "        a.right, self.right, n.right, self.left, n.left, nn.left = n, nn, self, n, a, self\n",
    "    \n",
    "    def move_left(self):\n",
    "        aa = self.left.left\n",
    "        a = self.left\n",
    "        n = self.right\n",
    "        aa.right, a.right, self.right, a.left, self.left, n.left = self, n, a, self, aa, a\n",
    "\n",
    "class DoubleList:\n",
    "    def __init__(self, numbers):\n",
    "        self.nodes = [Node(x) for x in numbers]\n",
    "        for k, node in enumerate(self.nodes):\n",
    "            node.right = self.nodes[(k + 1) % self.l]\n",
    "            self.nodes[(k + 1) % self.l].left = node\n",
    "    \n",
    "    @property\n",
    "    def l(self):\n",
    "        return len(self.nodes)\n",
    "    \n",
    "    def list(self):\n",
    "        return [n.value for n in self.nodes]\n",
    "    \n",
    "    def list2(self):\n",
    "        # start from self.nodes[0] - need to change this to keep track of the head\n",
    "        node = self.nodes[0]\n",
    "        dl = []\n",
    "        for _ in range(self.l):\n",
    "            dl.append(node.value)\n",
    "            node = node.right\n",
    "        return dl\n",
    "    \n",
    "    def mix(self):\n",
    "        for node in tqdm.tqdm(self.nodes):\n",
    "            # steps = node.value % self.l\n",
    "            # [node.move_right() for _ in range(node.value)]\n",
    "            if node.value > 0:\n",
    "                [node.move_right() for _ in range(node.value % (self.l - 1))]\n",
    "            elif node.value < 0:\n",
    "                [node.move_left() for _ in range(-node.value % (self.l - 1))]\n",
    "    \n",
    "    def part1(self):\n",
    "        dl = self.list2()\n",
    "        z = dl.index(0)\n",
    "        coords = [dl[(z+k) % self.l] for k in [1000, 2000, 3000]]\n",
    "        return sum(coords), coords\n",
    "\n",
    "class DoubleList2(DoubleList):\n",
    "    def __init__(self, numbers, key=811589153):\n",
    "        new_numbers = [n * key for n in numbers]\n",
    "        DoubleList.__init__(self, new_numbers)\n",
    "    \n",
    "    \n",
    "    def mix(self, n_times=10):\n",
    "        for _ in range(n_times):\n",
    "            DoubleList.mix(self)\n",
    "        "
   ]
  },
  {
   "cell_type": "code",
   "execution_count": 4,
   "id": "a491239b-f731-4a83-accf-a15c38e5c490",
   "metadata": {},
   "outputs": [
    {
     "data": {
      "application/json": {
       "ascii": false,
       "bar_format": null,
       "colour": null,
       "elapsed": 0.010453939437866211,
       "initial": 0,
       "n": 0,
       "ncols": null,
       "nrows": 36,
       "postfix": null,
       "prefix": "",
       "rate": null,
       "total": 5000,
       "unit": "it",
       "unit_divisor": 1000,
       "unit_scale": false
      },
      "application/vnd.jupyter.widget-view+json": {
       "model_id": "54fda23a08174a1e9429686b03d957c4",
       "version_major": 2,
       "version_minor": 0
      },
      "text/plain": [
       "  0%|          | 0/5000 [00:00<?, ?it/s]"
      ]
     },
     "metadata": {},
     "output_type": "display_data"
    },
    {
     "data": {
      "text/plain": [
       "(18257, [1670, 7947, 8640])"
      ]
     },
     "execution_count": 4,
     "metadata": {},
     "output_type": "execute_result"
    }
   ],
   "source": [
    "encrypted = DoubleList(encr)\n",
    "encrypted.mix()\n",
    "encrypted.part1()"
   ]
  },
  {
   "cell_type": "code",
   "execution_count": 5,
   "id": "e2d72992-869f-4f59-be3e-7ad94bd66f1d",
   "metadata": {},
   "outputs": [
    {
     "data": {
      "application/json": {
       "ascii": false,
       "bar_format": null,
       "colour": null,
       "elapsed": 0.00754094123840332,
       "initial": 0,
       "n": 0,
       "ncols": null,
       "nrows": 36,
       "postfix": null,
       "prefix": "",
       "rate": null,
       "total": 5000,
       "unit": "it",
       "unit_divisor": 1000,
       "unit_scale": false
      },
      "application/vnd.jupyter.widget-view+json": {
       "model_id": "a73532616fcc418a9e4af00727e077f6",
       "version_major": 2,
       "version_minor": 0
      },
      "text/plain": [
       "  0%|          | 0/5000 [00:00<?, ?it/s]"
      ]
     },
     "metadata": {},
     "output_type": "display_data"
    },
    {
     "data": {
      "application/json": {
       "ascii": false,
       "bar_format": null,
       "colour": null,
       "elapsed": 0.006536006927490234,
       "initial": 0,
       "n": 0,
       "ncols": null,
       "nrows": 36,
       "postfix": null,
       "prefix": "",
       "rate": null,
       "total": 5000,
       "unit": "it",
       "unit_divisor": 1000,
       "unit_scale": false
      },
      "application/vnd.jupyter.widget-view+json": {
       "model_id": "cf1d2b5fba9046efb9815517c94a693c",
       "version_major": 2,
       "version_minor": 0
      },
      "text/plain": [
       "  0%|          | 0/5000 [00:00<?, ?it/s]"
      ]
     },
     "metadata": {},
     "output_type": "display_data"
    },
    {
     "data": {
      "application/json": {
       "ascii": false,
       "bar_format": null,
       "colour": null,
       "elapsed": 0.006421089172363281,
       "initial": 0,
       "n": 0,
       "ncols": null,
       "nrows": 36,
       "postfix": null,
       "prefix": "",
       "rate": null,
       "total": 5000,
       "unit": "it",
       "unit_divisor": 1000,
       "unit_scale": false
      },
      "application/vnd.jupyter.widget-view+json": {
       "model_id": "283e7c807c5a4d739c20e00b9fa4be91",
       "version_major": 2,
       "version_minor": 0
      },
      "text/plain": [
       "  0%|          | 0/5000 [00:00<?, ?it/s]"
      ]
     },
     "metadata": {},
     "output_type": "display_data"
    },
    {
     "data": {
      "application/json": {
       "ascii": false,
       "bar_format": null,
       "colour": null,
       "elapsed": 0.006693840026855469,
       "initial": 0,
       "n": 0,
       "ncols": null,
       "nrows": 36,
       "postfix": null,
       "prefix": "",
       "rate": null,
       "total": 5000,
       "unit": "it",
       "unit_divisor": 1000,
       "unit_scale": false
      },
      "application/vnd.jupyter.widget-view+json": {
       "model_id": "8b6a10129b204d26ba875cbf210178ad",
       "version_major": 2,
       "version_minor": 0
      },
      "text/plain": [
       "  0%|          | 0/5000 [00:00<?, ?it/s]"
      ]
     },
     "metadata": {},
     "output_type": "display_data"
    },
    {
     "data": {
      "application/json": {
       "ascii": false,
       "bar_format": null,
       "colour": null,
       "elapsed": 0.006590843200683594,
       "initial": 0,
       "n": 0,
       "ncols": null,
       "nrows": 36,
       "postfix": null,
       "prefix": "",
       "rate": null,
       "total": 5000,
       "unit": "it",
       "unit_divisor": 1000,
       "unit_scale": false
      },
      "application/vnd.jupyter.widget-view+json": {
       "model_id": "752442a8645249e386b15c52a1ec5a3c",
       "version_major": 2,
       "version_minor": 0
      },
      "text/plain": [
       "  0%|          | 0/5000 [00:00<?, ?it/s]"
      ]
     },
     "metadata": {},
     "output_type": "display_data"
    },
    {
     "data": {
      "application/json": {
       "ascii": false,
       "bar_format": null,
       "colour": null,
       "elapsed": 0.0067250728607177734,
       "initial": 0,
       "n": 0,
       "ncols": null,
       "nrows": 36,
       "postfix": null,
       "prefix": "",
       "rate": null,
       "total": 5000,
       "unit": "it",
       "unit_divisor": 1000,
       "unit_scale": false
      },
      "application/vnd.jupyter.widget-view+json": {
       "model_id": "d1cb8ae1a6604c7dad439d93323bd10e",
       "version_major": 2,
       "version_minor": 0
      },
      "text/plain": [
       "  0%|          | 0/5000 [00:00<?, ?it/s]"
      ]
     },
     "metadata": {},
     "output_type": "display_data"
    },
    {
     "data": {
      "application/json": {
       "ascii": false,
       "bar_format": null,
       "colour": null,
       "elapsed": 0.006625175476074219,
       "initial": 0,
       "n": 0,
       "ncols": null,
       "nrows": 36,
       "postfix": null,
       "prefix": "",
       "rate": null,
       "total": 5000,
       "unit": "it",
       "unit_divisor": 1000,
       "unit_scale": false
      },
      "application/vnd.jupyter.widget-view+json": {
       "model_id": "c0205004c3ad48fa97afa631a1ef6a60",
       "version_major": 2,
       "version_minor": 0
      },
      "text/plain": [
       "  0%|          | 0/5000 [00:00<?, ?it/s]"
      ]
     },
     "metadata": {},
     "output_type": "display_data"
    },
    {
     "data": {
      "application/json": {
       "ascii": false,
       "bar_format": null,
       "colour": null,
       "elapsed": 0.006448030471801758,
       "initial": 0,
       "n": 0,
       "ncols": null,
       "nrows": 36,
       "postfix": null,
       "prefix": "",
       "rate": null,
       "total": 5000,
       "unit": "it",
       "unit_divisor": 1000,
       "unit_scale": false
      },
      "application/vnd.jupyter.widget-view+json": {
       "model_id": "4778e6e883724472a7ee8f55f7d43485",
       "version_major": 2,
       "version_minor": 0
      },
      "text/plain": [
       "  0%|          | 0/5000 [00:00<?, ?it/s]"
      ]
     },
     "metadata": {},
     "output_type": "display_data"
    },
    {
     "data": {
      "application/json": {
       "ascii": false,
       "bar_format": null,
       "colour": null,
       "elapsed": 0.006265878677368164,
       "initial": 0,
       "n": 0,
       "ncols": null,
       "nrows": 36,
       "postfix": null,
       "prefix": "",
       "rate": null,
       "total": 5000,
       "unit": "it",
       "unit_divisor": 1000,
       "unit_scale": false
      },
      "application/vnd.jupyter.widget-view+json": {
       "model_id": "aafe581ff17e4b3583d50c9cb296db78",
       "version_major": 2,
       "version_minor": 0
      },
      "text/plain": [
       "  0%|          | 0/5000 [00:00<?, ?it/s]"
      ]
     },
     "metadata": {},
     "output_type": "display_data"
    },
    {
     "data": {
      "application/json": {
       "ascii": false,
       "bar_format": null,
       "colour": null,
       "elapsed": 0.0063838958740234375,
       "initial": 0,
       "n": 0,
       "ncols": null,
       "nrows": 36,
       "postfix": null,
       "prefix": "",
       "rate": null,
       "total": 5000,
       "unit": "it",
       "unit_divisor": 1000,
       "unit_scale": false
      },
      "application/vnd.jupyter.widget-view+json": {
       "model_id": "dddaff5a56f24bc792d657c0785d4461",
       "version_major": 2,
       "version_minor": 0
      },
      "text/plain": [
       "  0%|          | 0/5000 [00:00<?, ?it/s]"
      ]
     },
     "metadata": {},
     "output_type": "display_data"
    },
    {
     "data": {
      "text/plain": [
       "(4148032160983, [-1542830979853, -1268513846139, 6959376986975])"
      ]
     },
     "execution_count": 5,
     "metadata": {},
     "output_type": "execute_result"
    }
   ],
   "source": [
    "encrypted = DoubleList2(encr)\n",
    "encrypted.mix()\n",
    "encrypted.part1()"
   ]
  },
  {
   "cell_type": "code",
   "execution_count": null,
   "id": "9a9ec236-6bbf-4d81-85d0-c137f86f9bdb",
   "metadata": {},
   "outputs": [],
   "source": []
  }
 ],
 "metadata": {
  "kernelspec": {
   "display_name": "Python 3 (ipykernel)",
   "language": "python",
   "name": "python3"
  },
  "language_info": {
   "codemirror_mode": {
    "name": "ipython",
    "version": 3
   },
   "file_extension": ".py",
   "mimetype": "text/x-python",
   "name": "python",
   "nbconvert_exporter": "python",
   "pygments_lexer": "ipython3",
   "version": "3.9.12"
  }
 },
 "nbformat": 4,
 "nbformat_minor": 5
}
