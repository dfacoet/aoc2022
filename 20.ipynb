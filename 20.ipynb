{
 "cells": [
  {
   "cell_type": "code",
   "execution_count": 25,
   "id": "94707a68-31aa-42a7-9f18-8ccd6881ab64",
   "metadata": {},
   "outputs": [],
   "source": [
    "sample = [1, 2, -3, 3, -2, 0, 4]"
   ]
  },
  {
   "cell_type": "code",
   "execution_count": 26,
   "id": "cbd5c3a2-95f0-41e5-bc53-1cd0646ab87a",
   "metadata": {},
   "outputs": [],
   "source": [
    "input_file = \"20_input.txt\"\n",
    "with open(input_file) as f:\n",
    "    encr = [int(line.rstrip()) for line in f]"
   ]
  },
  {
   "cell_type": "code",
   "execution_count": 30,
   "id": "fc232d0e-a73c-4173-a208-921824c2a216",
   "metadata": {},
   "outputs": [
    {
     "name": "stdout",
     "output_type": "stream",
     "text": [
      "0 1 7 1\n",
      "Step0 - moving 1 between 2 and -3\n",
      "[2, 1, -3, 3, -2, 0, 4]\n",
      "[1, 0, 2, 3, 4, 5, 6]\n",
      "0 2 7 2\n",
      "Step1 - moving 2 between -3 and 3\n",
      "[1, -3, 2, 3, -2, 0, 4]\n",
      "[0, 2, 1, 3, 4, 5, 6]\n",
      "1 -3 7 4\n",
      "Step2 - moving -3 between -2 and 0\n",
      "[1, 2, 3, -2, -3, 0, 4]\n",
      "[0, 1, 3, 4, 2, 5, 6]\n",
      "2 3 7 5\n",
      "Step3 - moving 3 between 0 and 4\n",
      "[1, 2, -2, -3, 0, 3, 4]\n",
      "[0, 1, 4, 2, 5, 3, 6]\n",
      "2 -2 7 0\n",
      "Step4 - moving -2 between 4 and 1\n",
      "[-2, 1, 2, -3, 0, 3, 4]\n",
      "[4, 0, 1, 2, 5, 3, 6]\n",
      "4 0 7 4\n",
      "Step5 - not moving 0\n",
      "[-2, 1, 2, -3, 0, 3, 4]\n",
      "[4, 0, 1, 2, 5, 3, 6]\n",
      "6 4 7 4\n",
      "Step6 - moving 4 between -3 and 0\n",
      "[-2, 1, 2, -3, 4, 0, 3]\n",
      "[4, 0, 1, 2, 6, 5, 3]\n"
     ]
    }
   ],
   "source": [
    "message = sample.copy()\n",
    "\n",
    "n = len(message)\n",
    "idx = list(range(n))\n",
    "\n",
    "# for k in range(n):\n",
    "#     current_i = idx[k]\n",
    "#     new_i = (current_i + message[current_i]) % n\n",
    "#     new_list = message[:current_i] + message[current_i+1:]\n",
    "#     new_idx = idx[:current_i] + idx[current_i+1:]\n",
    "#     new_list.insert(new_i, message[current_i])\n",
    "#     new_idx.insert(new_i, idx[current_i])\n",
    "#     message = new_list\n",
    "#     idx = new_idx\n",
    "#     print(f\"Step{k}\")\n",
    "#     print(new_list)\n",
    "#     print(new_idx)\n",
    "\n",
    "for k in range(n):\n",
    "    current_i = idx.index(k)\n",
    "    value = message[current_i]\n",
    "    new_i = (current_i + value)\n",
    "    if new_i < 0:\n",
    "        new_i = new_i % n - 1\n",
    "    if new_i == 0:\n",
    "        new_i == n - 1\n",
    "    if new_i >= n:\n",
    "        new_i = new_i % n + 1\n",
    "    print(current_i, value, n, new_i)\n",
    "    new_message = message[:current_i] + message[current_i+1:]\n",
    "    new_message.insert(new_i, value)\n",
    "    new_idx = idx[:current_i] + idx[current_i+1:]\n",
    "    new_idx.insert(new_i, k)\n",
    "    message = new_message\n",
    "    idx = new_idx\n",
    "    if new_i != current_i:\n",
    "        print(f\"Step{k} - moving {value} between {new_message[(new_i-1)%n]} and {new_message[(new_i+1)%n]}\")\n",
    "    else:\n",
    "        print(f\"Step{k} - not moving {value}\")\n",
    "    print(new_message)\n",
    "    print(new_idx)"
   ]
  },
  {
   "cell_type": "code",
   "execution_count": 28,
   "id": "b99b5367-3670-4309-85b4-a741721251f6",
   "metadata": {},
   "outputs": [
    {
     "data": {
      "text/plain": [
       "[-2, 1, 2, -3, 4, 0, 3]"
      ]
     },
     "execution_count": 28,
     "metadata": {},
     "output_type": "execute_result"
    }
   ],
   "source": [
    "message"
   ]
  },
  {
   "cell_type": "code",
   "execution_count": null,
   "id": "f335c22d-18d9-4abb-afbc-48d671dfebb8",
   "metadata": {},
   "outputs": [],
   "source": []
  }
 ],
 "metadata": {
  "kernelspec": {
   "display_name": "Python 3 (ipykernel)",
   "language": "python",
   "name": "python3"
  },
  "language_info": {
   "codemirror_mode": {
    "name": "ipython",
    "version": 3
   },
   "file_extension": ".py",
   "mimetype": "text/x-python",
   "name": "python",
   "nbconvert_exporter": "python",
   "pygments_lexer": "ipython3",
   "version": "3.9.12"
  }
 },
 "nbformat": 4,
 "nbformat_minor": 5
}
