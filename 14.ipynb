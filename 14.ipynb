{
 "cells": [
  {
   "cell_type": "code",
   "execution_count": 1,
   "id": "d61aec61-9ef2-4525-a8c3-8c9ba392bc9a",
   "metadata": {},
   "outputs": [],
   "source": [
    "input_file = \"14_input.txt\""
   ]
  },
  {
   "cell_type": "code",
   "execution_count": 2,
   "id": "94ce6c4b-4cb0-466e-a252-a3b7444ebef1",
   "metadata": {},
   "outputs": [],
   "source": [
    "class Cave:\n",
    "    def __init__(self, xlim, ylim, start=[500, 0], lines=None, floor=False):\n",
    "        self.start = start\n",
    "        self.xmin, self.xmax = xlim\n",
    "        self.ymin, self.ymax = ylim\n",
    "        self.ymin = min(self.ymin, 0)\n",
    "        if floor:\n",
    "            self.ymax += 2\n",
    "            h = self.ymax - self.ymin\n",
    "            self.xmin = min(self.xmin, start[0]-h)\n",
    "            self.xmax = max(self.xmax, start[0]+h)\n",
    "        self.grid = [[0] * (1 + self.xmax - self.xmin) for _ in range(1 + self.ymax - self.ymin)]\n",
    "        if lines is not None:\n",
    "            for line in lines:\n",
    "                self.add_line(line)\n",
    "        if floor:\n",
    "            self.grid[-1] = [1 for _ in range(self.xmin, self.xmax+1)] \n",
    "\n",
    "\n",
    "    def add_line(self, line):\n",
    "        for k, start in enumerate(line[:-1]):\n",
    "            end = line[k+1]\n",
    "            if start[0] == end[0]: #vertical line\n",
    "                yrange = range(min(start[1], end[1]), max(start[1], end[1]) + 1)\n",
    "                for y in yrange:\n",
    "                    self.grid[y-self.ymin][start[0]-self.xmin] = 1\n",
    "            elif start[1] == end[1]: #horizontal line\n",
    "                xrange = range(min(start[0], end[0]), max(start[0], end[0]) + 1)\n",
    "                for x in xrange:\n",
    "                    self.grid[start[1]-self.ymin][x-self.xmin] = 1\n",
    "            else:\n",
    "                raise ValueError(\"Lines must be either vertical or horizontal\")\n",
    "    \n",
    "    \n",
    "    def fill_sand(self, maxgrains=10**5):\n",
    "        full = False\n",
    "        c = 0\n",
    "        while not(full) and c<maxgrains:\n",
    "            sx, sy = self.start\n",
    "            rest = False\n",
    "            while not(rest or full):\n",
    "                if sy == self.ymax:\n",
    "                    full = True\n",
    "                elif self.grid[sy+1-self.ymin][sx-self.xmin] == 0:\n",
    "                    sy += 1\n",
    "                elif self.grid[sy+1-self.ymin][sx-1-self.xmin] == 0: #what if reached limit?\n",
    "                    sy += 1\n",
    "                    sx -= 1\n",
    "                elif self.grid[sy+1-self.ymin][sx+1-self.xmin] == 0:\n",
    "                    sy += 1\n",
    "                    sx += 1\n",
    "                else:\n",
    "                    rest = True\n",
    "                    self.grid[sy-self.ymin][sx-self.xmin] = 2\n",
    "                    c += 1\n",
    "                    if [sx, sy] == self.start:\n",
    "                        full = True\n",
    "        self.atrest = c\n",
    "\n",
    "    \n",
    "    def print(self, pixels=['.', '#', 'o'], startpix='+', line_numbers=False):\n",
    "        for k, row in enumerate(self.grid):\n",
    "            screenline = [pixels[x] for x in row]\n",
    "            if k + self.ymin == self.start[1]:\n",
    "                screenline[self.start[0]-self.xmin] = startpix\n",
    "            if line_numbers:\n",
    "                print(f\"{k:03d} \", end=\"\")\n",
    "            print(''.join(screenline))"
   ]
  },
  {
   "cell_type": "code",
   "execution_count": 3,
   "id": "bed5fd39-09a9-4187-b868-1e4063717da3",
   "metadata": {},
   "outputs": [],
   "source": [
    "xlim = [500, 500]\n",
    "ylim = [0, 0]\n",
    "\n",
    "lines = []\n",
    "\n",
    "with open(input_file) as f:\n",
    "    for line in f:\n",
    "        newline = [[int(y) for y in x.split(',')] for x in line.rstrip().split(\" -> \")]\n",
    "        lines.append(newline)\n",
    "\n",
    "\n",
    "x_all = [p[0] for l in lines for p in l]\n",
    "y_all = [p[1] for l in lines for p in l]\n",
    "\n",
    "xlim = [min(x_all), max(x_all)]\n",
    "ylim = [min(min(y_all),0), max(y_all)]"
   ]
  },
  {
   "cell_type": "code",
   "execution_count": 4,
   "id": "8fbb1d78-5757-4046-9bf4-1078c1cb69dd",
   "metadata": {},
   "outputs": [
    {
     "name": "stdout",
     "output_type": "stream",
     "text": [
      "1068\n"
     ]
    }
   ],
   "source": [
    "cave = Cave(xlim, ylim, lines=lines)\n",
    "\n",
    "cave.fill_sand()\n",
    "print(cave.atrest)"
   ]
  },
  {
   "cell_type": "code",
   "execution_count": 5,
   "id": "024e2241-3477-4ef7-b019-547b1f53c732",
   "metadata": {},
   "outputs": [
    {
     "data": {
      "text/plain": [
       "172"
      ]
     },
     "execution_count": 5,
     "metadata": {},
     "output_type": "execute_result"
    }
   ],
   "source": [
    "len(cave.grid)"
   ]
  },
  {
   "cell_type": "code",
   "execution_count": 6,
   "id": "b973e1bb-9371-4a89-a8dd-6aa115315d68",
   "metadata": {
    "tags": []
   },
   "outputs": [
    {
     "name": "stdout",
     "output_type": "stream",
     "text": [
      "27936\n"
     ]
    }
   ],
   "source": [
    "floored_cave = Cave(xlim, ylim, lines=lines, floor=True)\n",
    "\n",
    "floored_cave.fill_sand()\n",
    "print(floored_cave.atrest)"
   ]
  }
 ],
 "metadata": {
  "kernelspec": {
   "display_name": "Python 3 (ipykernel)",
   "language": "python",
   "name": "python3"
  },
  "language_info": {
   "codemirror_mode": {
    "name": "ipython",
    "version": 3
   },
   "file_extension": ".py",
   "mimetype": "text/x-python",
   "name": "python",
   "nbconvert_exporter": "python",
   "pygments_lexer": "ipython3",
   "version": "3.9.12"
  }
 },
 "nbformat": 4,
 "nbformat_minor": 5
}
