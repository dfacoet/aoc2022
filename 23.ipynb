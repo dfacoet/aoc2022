{
 "cells": [
  {
   "cell_type": "code",
   "execution_count": 1,
   "id": "bd5e893d-6f4a-471b-90e6-31d5f2d5b617",
   "metadata": {},
   "outputs": [],
   "source": [
    "import itertools\n",
    "from collections import defaultdict"
   ]
  },
  {
   "cell_type": "code",
   "execution_count": 2,
   "id": "e7612f80-846a-41b7-aa0e-62c87d02bd64",
   "metadata": {},
   "outputs": [],
   "source": [
    "input_file = \"23_input.txt\"\n",
    "\n",
    "with open(input_file) as f:\n",
    "    initial_map = [line.rstrip() for line in f]"
   ]
  },
  {
   "cell_type": "code",
   "execution_count": 3,
   "id": "0095c6e4-a209-41d1-af1e-586f9a6a9b7d",
   "metadata": {},
   "outputs": [],
   "source": [
    "class Crater:\n",
    "    def __init__(self, initial):\n",
    "        self.elves_coords = defaultdict(set)\n",
    "        for x, row in enumerate(initial):\n",
    "            for y, c in enumerate(row):\n",
    "                if c == \"#\":\n",
    "                    self.elves_coords[x].add(y)\n",
    "                    \n",
    "    def neighbours(self, x, y):\n",
    "        return itertools.product((x-1, x, x+1), (y-1, y, y+1))\n",
    "    \n",
    "    def is_empty(self, cells):\n",
    "        for x, y in cells:\n",
    "            if x in self.elves_coords and y in self.elves_coords[x]:\n",
    "                return False\n",
    "        return True\n",
    "    \n",
    "    \n",
    "    def propose(self, x, y, nstep):\n",
    "        sides = [[(x - 1, y + k) for k in range(-1, 2)]]      # north\n",
    "        sides.append([(x + 1, y + k) for k in range(-1, 2)])  # south\n",
    "        sides.append([(x + k, y - 1) for k in range(-1, 2)])  # west\n",
    "        sides.append([(x + k, y + 1) for k in range(-1, 2)])  # east\n",
    "        sides_empty = [self.is_empty(side) for side in sides]\n",
    "        if all(sides_empty):\n",
    "            return None\n",
    "        for j in range(nstep, nstep + 4):\n",
    "            if sides_empty[j % 4]:\n",
    "                return sides[j % 4][1]\n",
    "        return None\n",
    "    \n",
    "    def step(self, k):\n",
    "        # propose\n",
    "        proposed = dict()\n",
    "        for x, row in self.elves_coords.items():\n",
    "            for y in row:\n",
    "                prop = self.propose(x, y, k)\n",
    "                if prop:\n",
    "                    if prop in proposed:\n",
    "                        proposed[prop] = 0\n",
    "                    else:\n",
    "                        proposed[prop] = (x, y)\n",
    "        # clean\n",
    "        proposed = {k: v for k, v in proposed.items() if v}\n",
    "        if not(proposed):\n",
    "            return False\n",
    "        # move\n",
    "        for target in proposed:\n",
    "            x, y = proposed[target]\n",
    "            nx, ny = target\n",
    "            self.elves_coords[x].remove(y)\n",
    "            self.elves_coords[nx].add(ny)\n",
    "        return True\n",
    "    \n",
    "    def evolve(self, n_steps):\n",
    "        for k in range(n_steps):\n",
    "            self.step(k)\n",
    "    \n",
    "    def scatter(self):\n",
    "        k = 0\n",
    "        has_moved = True\n",
    "        while has_moved:\n",
    "            has_moved = self.step(k)\n",
    "            k += 1\n",
    "        return k\n",
    "    \n",
    "    @property\n",
    "    def xmin(self):\n",
    "        return min(self.elves_coords)\n",
    "    \n",
    "    @property\n",
    "    def xmax(self):\n",
    "        return max(self.elves_coords)\n",
    "    \n",
    "    @property\n",
    "    def ymin(self):\n",
    "        return min(min(row) for x, row in self.elves_coords.items() if row)\n",
    "    \n",
    "    @property\n",
    "    def ymax(self):\n",
    "        return max(max(row) for x, row in self.elves_coords.items() if row)\n",
    "    \n",
    "    def lims(self):\n",
    "        return (self.xmin, self.xmax), (self.ymin, self.ymax)\n",
    "    \n",
    "    \n",
    "    def n_elves(self):\n",
    "        return sum(len(ys) for x, ys in self.elves_coords.items())\n",
    "    \n",
    "    \n",
    "    def print(self, chars=\".#\", axes=True):\n",
    "        width = 1 + self.ymax - self.ymin\n",
    "        if axes:\n",
    "            print(\"  \" + \"\".join(str(y) for y in range(self.ymin, self.ymax + 1)))\n",
    "            print(\" +\" + '-' * width)\n",
    "        for x in range(self.xmin, self.xmax + 1):\n",
    "            line = [chars[0]] * width\n",
    "            for y in self.elves_coords[x]:\n",
    "                line[y - self.ymin] = chars[1]\n",
    "            if axes:\n",
    "                line = [str(x), \"|\"] + line\n",
    "            print(''.join(line))\n",
    "    \n",
    "    def count_empty(self):\n",
    "        area = (self.ymax - self.ymin + 1) * (self.xmax - self.xmin + 1)\n",
    "        return area - self.n_elves()"
   ]
  },
  {
   "cell_type": "code",
   "execution_count": 4,
   "id": "487163ac-dabf-4fe9-b577-22e3e4b924af",
   "metadata": {},
   "outputs": [
    {
     "data": {
      "text/plain": [
       "4181"
      ]
     },
     "execution_count": 4,
     "metadata": {},
     "output_type": "execute_result"
    }
   ],
   "source": [
    "crater = Crater(initial_map)\n",
    "\n",
    "crater.evolve(10)\n",
    "crater.count_empty()"
   ]
  },
  {
   "cell_type": "code",
   "execution_count": 5,
   "id": "22938adf-eea4-4367-9abf-46cef6ead572",
   "metadata": {},
   "outputs": [
    {
     "name": "stdout",
     "output_type": "stream",
     "text": [
      "CPU times: user 7.52 s, sys: 12.6 ms, total: 7.54 s\n",
      "Wall time: 7.54 s\n"
     ]
    },
    {
     "data": {
      "text/plain": [
       "973"
      ]
     },
     "execution_count": 5,
     "metadata": {},
     "output_type": "execute_result"
    }
   ],
   "source": [
    "%%time\n",
    "\n",
    "crater = Crater(initial_map)\n",
    "crater.scatter()"
   ]
  },
  {
   "cell_type": "code",
   "execution_count": null,
   "id": "bb65c80b-0bf3-4ee1-a0a1-38573cbf9116",
   "metadata": {},
   "outputs": [],
   "source": []
  }
 ],
 "metadata": {
  "kernelspec": {
   "display_name": "Python 3 (ipykernel)",
   "language": "python",
   "name": "python3"
  },
  "language_info": {
   "codemirror_mode": {
    "name": "ipython",
    "version": 3
   },
   "file_extension": ".py",
   "mimetype": "text/x-python",
   "name": "python",
   "nbconvert_exporter": "python",
   "pygments_lexer": "ipython3",
   "version": "3.9.12"
  }
 },
 "nbformat": 4,
 "nbformat_minor": 5
}
