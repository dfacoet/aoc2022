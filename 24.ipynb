{
 "cells": [
  {
   "cell_type": "code",
   "execution_count": 34,
   "id": "6aeb49fc-0f86-4a55-89f9-6c40c932115a",
   "metadata": {},
   "outputs": [],
   "source": [
    "from collections import defaultdict\n",
    "\n",
    "import tqdm.notebook as tqdm"
   ]
  },
  {
   "cell_type": "code",
   "execution_count": 197,
   "id": "7480d657-2b53-4616-9901-619d8c542dd8",
   "metadata": {},
   "outputs": [],
   "source": [
    "input_file = \"24_input.txt\"\n",
    "#input_file = \"24_sample.txt\""
   ]
  },
  {
   "cell_type": "code",
   "execution_count": 198,
   "id": "87819a21-68c3-43d8-ac75-abe485ea7e21",
   "metadata": {},
   "outputs": [],
   "source": [
    "with open(input_file) as f:\n",
    "    valleymap = [line.rstrip().strip(\"#\") for line in f]\n",
    "valleymap = valleymap[1:-1]"
   ]
  },
  {
   "cell_type": "code",
   "execution_count": 199,
   "id": "f424de8d-8c35-436d-91dd-5253feda8e7a",
   "metadata": {},
   "outputs": [],
   "source": [
    "class Cell:\n",
    "    def __init__(self, y, x, h, w):\n",
    "        self.x = x\n",
    "        self.y = y\n",
    "        self.h = h\n",
    "        self.w = w\n",
    "        self.freex = {k: True for k in range(w)}\n",
    "        self.freey = {k: True for k in range(h)}\n",
    "    \n",
    "    def is_free(self, time):\n",
    "        return self.freex[time % self.w] and self.freey[time % self.h]\n",
    "            \n",
    "\n",
    "class Valley:\n",
    "    def __init__(self, t0map):\n",
    "        self.h = len(t0map)\n",
    "        self.w = len(t0map[0])\n",
    "        self.map = [[Cell(y, x, self.h, self.w) for x in range(self.w)] for y in range(self.h)]\n",
    "        self.start = (-1, 0)\n",
    "        self.end = (self.h, self.w-1)\n",
    "        \n",
    "        for y, row in enumerate(t0map):\n",
    "            for x, c in enumerate(row):\n",
    "                if c == \">\":\n",
    "                    for dt in range(self.w):\n",
    "                        self.map[y][(x + dt) % self.w].freex[dt] = False\n",
    "                elif c == \"<\":\n",
    "                    for dt in range(self.w):\n",
    "                        self.map[y][(x - dt) % self.w].freex[dt] = False\n",
    "                elif c == \"^\":\n",
    "                    for dt in range(self.h):\n",
    "                        self.map[(y - dt) % self.h][x].freey[dt] = False\n",
    "                elif c == \"v\":\n",
    "                    for dt in range(self.h):\n",
    "                        self.map[(y + dt) % self.h][x].freey[dt] = False\n",
    "    \n",
    "    def neighbours(self, y, x):\n",
    "        if y == -1:\n",
    "            return [(0, 0)]#, (y, x)]\n",
    "        if y == self.h:\n",
    "            return [(self.h-1, self.w-1)]#, (y, x)]\n",
    "        n = [(y, x)]\n",
    "        if y > 0:\n",
    "            n.append((y - 1, x))\n",
    "        if y < self.h - 1:\n",
    "            n.append((y + 1, x))\n",
    "        if x > 0:\n",
    "            n.append((y, x - 1))\n",
    "        if x < self.w - 1:\n",
    "            n.append((y, x + 1))\n",
    "        return n\n",
    "    \n",
    "    def find_path(self):\n",
    "        q = [[self.start]]\n",
    "        length = 0\n",
    "        c = 0\n",
    "        with tqdm.tqdm() as progbar:\n",
    "            while q:\n",
    "                path = q.pop(0)\n",
    "                c += 1\n",
    "                if c % TQUPD == 0:\n",
    "                    progbar.update(TQUPD)\n",
    "                    progbar.set_description(f\"l={length}, q={len(q)}\")\n",
    "                if len(path) > length:\n",
    "                    length = len(path)\n",
    "                    progbar.set_description(f\"l={length}, q={len(q)}\")\n",
    "                for y, x in self.neighbours(*path[-1]):\n",
    "                    if self.map[y][x].is_free(time=len(path)+1):\n",
    "                        if (y, x) == (self.h-1, self.w-1):\n",
    "                            return len(path) + 2\n",
    "                        else:\n",
    "                            q.append(path + [(y, x)])\n",
    "            return -1\n",
    "\n",
    "    def print_available(self, time=0, chars=' .'):\n",
    "        for y, row in enumerate(self.map):\n",
    "            print(''.join(chars[cell.is_free(time)] for cell in row))\n",
    "    \n",
    "    \n",
    "    def shortest_path(self, start_time=0):\n",
    "        paths = defaultdict(set)\n",
    "        l = start_time\n",
    "        # while not(self.map[0][0].is_free(time=l+1)):\n",
    "        #     l += 1\n",
    "        paths[l].add(self.start)\n",
    "        while True:\n",
    "            for current in paths[l]:\n",
    "                if current[0] == -1:\n",
    "                    paths[l+1].add(current)\n",
    "                for y, x in self.neighbours(*current):   \n",
    "                    if self.map[y][x].is_free(time=(l+1)):\n",
    "                        if (y, x) == (self.h-1, self.w-1):\n",
    "                            return l + 2 - start_time\n",
    "                        paths[l+1].add((y, x))\n",
    "            l += 1\n",
    "    \n",
    "    \n",
    "    def reverse_path(self, start_time=0):\n",
    "        paths = defaultdict(set)\n",
    "        l = start_time\n",
    "        while not(self.map[-1][-1].is_free(time=l+1)):\n",
    "            l += 1\n",
    "        paths[l].add(self.end)\n",
    "        while True:\n",
    "            if not(paths[l]):\n",
    "                raise ValueError(f\"no path at {l}\")\n",
    "            for current in paths[l]:\n",
    "                if current[0] == self.h:\n",
    "                    paths[l+1].add(current)\n",
    "                for y, x in self.neighbours(*current):\n",
    "                    if self.map[y][x].is_free(time=l+1):\n",
    "                        if (y, x) == (0, 0):\n",
    "                            return l + 2 - start_time\n",
    "                        paths[l+1].add((y,x))\n",
    "            l += 1\n",
    "    \n",
    "    def part2(self):\n",
    "        t1 = self.shortest_path()\n",
    "        t2 = self.reverse_path(t1)\n",
    "        t3 = self.shortest_path(t1+t2)\n",
    "        return t1+t2+t3, (t1, t2, t3)\n",
    "\n",
    "TQUPD = 10**4"
   ]
  },
  {
   "cell_type": "code",
   "execution_count": 200,
   "id": "e52fe80f-df0f-4120-a220-4aeb09d693fd",
   "metadata": {},
   "outputs": [],
   "source": [
    "valley = Valley(valleymap)"
   ]
  },
  {
   "cell_type": "code",
   "execution_count": 201,
   "id": "d6ad7302-5df5-4556-9d52-2dfecb47313a",
   "metadata": {},
   "outputs": [
    {
     "data": {
      "text/plain": [
       "254"
      ]
     },
     "execution_count": 201,
     "metadata": {},
     "output_type": "execute_result"
    }
   ],
   "source": [
    "valley.shortest_path(start_time=41)"
   ]
  },
  {
   "cell_type": "code",
   "execution_count": 202,
   "id": "f3a7dc3b-e9a2-4d06-918c-57715749470e",
   "metadata": {},
   "outputs": [
    {
     "data": {
      "text/plain": [
       "(816, (292, 241, 283))"
      ]
     },
     "execution_count": 202,
     "metadata": {},
     "output_type": "execute_result"
    }
   ],
   "source": [
    "valley.part2()"
   ]
  },
  {
   "cell_type": "code",
   "execution_count": null,
   "id": "3647f51d-d08a-47fd-a05c-cbbfee134a90",
   "metadata": {},
   "outputs": [],
   "source": []
  }
 ],
 "metadata": {
  "kernelspec": {
   "display_name": "Python 3 (ipykernel)",
   "language": "python",
   "name": "python3"
  },
  "language_info": {
   "codemirror_mode": {
    "name": "ipython",
    "version": 3
   },
   "file_extension": ".py",
   "mimetype": "text/x-python",
   "name": "python",
   "nbconvert_exporter": "python",
   "pygments_lexer": "ipython3",
   "version": "3.9.12"
  }
 },
 "nbformat": 4,
 "nbformat_minor": 5
}
