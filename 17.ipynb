{
 "cells": [
  {
   "cell_type": "code",
   "execution_count": 274,
   "id": "6e089ea4-ddc6-454d-9e09-0783612bbe33",
   "metadata": {},
   "outputs": [],
   "source": [
    "import itertools\n",
    "\n",
    "import tqdm\n",
    "from IPython.utils import io"
   ]
  },
  {
   "cell_type": "code",
   "execution_count": 2,
   "id": "7d4bd7e0-5a1b-4eb4-804a-5eb26d0e9dc5",
   "metadata": {},
   "outputs": [],
   "source": [
    "input_file = \"17_input.txt\""
   ]
  },
  {
   "cell_type": "code",
   "execution_count": 3,
   "id": "57e059ee-f308-4619-9408-09e1e18252cd",
   "metadata": {},
   "outputs": [],
   "source": [
    "with open(input_file) as f:\n",
    "    lr = f.readline().rstrip()"
   ]
  },
  {
   "cell_type": "code",
   "execution_count": 377,
   "id": "1d82c224-76cb-44f5-923d-4d30a5f39b0b",
   "metadata": {},
   "outputs": [],
   "source": [
    "class Rock:\n",
    "    def __init__(self, tower, x, y, moving=True):\n",
    "        self.tower = tower\n",
    "        self.x = x\n",
    "        self.y = y\n",
    "        self.is_moving = moving\n",
    "    \n",
    "    def move(self, wind_dir):\n",
    "        if wind_dir == \">\":\n",
    "            self.move_right()\n",
    "        elif wind_dir == \"<\":\n",
    "            self.move_left()\n",
    "        else:\n",
    "            raise ValueError(\"Jet direction must be < or >\")\n",
    "    \n",
    "    \n",
    "    def move_right(self):\n",
    "        # in general this is redundant - could specify in each concrete class\n",
    "        if self.x + self.w < self.tower.w: # not against wall\n",
    "            clashes = sum(self.tower.grid[y][x + 1] for x, y in self.pixels())\n",
    "            if clashes == 0:\n",
    "                self.x += 1\n",
    "#     def move_right(self):\n",
    "#         if self.x + self.w < self.tower.w and all(self.tower.grid[y][x]==0 for x, y in self.exposed_right()):\n",
    "#             self.x += 1\n",
    "            \n",
    "#     def move_left(self):\n",
    "#         if self.x > 0 and all(self.tower.grid[y][x]==0 for x, y in self.exposed_left()):\n",
    "#             self.x -= 1\n",
    "    \n",
    "    \n",
    "    def move_left(self):\n",
    "        if self.x > 0:\n",
    "            clashes = sum(self.tower.grid[y][x - 1] for x, y in self.pixels())\n",
    "            if clashes == 0:\n",
    "                self.x -= 1\n",
    "    \n",
    "    \n",
    "    # def down(self):\n",
    "    #     if self.y > 0 and all(self.tower.grid[y][x]==0 for x, y in self.exposed_down()):\n",
    "    #         self.y -= 1\n",
    "    #     else:\n",
    "    #         self.is_moving = False\n",
    "    \n",
    "    def down(self):\n",
    "        if self.y > 0 and sum(self.tower.grid[y - 1][x] for x, y in self.pixels()) == 0:\n",
    "            self.y -= 1\n",
    "        else:\n",
    "            self.is_moving = False\n",
    "    \n",
    "    \n",
    "    def settle(self):\n",
    "        for x, y in self.pixels():\n",
    "            self.tower.grid[y][x] = 1\n",
    "            self.tower.col_h[x] = max(self.tower.col_h[x], y + 1)\n",
    "                \n",
    "\n",
    "\n",
    "class Horiz(Rock):\n",
    "    rtype = \"horiz\"\n",
    "    w = 4\n",
    "    h = 1\n",
    "    \n",
    "    def pixels(self):\n",
    "        return [[self.x + k, self.y] for k in range(self.w)]\n",
    "    \n",
    "    \n",
    "    def exposed_left(self):\n",
    "        return [[self.x - 1, self.y]]\n",
    "    \n",
    "    def exposed_right(self):\n",
    "        return [[self.x + self.w, self.y]]\n",
    "    \n",
    "    def exposed_down(self):\n",
    "        return [[self.x + k, self.y - 1] for k in range(self.w)]\n",
    "    \n",
    "    \n",
    "    def move_right(self):\n",
    "        end = self.x + self.w\n",
    "        if end < self.tower.w and self.tower.grid[self.y][end] == 0:\n",
    "            self.x += 1\n",
    "    \n",
    "    \n",
    "    def move_left(self):\n",
    "        if self.x > 0 and self.tower.grid[self.y][self.x - 1] == 0:\n",
    "            self.x -= 1\n",
    "    \n",
    "    def down(self):\n",
    "        if (self.y > 0\n",
    "            and self.tower.grid[self.y-1][self.x] == 0\n",
    "            and self.tower.grid[self.y-1][self.x+1] == 0\n",
    "            and self.tower.grid[self.y-1][self.x+2] == 0\n",
    "            and self.tower.grid[self.y-1][self.x+3] == 0\n",
    "           ):\n",
    "            self.y -= 1\n",
    "        else:\n",
    "            self.is_moving = False\n",
    "\n",
    "\n",
    "class Plus(Rock):\n",
    "    rtype = \"plus\"\n",
    "    w = 3\n",
    "    h = 3\n",
    "    \n",
    "    def pixels(self):\n",
    "        bottom = [[self.x + 1, self.y]]\n",
    "        center = [[self.x + k, self.y+1] for k in range(3)]\n",
    "        top = [[self.x + 1, self.y + 2]]\n",
    "        return bottom + center + top\n",
    "    \n",
    "    \n",
    "    def exposed_left(self):\n",
    "        return [[self.x - 1, self.y + 1], [self.x, self.y], [self.x, self.y + 2]]\n",
    "    \n",
    "    def exposed_right(self):\n",
    "        return [[self.x + self.w, self.y + 1], [self.x + 2, self.y], [self.x + 2, self.y + 2]]\n",
    "    \n",
    "    def exposed_down(self):\n",
    "        return [[self.x, self.y], [self.x + 1, self.y - 1], [self.x + 2, self.y]]\n",
    "    \n",
    "    \n",
    "    def move_left(self):\n",
    "        if (self.x > 0\n",
    "            and self.tower.grid[self.y][self.x] == 0\n",
    "            and self.tower.grid[self.y + 1][self.x - 1] == 0\n",
    "            and self.tower.grid[self.y + 2][self.x] == 0\n",
    "        ):\n",
    "            self.x -= 1\n",
    "            \n",
    "    def move_right(self):\n",
    "        if (self.x + self.w < self.tower.w\n",
    "            and self.tower.grid[self.y][self.x + 2] == 0\n",
    "            and self.tower.grid[self.y + 1][self.x + 3] == 0\n",
    "            and self.tower.grid[self.y + 2][self.x + 2] == 0\n",
    "        ):\n",
    "            self.x += 1\n",
    "    \n",
    "    def down(self):\n",
    "        if (self.y > 0\n",
    "            and self.tower.grid[self.y-1][self.x+1] == 0\n",
    "            and self.tower.grid[self.y][self.x] == 0\n",
    "            and self.tower.grid[self.y][self.x+2] == 0\n",
    "           ):\n",
    "            self.y -= 1\n",
    "        else:\n",
    "            self.is_moving = False\n",
    "\n",
    "class RevL(Rock):\n",
    "    rtype = \"revl\"\n",
    "    w = 3\n",
    "    h = 3\n",
    "    \n",
    "    def pixels(self):\n",
    "        horiz = [[self.x + k, self.y] for k in range(3)]\n",
    "        vert = [[self.x + 2, self.y + k] for k in range(1, 3)]\n",
    "        return horiz + vert\n",
    "    \n",
    "    def exposed_left(self):\n",
    "        return [[self.x - 1, self.y], [self.x + 1, self.y + 1], [self.x + 1, self.y + 2]]\n",
    "    \n",
    "    def exposed_right(self):\n",
    "        return [[self.x + self.w, self.y + k] for k in range(3)]\n",
    "    \n",
    "    def exposed_down(self):\n",
    "        return [[self.x + k, self.y - 1] for k in range(3)]\n",
    "    \n",
    "    def move_left(self):\n",
    "        if (self.x > 0\n",
    "            and self.tower.grid[self.y][self.x - 1] == 0\n",
    "            and self.tower.grid[self.y + 1][self.x + 1] == 0\n",
    "            and self.tower.grid[self.y + 2][self.x + 1] == 0\n",
    "        ):\n",
    "            self.x -= 1\n",
    "            \n",
    "    def move_right(self):\n",
    "        if (self.x + self.w < self.tower.w\n",
    "            and self.tower.grid[self.y][self.x + 3] == 0\n",
    "            and self.tower.grid[self.y + 1][self.x + 3] == 0\n",
    "            and self.tower.grid[self.y + 2][self.x + 3] == 0\n",
    "        ):\n",
    "            self.x += 1\n",
    "\n",
    "\n",
    "    def down(self):\n",
    "        if (self.y > 0\n",
    "            and self.tower.grid[self.y-1][self.x] == 0\n",
    "            and self.tower.grid[self.y-1][self.x+1] == 0\n",
    "            and self.tower.grid[self.y-1][self.x+2] == 0\n",
    "           ):\n",
    "            self.y -= 1\n",
    "        else:\n",
    "            self.is_moving = False\n",
    "\n",
    "\n",
    "class Vert(Rock):\n",
    "    rtype = \"vert\"\n",
    "    w = 1\n",
    "    h = 4\n",
    "    \n",
    "    def pixels(self):\n",
    "        return [[self.x, self.y + k] for k in range(4)]\n",
    "    \n",
    "    def down(self):\n",
    "        if self.y > 0 and self.tower.grid[self.y-1][self.x] == 0:\n",
    "            self.y -= 1\n",
    "        else:\n",
    "            self.is_moving = False\n",
    "    \n",
    "    def exposed_left(self):\n",
    "        return [[self.x - 1, self.y + k] for k in range(4)]\n",
    "    \n",
    "    def exposed_right(self):\n",
    "        return [[self.x + 1, self.y + k] for k in range(4)]\n",
    "    \n",
    "    def exposed_down(self):\n",
    "        return [[self.x, self.y - 1]]\n",
    "    \n",
    "    def move_left(self):\n",
    "        if (self.x > 0\n",
    "            and self.tower.grid[self.y][self.x - 1] == 0\n",
    "            and self.tower.grid[self.y + 1][self.x - 1] == 0\n",
    "            and self.tower.grid[self.y + 2][self.x - 1] == 0\n",
    "            and self.tower.grid[self.y + 3][self.x - 1] == 0\n",
    "        ):\n",
    "            self.x -= 1\n",
    "            \n",
    "    def move_right(self):\n",
    "        if (self.x + self.w < self.tower.w\n",
    "            and self.tower.grid[self.y][self.x + 1] == 0\n",
    "            and self.tower.grid[self.y + 1][self.x + 1] == 0\n",
    "            and self.tower.grid[self.y + 2][self.x + 1] == 0\n",
    "            and self.tower.grid[self.y + 3][self.x + 1] == 0\n",
    "        ):\n",
    "            self.x += 1\n",
    "    \n",
    "\n",
    "class Square(Rock):\n",
    "    rtype = \"square\"\n",
    "    w = 2\n",
    "    h = 2\n",
    "    \n",
    "    def pixels(self):\n",
    "        return [[self.x + k, self.y + l] for k in range(2) for l in range(2)]\n",
    "    \n",
    "    def exposed_left(self):\n",
    "        return [[self.x - 1, self.y + k] for k in range(2)]\n",
    "    \n",
    "    def exposed_right(self):\n",
    "        return [[self.x + self.w, self.y + k] for k in range(2)]\n",
    "    \n",
    "    \n",
    "    def exposed_down(self):\n",
    "        return [[self.x + k, self.y] for k in range(2)]\n",
    "    \n",
    "    def move_right(self):\n",
    "        end = self.x + self.w\n",
    "        if end < self.tower.w and self.tower.grid[self.y][end] == 0 and self.tower.grid[self.y + 1][end] == 0:\n",
    "            self.x += 1\n",
    "    \n",
    "    def move_left(self):\n",
    "        if self.x > 0 and self.tower.grid[self.y][self.x - 1] == 0 and self.tower.grid[self.y + 1][self.x - 1] == 0:\n",
    "            self.x -= 1\n",
    "    \n",
    "    def down(self):\n",
    "        if self.y > 0 and self.tower.grid[self.y - 1][self.x] == 0 and self.tower.grid[self.y - 1][self.x + 1] == 0:\n",
    "            self.y -= 1\n",
    "        else:\n",
    "            self.is_moving = False\n",
    "\n",
    "\n",
    "class Tower:\n",
    "    def __init__(self, width=7, gas=\"\", mingap=[2, 3]):\n",
    "        self.w = width\n",
    "        self.grid = []\n",
    "        self.minx, self.miny = mingap\n",
    "        self.jets = itertools.cycle(gas)\n",
    "        self.rocks = itertools.cycle([Horiz, Plus, RevL, Vert, Square])\n",
    "        self.col_h = [0] * self.w\n",
    "        self.floor = 0\n",
    "    \n",
    "    \n",
    "    def add_lines(self, n):\n",
    "        self.grid += [[0] * self.w for _ in range(n)]\n",
    "    \n",
    "    \n",
    "    def headroom(self):\n",
    "        if len(self.grid) == 0:\n",
    "            return 0\n",
    "        for k, row in enumerate(self.grid[::-1]):\n",
    "            if sum(row) > 0:\n",
    "                return k\n",
    "        return k + 1\n",
    "    \n",
    "    @property\n",
    "    def height(self):\n",
    "        return self.floor + len(self.grid) - self.headroom()\n",
    "    \n",
    "    \n",
    "    def rock_fall(self):\n",
    "        rock_type = next(self.rocks)\n",
    "        self.add_lines(self.miny + rock_type.h - self.headroom())\n",
    "        rock = rock_type(self, self.minx, len(self.grid) - self.headroom() + self.miny) # create rock of the right type, at x=2, y=len(self.grid)\n",
    "        while rock.is_moving:\n",
    "            wind_dir = next(self.jets)\n",
    "            rock.move(wind_dir)\n",
    "            rock.down()\n",
    "        rock.settle()\n",
    "        h_above = min(self.col_h)\n",
    "        if h_above > 0:\n",
    "            self.floor += h_above\n",
    "            self.col_h = [x - h_above for x in self.col_h]\n",
    "            self.grid = self.grid[h_above:]\n",
    "            \n",
    "        \n",
    "    def rock_shower(self, n: int, return_traj: bool=False):\n",
    "        heights = []\n",
    "        for _ in tqdm.tqdm(range(n)):\n",
    "            self.rock_fall()\n",
    "            if return_traj:\n",
    "                heights.append(self.height)\n",
    "        if return_traj:\n",
    "            return heights\n",
    "    \n",
    "    \n",
    "    def print(self, chars=\".#\"):\n",
    "        h = self.floor + len(self.grid)\n",
    "        ww = len(str(h))\n",
    "        for k, row in enumerate(self.grid[::-1]):\n",
    "            print(f\"{h-k:{ww}d} |\" + \"\".join(chars[x] for x in row) + \"|\")\n",
    "        print(\" \" * (ww+1) + \"+\" + \"-\" * self.w + \"+\")\n",
    "        print()\n",
    "        \n",
    "    \n",
    "    def long_run_height(self, n, start=453, period=1735):\n",
    "        self.rock_shower(start)\n",
    "        h0 = self.height\n",
    "        self.rock_shower(period)\n",
    "        hc = self.height - h0\n",
    "        self.rock_shower((n-start) % period)\n",
    "        hf = self.height - hc\n",
    "        # print(h0, hc, hf)\n",
    "        # print((n-start) // period)\n",
    "        return hf + hc * ((n-start) // period)"
   ]
  },
  {
   "cell_type": "code",
   "execution_count": 378,
   "id": "97d75b84-e2ff-4a50-ba8c-70b3d32b1c33",
   "metadata": {
    "tags": []
   },
   "outputs": [
    {
     "name": "stderr",
     "output_type": "stream",
     "text": [
      "100%|██████████████████████████████████████████████████████████████████████████████| 2022/2022 [00:00<00:00, 58345.20it/s]\n"
     ]
    },
    {
     "data": {
      "text/plain": [
       "3181"
      ]
     },
     "execution_count": 378,
     "metadata": {},
     "output_type": "execute_result"
    }
   ],
   "source": [
    "tower = Tower(gas=lr)\n",
    "\n",
    "#part1\n",
    "tower.rock_shower(2022, return_traj=False)\n",
    "tower.height"
   ]
  },
  {
   "cell_type": "code",
   "execution_count": 379,
   "id": "84a09735-54c9-45c5-8c92-9819273b1d03",
   "metadata": {},
   "outputs": [],
   "source": [
    "# part2 - sort of by hand (below)\n",
    "# right answer: 1570434782634"
   ]
  },
  {
   "cell_type": "code",
   "execution_count": 386,
   "id": "25181040-c62d-498c-8c87-921c99ef06c8",
   "metadata": {},
   "outputs": [
    {
     "name": "stderr",
     "output_type": "stream",
     "text": [
      "100%|████████████████████████████████████████████████████████████████████████████████| 453/453 [00:00<00:00, 24704.13it/s]\n",
      "100%|██████████████████████████████████████████████████████████████████████████████| 1735/1735 [00:00<00:00, 73318.13it/s]\n",
      "100%|██████████████████████████████████████████████████████████████████████████████| 1422/1422 [00:00<00:00, 97203.35it/s]\n"
     ]
    },
    {
     "data": {
      "text/plain": [
       "1570605187323"
      ]
     },
     "execution_count": 386,
     "metadata": {},
     "output_type": "execute_result"
    }
   ],
   "source": [
    "tower = Tower(gas=lr)\n",
    "tower.long_run_height(1_000_000_000_000)"
   ]
  },
  {
   "cell_type": "code",
   "execution_count": 348,
   "id": "f25ea796-ac7c-4ff5-96ec-6512128c63f9",
   "metadata": {},
   "outputs": [
    {
     "name": "stderr",
     "output_type": "stream",
     "text": [
      "100%|████████████████████████████████████████████████████████████████████████████| 50492/50492 [00:00<00:00, 98684.26it/s]\n",
      "100%|███████████████████████████████████████████████████████████████████████████| 10000/10000 [00:00<00:00, 101516.69it/s]\n",
      "100%|█████████████████████████████████████████████████████████████████████████████| 1735/1735 [00:00<00:00, 100765.98it/s]\n",
      "100%|████████████████████████████████████████████████████████████████████████████████| 587/587 [00:00<00:00, 97023.03it/s]"
     ]
    },
    {
     "name": "stdout",
     "output_type": "stream",
     "text": [
      "True 50492 79313 79313\n"
     ]
    },
    {
     "name": "stderr",
     "output_type": "stream",
     "text": [
      "\n"
     ]
    }
   ],
   "source": [
    "end = 50492\n",
    "\n",
    "t1 = Tower(gas=lr)\n",
    "t2 = Tower(gas=lr)\n",
    "\n",
    "t1.rock_shower(end, return_traj=False)\n",
    "h1 = t1.height\n",
    "h2 = t2.long_run_height(end, start=10_000)\n",
    "print(h1==h2, end, h1, h2)"
   ]
  },
  {
   "cell_type": "code",
   "execution_count": 365,
   "id": "20f40347-1936-4c7c-a72f-7e36ec4e38b5",
   "metadata": {},
   "outputs": [
    {
     "name": "stderr",
     "output_type": "stream",
     "text": [
      " 12%|█████████▊                                                                        | 215/1800 [00:17<02:11, 12.05it/s]\n"
     ]
    },
    {
     "ename": "KeyboardInterrupt",
     "evalue": "",
     "output_type": "error",
     "traceback": [
      "\u001b[0;31m---------------------------------------------------------------------------\u001b[0m",
      "\u001b[0;31mKeyboardInterrupt\u001b[0m                         Traceback (most recent call last)",
      "Cell \u001b[0;32mIn [365], line 7\u001b[0m\n\u001b[1;32m      3\u001b[0m t2 \u001b[38;5;241m=\u001b[39m Tower(gas\u001b[38;5;241m=\u001b[39mlr)\n\u001b[1;32m      6\u001b[0m \u001b[38;5;28;01mwith\u001b[39;00m io\u001b[38;5;241m.\u001b[39mcapture_output() \u001b[38;5;28;01mas\u001b[39;00m captured:\n\u001b[0;32m----> 7\u001b[0m     \u001b[43mt1\u001b[49m\u001b[38;5;241;43m.\u001b[39;49m\u001b[43mrock_shower\u001b[49m\u001b[43m(\u001b[49m\u001b[43mend\u001b[49m\u001b[43m,\u001b[49m\u001b[43m \u001b[49m\u001b[43mreturn_traj\u001b[49m\u001b[38;5;241;43m=\u001b[39;49m\u001b[38;5;28;43;01mFalse\u001b[39;49;00m\u001b[43m)\u001b[49m\n\u001b[1;32m      8\u001b[0m     h1 \u001b[38;5;241m=\u001b[39m t1\u001b[38;5;241m.\u001b[39mheight\n\u001b[1;32m      9\u001b[0m     h2 \u001b[38;5;241m=\u001b[39m t2\u001b[38;5;241m.\u001b[39mlong_run_height(end)\n",
      "Cell \u001b[0;32mIn [333], line 318\u001b[0m, in \u001b[0;36mTower.rock_shower\u001b[0;34m(self, n, return_traj)\u001b[0m\n\u001b[1;32m    316\u001b[0m heights \u001b[38;5;241m=\u001b[39m []\n\u001b[1;32m    317\u001b[0m \u001b[38;5;28;01mfor\u001b[39;00m _ \u001b[38;5;129;01min\u001b[39;00m tqdm\u001b[38;5;241m.\u001b[39mtqdm(\u001b[38;5;28mrange\u001b[39m(n)):\n\u001b[0;32m--> 318\u001b[0m     \u001b[38;5;28;43mself\u001b[39;49m\u001b[38;5;241;43m.\u001b[39;49m\u001b[43mrock_fall\u001b[49m\u001b[43m(\u001b[49m\u001b[43m)\u001b[49m\n\u001b[1;32m    319\u001b[0m     \u001b[38;5;28;01mif\u001b[39;00m return_traj:\n\u001b[1;32m    320\u001b[0m         heights\u001b[38;5;241m.\u001b[39mappend(\u001b[38;5;28mself\u001b[39m\u001b[38;5;241m.\u001b[39mheight)\n",
      "Cell \u001b[0;32mIn [333], line 302\u001b[0m, in \u001b[0;36mTower.rock_fall\u001b[0;34m(self)\u001b[0m\n\u001b[1;32m    300\u001b[0m rock_type \u001b[38;5;241m=\u001b[39m \u001b[38;5;28mnext\u001b[39m(\u001b[38;5;28mself\u001b[39m\u001b[38;5;241m.\u001b[39mrocks)\n\u001b[1;32m    301\u001b[0m \u001b[38;5;28mself\u001b[39m\u001b[38;5;241m.\u001b[39madd_lines(\u001b[38;5;28mself\u001b[39m\u001b[38;5;241m.\u001b[39mminy \u001b[38;5;241m+\u001b[39m rock_type\u001b[38;5;241m.\u001b[39mh \u001b[38;5;241m-\u001b[39m \u001b[38;5;28mself\u001b[39m\u001b[38;5;241m.\u001b[39mheadroom())\n\u001b[0;32m--> 302\u001b[0m rock \u001b[38;5;241m=\u001b[39m rock_type(\u001b[38;5;28mself\u001b[39m, \u001b[38;5;28mself\u001b[39m\u001b[38;5;241m.\u001b[39mminx, \u001b[38;5;28mlen\u001b[39m(\u001b[38;5;28mself\u001b[39m\u001b[38;5;241m.\u001b[39mgrid) \u001b[38;5;241m-\u001b[39m \u001b[38;5;28;43mself\u001b[39;49m\u001b[38;5;241;43m.\u001b[39;49m\u001b[43mheadroom\u001b[49m\u001b[43m(\u001b[49m\u001b[43m)\u001b[49m \u001b[38;5;241m+\u001b[39m \u001b[38;5;28mself\u001b[39m\u001b[38;5;241m.\u001b[39mminy) \u001b[38;5;66;03m# create rock of the right type, at x=2, y=len(self.grid)\u001b[39;00m\n\u001b[1;32m    303\u001b[0m \u001b[38;5;28;01mwhile\u001b[39;00m rock\u001b[38;5;241m.\u001b[39mis_moving:\n\u001b[1;32m    304\u001b[0m     wind_dir \u001b[38;5;241m=\u001b[39m \u001b[38;5;28mnext\u001b[39m(\u001b[38;5;28mself\u001b[39m\u001b[38;5;241m.\u001b[39mjets)\n",
      "Cell \u001b[0;32mIn [333], line 290\u001b[0m, in \u001b[0;36mTower.headroom\u001b[0;34m(self)\u001b[0m\n\u001b[1;32m    288\u001b[0m     \u001b[38;5;28;01mreturn\u001b[39;00m \u001b[38;5;241m0\u001b[39m\n\u001b[1;32m    289\u001b[0m \u001b[38;5;28;01mfor\u001b[39;00m k, row \u001b[38;5;129;01min\u001b[39;00m \u001b[38;5;28menumerate\u001b[39m(\u001b[38;5;28mself\u001b[39m\u001b[38;5;241m.\u001b[39mgrid[::\u001b[38;5;241m-\u001b[39m\u001b[38;5;241m1\u001b[39m]):\n\u001b[0;32m--> 290\u001b[0m     \u001b[38;5;28;01mif\u001b[39;00m \u001b[38;5;28;43msum\u001b[39;49m\u001b[43m(\u001b[49m\u001b[43mrow\u001b[49m\u001b[43m)\u001b[49m \u001b[38;5;241m>\u001b[39m \u001b[38;5;241m0\u001b[39m:\n\u001b[1;32m    291\u001b[0m         \u001b[38;5;28;01mreturn\u001b[39;00m k\n\u001b[1;32m    292\u001b[0m \u001b[38;5;28;01mreturn\u001b[39;00m k \u001b[38;5;241m+\u001b[39m \u001b[38;5;241m1\u001b[39m\n",
      "\u001b[0;31mKeyboardInterrupt\u001b[0m: "
     ]
    }
   ],
   "source": [
    "for end in tqdm.tqdm(range(5000, 6800)):\n",
    "    t1 = Tower(gas=lr)\n",
    "    t2 = Tower(gas=lr)\n",
    "    \n",
    "\n",
    "    with io.capture_output() as captured:\n",
    "        t1.rock_shower(end, return_traj=False)\n",
    "        h1 = t1.height\n",
    "        h2 = t2.long_run_height(end)\n",
    "    if h1 != h2:\n",
    "        print(end, h1, h2)"
   ]
  },
  {
   "cell_type": "code",
   "execution_count": 210,
   "id": "de2de774-7736-46f9-9310-411aeeb1bc01",
   "metadata": {},
   "outputs": [],
   "source": [
    "import numpy as np\n",
    "import matplotlib.pyplot as plt"
   ]
  },
  {
   "cell_type": "code",
   "execution_count": 341,
   "id": "f0b5ce94-a6d7-40c5-8d2f-475e1d2625b8",
   "metadata": {},
   "outputs": [
    {
     "name": "stderr",
     "output_type": "stream",
     "text": [
      "100%|████████████████████████████████████████████████████████████████████████████| 15000/15000 [00:00<00:00, 94164.30it/s]\n"
     ]
    },
    {
     "data": {
      "text/plain": [
       "<matplotlib.lines.Line2D at 0x282bb4ca0>"
      ]
     },
     "execution_count": 341,
     "metadata": {},
     "output_type": "execute_result"
    },
    {
     "data": {
      "image/png": "[encoded data removed]",
      "text/plain": [
       "<Figure size 640x480 with 1 Axes>"
      ]
     },
     "metadata": {},
     "output_type": "display_data"
    }
   ],
   "source": [
    "sample_tower = Tower(gas=lr)\n",
    "\n",
    "\n",
    "heights = sample_tower.rock_shower(15000, return_traj=True)\n",
    "\n",
    "heights = np.array(heights)\n",
    "\n",
    "# remove average (fitted) growth to look for pattern\n",
    "x = np.linspace(0, len(heights), len(heights))\n",
    "m = (x @ heights) / (x @ x)\n",
    "fluct = heights - m * x\n",
    "\n",
    "plt.plot(x, fluct)\n",
    "plt.axvline(x=453, c='r')\n",
    "plt.axvline(x=2188, c='r')"
   ]
  },
  {
   "cell_type": "markdown",
   "id": "b6992feb-390e-46cf-80a3-8fd677e4ef32",
   "metadata": {},
   "source": [
    "Periodic patter, with period $1735$, starting from step $453$."
   ]
  }
 ],
 "metadata": {
  "kernelspec": {
   "display_name": "Python 3 (ipykernel)",
   "language": "python",
   "name": "python3"
  },
  "language_info": {
   "codemirror_mode": {
    "name": "ipython",
    "version": 3
   },
   "file_extension": ".py",
   "mimetype": "text/x-python",
   "name": "python",
   "nbconvert_exporter": "python",
   "pygments_lexer": "ipython3",
   "version": "3.9.12"
  }
 },
 "nbformat": 4,
 "nbformat_minor": 5
}
