{
 "cells": [
  {
   "cell_type": "code",
   "execution_count": 15,
   "id": "ec2c17c4-3abe-48ea-b30f-8efc38be809e",
   "metadata": {},
   "outputs": [],
   "source": [
    "import operator"
   ]
  },
  {
   "cell_type": "code",
   "execution_count": 33,
   "id": "22e50cc2-9dbe-48c3-a0de-ed82451bcc97",
   "metadata": {},
   "outputs": [],
   "source": [
    "input_file = \"21_input.txt\""
   ]
  },
  {
   "cell_type": "code",
   "execution_count": 34,
   "id": "71df51ce-2e22-4dfc-8550-3e95dbe161b5",
   "metadata": {},
   "outputs": [],
   "source": [
    "monkeys = dict()\n",
    "\n",
    "with open(input_file) as f:\n",
    "    for line in f:\n",
    "        key, value = line.rstrip().split(\": \")\n",
    "        monkeys[key] = value"
   ]
  },
  {
   "cell_type": "code",
   "execution_count": 37,
   "id": "2c5b8161-40c2-443e-bf31-1acc2e974aa7",
   "metadata": {},
   "outputs": [],
   "source": [
    "ops = dict(zip(\"+-*/\", [operator.add, operator.sub, operator.mul, operator.truediv]))\n",
    "\n",
    "def evaluate(command):\n",
    "    value = monkeys[command]\n",
    "    try:\n",
    "        return int(value)\n",
    "    except ValueError:\n",
    "        #print(value)\n",
    "        m1, op, m2 = value.split()\n",
    "        operation = ops[op]\n",
    "        m1_val = evaluate(m1)\n",
    "        m2_val = evaluate(m2)\n",
    "        return operation(m1_val, m2_val)\n",
    "\n"
   ]
  },
  {
   "cell_type": "code",
   "execution_count": 38,
   "id": "6ca4a10d-6bda-456d-9113-f9aaa4cf8224",
   "metadata": {},
   "outputs": [
    {
     "data": {
      "text/plain": [
       "110181395003396.0"
      ]
     },
     "execution_count": 38,
     "metadata": {},
     "output_type": "execute_result"
    }
   ],
   "source": [
    "evaluate(\"root\")"
   ]
  },
  {
   "cell_type": "code",
   "execution_count": null,
   "id": "f6a56b16-b244-4e0b-95a5-71b34b02055d",
   "metadata": {},
   "outputs": [],
   "source": []
  }
 ],
 "metadata": {
  "kernelspec": {
   "display_name": "Python 3 (ipykernel)",
   "language": "python",
   "name": "python3"
  },
  "language_info": {
   "codemirror_mode": {
    "name": "ipython",
    "version": 3
   },
   "file_extension": ".py",
   "mimetype": "text/x-python",
   "name": "python",
   "nbconvert_exporter": "python",
   "pygments_lexer": "ipython3",
   "version": "3.9.12"
  }
 },
 "nbformat": 4,
 "nbformat_minor": 5
}
