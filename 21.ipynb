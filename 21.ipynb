{
 "cells": [
  {
   "cell_type": "code",
   "execution_count": 1,
   "id": "ec2c17c4-3abe-48ea-b30f-8efc38be809e",
   "metadata": {},
   "outputs": [],
   "source": [
    "import operator\n",
    "\n",
    "import tqdm\n",
    "from scipy import optimize"
   ]
  },
  {
   "cell_type": "code",
   "execution_count": 2,
   "id": "71df51ce-2e22-4dfc-8550-3e95dbe161b5",
   "metadata": {},
   "outputs": [],
   "source": [
    "input_file = \"21_input.txt\"\n",
    "\n",
    "monkeys = dict()\n",
    "\n",
    "with open(input_file) as f:\n",
    "    for line in f:\n",
    "        key, value = line.rstrip().split(\": \")\n",
    "        monkeys[key] = value"
   ]
  },
  {
   "cell_type": "code",
   "execution_count": 3,
   "id": "2c5b8161-40c2-443e-bf31-1acc2e974aa7",
   "metadata": {},
   "outputs": [],
   "source": [
    "ops = dict(zip(\"+-*/\", [operator.add, operator.sub, operator.mul, operator.truediv]))\n",
    "\n",
    "def evaluate(command):\n",
    "    value = monkeys[command]\n",
    "    try:\n",
    "        return int(value)\n",
    "    except ValueError:\n",
    "        #print(value)\n",
    "        m1, op, m2 = value.split()\n",
    "        operation = ops[op]\n",
    "        m1_val = evaluate(m1)\n",
    "        m2_val = evaluate(m2)\n",
    "        return operation(m1_val, m2_val)\n",
    "\n",
    "\n",
    "def match(humn: int):\n",
    "    monkeys[\"humn\"] = humn\n",
    "    m1, _, m2 = monkeys[\"root\"].split()\n",
    "    n1 = evaluate(m1)\n",
    "    n2 = evaluate(m2)\n",
    "    return n1 == n2, (n1, n2)\n",
    "\n",
    "\n",
    "def match_hack(maxh=10**5):\n",
    "    # use the fact that n2 does not depend on humn\n",
    "    m1, _, m2 = monkeys[\"root\"].split()\n",
    "    n2 = evaluate(m2)\n",
    "    for h in tqdm.tqdm(range(maxh)):\n",
    "        monkeys[\"humn\"] = h\n",
    "        n1 = evaluate(m1)\n",
    "        if n1 == n2:\n",
    "            return h\n",
    "    return -1\n",
    "\n",
    "\n",
    "def eval_n1(humn: int):\n",
    "    monkeys[\"humn\"] = humn\n",
    "    m1, _, _ = monkeys[\"root\"].split()\n",
    "    return evaluate(m1)\n",
    "\n",
    "\n",
    "\n",
    "def eval_diff(humn: int):\n",
    "    return eval_n1(humn) - 22931068684876"
   ]
  },
  {
   "cell_type": "code",
   "execution_count": 4,
   "id": "d5809fa2-f39b-4342-92d4-47f445a66aa6",
   "metadata": {},
   "outputs": [
    {
     "data": {
      "text/plain": [
       "110181395003396.0"
      ]
     },
     "execution_count": 4,
     "metadata": {},
     "output_type": "execute_result"
    }
   ],
   "source": [
    "evaluate(\"root\")"
   ]
  },
  {
   "cell_type": "code",
   "execution_count": 5,
   "id": "fa285f6b-f29a-4c45-98a8-da7433bedafe",
   "metadata": {},
   "outputs": [
    {
     "data": {
      "text/plain": [
       "69966235425451.44"
      ]
     },
     "execution_count": 5,
     "metadata": {},
     "output_type": "execute_result"
    }
   ],
   "source": [
    "eval_n1(10**12)"
   ]
  },
  {
   "cell_type": "code",
   "execution_count": 6,
   "id": "7df54575-ec39-46b9-b9a2-4e5f2f4d61e8",
   "metadata": {},
   "outputs": [
    {
     "data": {
      "text/plain": [
       "3721298272959.643"
      ]
     },
     "execution_count": 6,
     "metadata": {},
     "output_type": "execute_result"
    }
   ],
   "source": [
    "monkeys2 = monkeys.copy()\n",
    "\n",
    "optimize.bisect(eval_diff, 10**12, 10**13)"
   ]
  },
  {
   "cell_type": "code",
   "execution_count": 7,
   "id": "d3fa37a3-75c5-4699-8a57-9077e7a818e8",
   "metadata": {},
   "outputs": [
    {
     "data": {
      "text/plain": [
       "(True, (22931068684876.0, 22931068684876.0))"
      ]
     },
     "execution_count": 7,
     "metadata": {},
     "output_type": "execute_result"
    }
   ],
   "source": [
    "match(3721298272959)"
   ]
  },
  {
   "cell_type": "code",
   "execution_count": null,
   "id": "5a24b7af-5d06-4113-b150-2ca2bb8c55d8",
   "metadata": {},
   "outputs": [],
   "source": []
  }
 ],
 "metadata": {
  "kernelspec": {
   "display_name": "Python 3 (ipykernel)",
   "language": "python",
   "name": "python3"
  },
  "language_info": {
   "codemirror_mode": {
    "name": "ipython",
    "version": 3
   },
   "file_extension": ".py",
   "mimetype": "text/x-python",
   "name": "python",
   "nbconvert_exporter": "python",
   "pygments_lexer": "ipython3",
   "version": "3.9.12"
  }
 },
 "nbformat": 4,
 "nbformat_minor": 5
}
