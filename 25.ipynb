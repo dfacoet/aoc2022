{
 "cells": [
  {
   "cell_type": "code",
   "execution_count": 1,
   "id": "7b130cfb-715f-40b9-bc5e-890e1a941281",
   "metadata": {},
   "outputs": [],
   "source": [
    "def int_base(n: int, b: int) -> list[int]:\n",
    "        if n == 0:\n",
    "            return [0]\n",
    "        digits = []\n",
    "        while n:\n",
    "            digits.append(n % b)\n",
    "            n = n // b\n",
    "        return digits\n",
    "\n",
    "class BalancedTernary:\n",
    "    def __init__(self, n: int):\n",
    "        self.value = n\n",
    "        self.digits = self.int_to_digits(n)\n",
    "\n",
    "    \n",
    "    def int_to_digits(self, n=None):\n",
    "        if n is None:\n",
    "            n = self.value\n",
    "        digits = int_base(n, 3)\n",
    "        carry = 0\n",
    "        while not(set(digits) <= {-1, 0, 1}):\n",
    "            carry = 0\n",
    "            for k, d in enumerate(digits):\n",
    "                d += carry\n",
    "                if d > 1:\n",
    "                    d -= 3\n",
    "                    carry = 1\n",
    "                else:\n",
    "                    carry = 0\n",
    "                digits[k] = d\n",
    "        if carry:\n",
    "            digits.append(carry)\n",
    "        return digits\n",
    "    \n",
    "    \n",
    "    def digits_to_int(self, digits=None):\n",
    "        if digits is None:\n",
    "            digits = self.digits\n",
    "        return sum([d * 3**k for k, d in enumerate(digits)])\n",
    "    \n",
    "    def to_str(self, chars=\"01-\"):\n",
    "        return ''.join(chars[d] for d in self.digits[::-1])\n",
    "\n",
    "class BalancedQuinary:\n",
    "    def __init__(self, n: int):\n",
    "        self.value = n\n",
    "        self.digits = self.int_to_digits(n)\n",
    "        self.chars = \"012=-\"\n",
    "    \n",
    "    def int_to_digits(self, n=None):\n",
    "        if n is None:\n",
    "            n = self.value\n",
    "        digits = int_base(n, 5)\n",
    "        carry = 0\n",
    "        while not(set(digits) <= {-2, -1, 0, 1, 2}):\n",
    "            carry = 0\n",
    "            for k, d in enumerate(digits):\n",
    "                d += carry\n",
    "                if d > 2:\n",
    "                    d -= 5\n",
    "                    carry = 1\n",
    "                else:\n",
    "                    carry = 0\n",
    "                digits[k] = d\n",
    "        if carry:\n",
    "            digits.append(carry)\n",
    "        return digits\n",
    "    \n",
    "    def digits_to_int(self, digits=None):\n",
    "        if digits is None:\n",
    "            digits = self.digits\n",
    "        return sum([d * 5**k for k, d in enumerate(digits)])\n",
    "    \n",
    "    def to_str(self):\n",
    "        return ''.join(self.chars[d] for d in self.digits[::-1])\n",
    "    \n",
    "    def __add__(self, other):\n",
    "        return BalancedQuinary(self.value + other.value)\n",
    "    \n",
    "    @property\n",
    "    def charvalue(self):\n",
    "        return dict(zip(self.chars, [0, 1, 2, -2, -1]))\n",
    "    \n",
    "    def from_digitstr(self, digitstr):\n",
    "        cv = self.charvalue\n",
    "        value = self.digits_to_int([cv[c] for c in digitstr[::-1]])\n",
    "        return BalancedQuinary(value)"
   ]
  },
  {
   "cell_type": "code",
   "execution_count": 2,
   "id": "4a5633fb-eda9-4f52-9147-a164449de7db",
   "metadata": {},
   "outputs": [],
   "source": [
    "input_file = \"25_input.txt\"\n",
    "with open(input_file) as f:\n",
    "    snafu = [BalancedQuinary(0).from_digitstr(line.rstrip()) for line in f]"
   ]
  },
  {
   "cell_type": "code",
   "execution_count": 3,
   "id": "8627970e-2879-425c-9a01-c4bc2648a869",
   "metadata": {},
   "outputs": [
    {
     "data": {
      "text/plain": [
       "'2---1010-0=1220-=010'"
      ]
     },
     "execution_count": 3,
     "metadata": {},
     "output_type": "execute_result"
    }
   ],
   "source": [
    "# part 1\n",
    "sum(snafu, start=BalancedQuinary(0)).to_str()"
   ]
  },
  {
   "cell_type": "code",
   "execution_count": null,
   "id": "e614d5ba-4bf3-450c-9439-9f84f64e92a8",
   "metadata": {},
   "outputs": [],
   "source": []
  }
 ],
 "metadata": {
  "kernelspec": {
   "display_name": "Python 3 (ipykernel)",
   "language": "python",
   "name": "python3"
  },
  "language_info": {
   "codemirror_mode": {
    "name": "ipython",
    "version": 3
   },
   "file_extension": ".py",
   "mimetype": "text/x-python",
   "name": "python",
   "nbconvert_exporter": "python",
   "pygments_lexer": "ipython3",
   "version": "3.9.12"
  }
 },
 "nbformat": 4,
 "nbformat_minor": 5
}
