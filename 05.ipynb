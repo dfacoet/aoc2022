{
 "cells": [
  {
   "cell_type": "code",
   "execution_count": 1,
   "id": "20234d39-94a7-437f-9267-9da242cf5c58",
   "metadata": {},
   "outputs": [],
   "source": [
    "input_file = \"05_input.txt\""
   ]
  },
  {
   "cell_type": "code",
   "execution_count": 2,
   "id": "6fd2ef3f-88b3-488a-87e1-cd4d0a8ed349",
   "metadata": {},
   "outputs": [],
   "source": [
    "c = 0\n",
    "st = 9\n",
    "with open(input_file) as f:\n",
    "    l = f.readline()\n",
    "    n = len(l)\n",
    "    m = (n + 1) // 4\n",
    "    \n",
    "    crates = []\n",
    "    \n",
    "    while l[0] == '[':\n",
    "        crates.append([l[1 + 4*k] for k in range(m)])\n",
    "        l = f.readline()\n",
    "    f.readline()\n",
    "    \n",
    "    l = f.readline()\n",
    "    moves = []\n",
    "    while len(l) > 0:\n",
    "        s = l.split()\n",
    "        moves.append([int(s[1]), int(s[3])-1, int(s[5])-1])\n",
    "        l = f.readline()"
   ]
  },
  {
   "cell_type": "code",
   "execution_count": 3,
   "id": "286b6e9d-2497-4b73-a86a-cfbdd9b166a9",
   "metadata": {},
   "outputs": [],
   "source": [
    "def load_crates(crates):\n",
    "    m = len(crates[0])\n",
    "    piles = [[] for _ in range(m)]\n",
    "    for row in crates[::-1]:\n",
    "        for p, c in zip(piles, row):\n",
    "            if c != ' ':\n",
    "                p.append(c)\n",
    "    return piles\n",
    "\n",
    "\n",
    "def move_crates_rev(piles, move):\n",
    "    k, origin, dest = move\n",
    "    if len(piles[origin]) < k:\n",
    "        raise ValueError(f\"Pile has fewer than {k} crates\")\n",
    "    to_move = piles[origin][-1:-1-k:-1] #last k elements, reversed\n",
    "    piles[dest] = piles[dest] + to_move\n",
    "    piles[origin] = piles[origin][:-k]\n",
    "\n",
    "\n",
    "def run1(crates, moves):\n",
    "    piles = load_crates(crates)\n",
    "    [move_crates_rev(piles, move) for move in moves]\n",
    "    return piles\n",
    "\n",
    "\n",
    "def part1(crates, moves):\n",
    "    piles_final = run1(crates, moves)\n",
    "    return ''.join([p[-1] for p in piles_final if len(p) > 0])\n",
    "\n",
    "\n",
    "def move_crates(piles, move):\n",
    "    k, origin, dest = move\n",
    "    if len(piles[origin]) < k:\n",
    "        raise ValueError(f\"Pile has fewer than {k} crates\")\n",
    "    to_move = piles[origin][-k:] #last k elements, reversed\n",
    "    piles[dest] = piles[dest] + to_move\n",
    "    piles[origin] = piles[origin][:-k]\n",
    "\n",
    "    \n",
    "def run2(crates, moves):\n",
    "    piles = load_crates(crates)\n",
    "    [move_crates(piles, move) for move in moves]\n",
    "    return piles\n",
    "\n",
    "\n",
    "def part2(crates, moves):\n",
    "    piles_final = run2(crates, moves)\n",
    "    return ''.join([p[-1] for p in piles_final if len(p) > 0])"
   ]
  },
  {
   "cell_type": "code",
   "execution_count": 4,
   "id": "acb32f27-bb30-4721-951a-48420639ecda",
   "metadata": {},
   "outputs": [
    {
     "name": "stdout",
     "output_type": "stream",
     "text": [
      "CPU times: user 313 µs, sys: 0 ns, total: 313 µs\n",
      "Wall time: 315 µs\n"
     ]
    },
    {
     "data": {
      "text/plain": [
       "'LJSVLTWQM'"
      ]
     },
     "execution_count": 4,
     "metadata": {},
     "output_type": "execute_result"
    }
   ],
   "source": [
    "%%time\n",
    "\n",
    "part1(crates, moves)"
   ]
  },
  {
   "cell_type": "code",
   "execution_count": 5,
   "id": "c08dd89e-f451-4cd7-b76d-3aa0ed953187",
   "metadata": {},
   "outputs": [
    {
     "name": "stdout",
     "output_type": "stream",
     "text": [
      "CPU times: user 281 µs, sys: 1 µs, total: 282 µs\n",
      "Wall time: 283 µs\n"
     ]
    },
    {
     "data": {
      "text/plain": [
       "'LJSVLTWQM'"
      ]
     },
     "execution_count": 5,
     "metadata": {},
     "output_type": "execute_result"
    }
   ],
   "source": [
    "%%time\n",
    "\n",
    "part1(crates, moves)"
   ]
  }
 ],
 "metadata": {
  "kernelspec": {
   "display_name": "Python 3 (ipykernel)",
   "language": "python",
   "name": "python3"
  },
  "language_info": {
   "codemirror_mode": {
    "name": "ipython",
    "version": 3
   },
   "file_extension": ".py",
   "mimetype": "text/x-python",
   "name": "python",
   "nbconvert_exporter": "python",
   "pygments_lexer": "ipython3",
   "version": "3.9.12"
  }
 },
 "nbformat": 4,
 "nbformat_minor": 5
}
