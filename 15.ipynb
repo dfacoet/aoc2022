{
 "cells": [
  {
   "cell_type": "code",
   "execution_count": 1,
   "id": "7191b60f-3557-49f6-a4ea-772d2d76d629",
   "metadata": {},
   "outputs": [],
   "source": [
    "input_file = \"15_input.txt\""
   ]
  },
  {
   "cell_type": "code",
   "execution_count": 2,
   "id": "64d5e5a6-8084-411f-a16c-8b02e73a7863",
   "metadata": {},
   "outputs": [],
   "source": [
    "from tqdm import tqdm\n",
    "from bisect import bisect_left, bisect_right"
   ]
  },
  {
   "cell_type": "code",
   "execution_count": 3,
   "id": "4c5e0a34-bbb4-4606-ad79-03f816e0962e",
   "metadata": {},
   "outputs": [],
   "source": [
    "sensors = []\n",
    "\n",
    "with open(input_file) as f:\n",
    "    for line in f:\n",
    "        line = line.rstrip().split()\n",
    "        sensor = [int(line[i][2:].rstrip(\",:\")) for i in [2, 3]]\n",
    "        beacon = [int(line[i][2:].rstrip(\",:\")) for i in [8, 9]]\n",
    "        sensors.append([sensor, beacon])"
   ]
  },
  {
   "cell_type": "code",
   "execution_count": 4,
   "id": "6e556a49-8aab-4d3b-9361-cc4253becf54",
   "metadata": {},
   "outputs": [],
   "source": [
    "def distance(p1, p2):\n",
    "    # manhattan distance between two points\n",
    "    return sum(abs(c1-c2) for c1, c2 in zip(p1, p2))\n",
    "\n",
    "\n",
    "class LocationSystem:\n",
    "    def __init__(self, sensorlist):\n",
    "        self.sensors = [o[0] for o in sensorlist]\n",
    "        self.beacons = [o[1] for o in sensorlist]\n",
    "        self.unique_beacons = list(list(b) for b in set(tuple(b) for b in self.beacons))\n",
    "        self.distances = [distance(sensor, beacon) for sensor, beacon in zip(self.sensors, self.beacons)]\n",
    "        all_x = [c[0] for c in self.sensors + self.beacons]\n",
    "        all_y = [c[1] for c in self.sensors + self.beacons]\n",
    "        self.xlim = min(all_x), max(all_x)\n",
    "        self.ylim = min(all_y), max(all_y)\n",
    "        self.width = 1 + self.xlim[1] - self.xlim[0]\n",
    "        self.height = 1 + self.ylim[1] - self.ylim[0]\n",
    "    \n",
    "    \n",
    "    def print_grid(self, chars='.SB#', excluded=False, restrict=None):\n",
    "        grid = [[chars[0]] * (self.width) for _ in range(self.height)]\n",
    "        if excluded:\n",
    "            for (x, y), d in zip(self.sensors, self.distances):\n",
    "                ymin = max(self.ylim[0], y - d) - self.ylim[0]\n",
    "                ymax = min(self.ylim[1], y + d) - self.ylim[0]\n",
    "                for ry in range(ymin, ymax + 1):\n",
    "                    dy = abs(y - ry)\n",
    "                    dx = d - dy\n",
    "                    xmin = max(self.xlim[0], x - dx) - self.xlim[0]\n",
    "                    xmax = min(self.xlim[1], x + dx) - self.xlim[0]\n",
    "                    for rx in range(xmin, xmax + 1):\n",
    "                        grid[ry][rx] = chars[3]\n",
    "                    #grid[ry][xmin : xmax + 1] = chars[3]\n",
    "        for x, y in self.sensors:\n",
    "            grid[y - self.ylim[0]][x - self.xlim[0]] = chars[1]\n",
    "        for x, y in self.unique_beacons:\n",
    "            grid[y - self.ylim[0]][x - self.xlim[0]] = chars[2]\n",
    "        print(\"    \" + ''.join('x' if x % 5 == 0 else ' ' for x in range(self.xlim[0], self.ylim[1]+1)))\n",
    "        for k, row in enumerate(grid):\n",
    "            print(f\"{k+self.ylim[0]:3}\", ''.join(row))\n",
    "    \n",
    "    @staticmethod\n",
    "    def excluded_row(row, pos, dmax):\n",
    "        dy = abs(pos[1] - row)\n",
    "        dx = dmax - dy\n",
    "        if dx < 0:\n",
    "            return 0, (None, None)\n",
    "        xmin = pos[0] - dx\n",
    "        xmax = pos[0] + dx\n",
    "        return 2 * dx + 1, (xmin, xmax)\n",
    "    \n",
    "    \n",
    "    def count_excluded(self, row):\n",
    "        left_edges = []\n",
    "        right_edges = []\n",
    "        for pos, dmax in zip(self.sensors, self.distances):\n",
    "            w, (xmin, xmax) = self.excluded_row(row, pos, dmax)\n",
    "            if w > 0:\n",
    "                kl = bisect_left(left_edges, xmin)\n",
    "                kr = bisect_right(right_edges, xmax)\n",
    "                if kl == 0 or xmin > right_edges[kl - 1]:\n",
    "                    new_left_edges = left_edges[:kl] + [xmin]\n",
    "                    new_right_edges = right_edges[:kl]\n",
    "                else:\n",
    "                    new_left_edges = left_edges[:kl]\n",
    "                    new_right_edges = right_edges[:kl-1]\n",
    "                if kr == len(right_edges) or xmax < left_edges[kr]:\n",
    "                    new_left_edges += left_edges[kr:]\n",
    "                    new_right_edges += [xmax] + right_edges[kr:]\n",
    "                else:\n",
    "                    new_left_edges += left_edges[kr+1:]\n",
    "                    new_right_edges += right_edges[kr:]\n",
    "                left_edges = new_left_edges\n",
    "                right_edges = new_right_edges\n",
    "        excluded_legth = sum(1 + r - l for l, r in zip(left_edges, right_edges))\n",
    "        n_beacons = sum(1 for b in self.unique_beacons if b[1] == row)\n",
    "        return excluded_legth - n_beacons\n",
    "    \n",
    "    \n",
    "    def allowed_in_row(self, row, rmin, rmax):\n",
    "        left_edges = []\n",
    "        right_edges = []\n",
    "        for pos, dmax in zip(self.sensors, self.distances):\n",
    "            w, (xmin, xmax) = self.excluded_row(row, pos, dmax)\n",
    "            if w > 0:\n",
    "                xmin = max(xmin, rmin)\n",
    "                xmax = min(xmax, rmax)\n",
    "                kl = bisect_left(left_edges, xmin)\n",
    "                kr = bisect_right(right_edges, xmax)\n",
    "                if kl == 0 or xmin > right_edges[kl - 1]:\n",
    "                    new_left_edges = left_edges[:kl] + [xmin]\n",
    "                    new_right_edges = right_edges[:kl]\n",
    "                else:\n",
    "                    new_left_edges = left_edges[:kl]\n",
    "                    new_right_edges = right_edges[:kl-1]\n",
    "                if kr == len(right_edges) or xmax < left_edges[kr]:\n",
    "                    new_left_edges += left_edges[kr:]\n",
    "                    new_right_edges += [xmax] + right_edges[kr:]\n",
    "                else:\n",
    "                    new_left_edges += left_edges[kr+1:]\n",
    "                    new_right_edges += right_edges[kr:]\n",
    "                left_edges = new_left_edges\n",
    "                right_edges = new_right_edges\n",
    "        if len(left_edges) == 2 and left_edges[1] == right_edges[0] + 2:\n",
    "            return left_edges[1] - 1\n",
    "        \n",
    "        \n",
    "    def find_allowed(self, xlim, ylim):\n",
    "        for row in tqdm(range(ylim[0], ylim[1] + 1)):\n",
    "            found = self.allowed_in_row(row, xlim[0], xlim[1])\n",
    "            if found is not None:\n",
    "                return found, row\n",
    "        return None, row\n",
    "            \n",
    "    \n",
    "    def tuning_freq(self, xlim=[0, 4_000_000], ylim=[0, 4_000_000]):\n",
    "        x, y = self.find_allowed(xlim, ylim)\n",
    "        if x is not None:\n",
    "            return x * 4_000_000 + y\n",
    "        raise ValueError(\"No allowed position was found\")\n",
    "    \n",
    "    \n",
    "    def check_allowed(self, x, y):\n",
    "        for sensor, d in zip(self.sensors, self.distances):\n",
    "            if distance([x, y], sensor) <= d:\n",
    "                return False\n",
    "        return True\n",
    "    \n",
    "    \n",
    "    def slow_find(self, xlim, ylim):\n",
    "        # runs in ~1-2 years\n",
    "        for x in tqdm(range(xlim[0], xlim[1] + 1), desc=\"x\"):\n",
    "            for y in tqdm(range(ylim[0], ylim[1] + 1), desc=\"    y\", miniters=(ylim[1]-ylim[0])//2):\n",
    "                if self.check_allowed(x, y):\n",
    "                    return x, y"
   ]
  },
  {
   "cell_type": "code",
   "execution_count": 5,
   "id": "aa9019a5-7143-47aa-9340-54a802f8b995",
   "metadata": {},
   "outputs": [
    {
     "data": {
      "text/plain": [
       "4665948"
      ]
     },
     "execution_count": 5,
     "metadata": {},
     "output_type": "execute_result"
    }
   ],
   "source": [
    "cave = LocationSystem(sensors)\n",
    "\n",
    "#part 1\n",
    "cave.count_excluded(2_000_000)"
   ]
  },
  {
   "cell_type": "code",
   "execution_count": 6,
   "id": "4972e97f-4fa5-4618-aa60-1e88491dd4fd",
   "metadata": {},
   "outputs": [
    {
     "name": "stderr",
     "output_type": "stream",
     "text": [
      " 67%|████████████████████████████████████████████████                        | 2671045/4000001 [00:27<00:13, 98133.06it/s]\n"
     ]
    },
    {
     "data": {
      "text/plain": [
       "13543690671045"
      ]
     },
     "execution_count": 6,
     "metadata": {},
     "output_type": "execute_result"
    }
   ],
   "source": [
    "cave.tuning_freq()"
   ]
  },
  {
   "cell_type": "code",
   "execution_count": null,
   "id": "d53dbc39-33ca-4786-968c-2fbc8645d278",
   "metadata": {},
   "outputs": [],
   "source": []
  }
 ],
 "metadata": {
  "kernelspec": {
   "display_name": "Python 3 (ipykernel)",
   "language": "python",
   "name": "python3"
  },
  "language_info": {
   "codemirror_mode": {
    "name": "ipython",
    "version": 3
   },
   "file_extension": ".py",
   "mimetype": "text/x-python",
   "name": "python",
   "nbconvert_exporter": "python",
   "pygments_lexer": "ipython3",
   "version": "3.9.12"
  }
 },
 "nbformat": 4,
 "nbformat_minor": 5
}
