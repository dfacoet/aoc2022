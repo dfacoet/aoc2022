{
 "cells": [
  {
   "cell_type": "code",
   "execution_count": 1,
   "id": "5f3573e6-4f8b-46dc-b0c2-64d870185de5",
   "metadata": {},
   "outputs": [],
   "source": [
    "import math"
   ]
  },
  {
   "cell_type": "code",
   "execution_count": 2,
   "id": "efa38b08-7fd8-42bf-83bd-5ca711e5e189",
   "metadata": {},
   "outputs": [],
   "source": [
    "input_file = \"07_input.txt\""
   ]
  },
  {
   "cell_type": "code",
   "execution_count": 3,
   "id": "ce49b010-3d3e-4154-863d-838227d9307c",
   "metadata": {},
   "outputs": [],
   "source": [
    "class File:\n",
    "    def __init__(self, name, size):\n",
    "        self.name = name\n",
    "        self.size = size\n",
    "\n",
    "\n",
    "    def full_path(self):\n",
    "        if self.folder is None:\n",
    "            return '/'\n",
    "        return self.folder.full_path() + self.name\n",
    "    \n",
    "    \n",
    "    def print(self):\n",
    "        print('-' * self.level + f'{self.name} ({self.size:d})')\n",
    "    \n",
    "    \n",
    "class Dir:\n",
    "    def __init__(self, name='/', folder=None, level=0):\n",
    "        self.name = name\n",
    "        self.files = {}\n",
    "        self.subfolders = {}\n",
    "        self.folder = folder\n",
    "        self.level = level\n",
    "    \n",
    "    \n",
    "    def add_file(self, name, size):\n",
    "        file = File(name, size)\n",
    "        self.files[name] = file\n",
    "        file.folder = self\n",
    "        file.level = self.level + 1\n",
    "    \n",
    "    \n",
    "    def mkdir(self, name):\n",
    "        newdir = Dir(name)\n",
    "        self.subfolders[name] = newdir\n",
    "        newdir.folder = self\n",
    "        newdir.level = self.level + 1\n",
    "        \n",
    "        \n",
    "    def ls(self):\n",
    "        return self.subfolders.keys() + self.files.keys()\n",
    "    \n",
    "    \n",
    "    def compute_size(self):\n",
    "        self.size = sum(self.subfolders[x].compute_size() for x in self.subfolders)\n",
    "        self.size += sum(self.files[x].size for x in self.files)\n",
    "        return self.size\n",
    "    \n",
    "    \n",
    "    def full_path(self):\n",
    "        if self.folder is None:\n",
    "            return '/'\n",
    "        return self.folder.full_path() + self.name + '/'\n",
    "    \n",
    "    \n",
    "    def print(self):\n",
    "        print('-' * self.level + self.name)\n",
    "        for c in self.subfolders:\n",
    "            self.subfolders[c].print()\n",
    "        for c in self.files:\n",
    "            self.files[c].print()\n",
    "    \n",
    "    \n",
    "    def sum_smaller(self, size):\n",
    "        total = sum([self.subfolders[x].sum_smaller(size) for x in self.subfolders])\n",
    "        if self.size <= size:\n",
    "            total += self.size\n",
    "        return total\n",
    "    \n",
    "    \n",
    "    def find_min(self, minsize):\n",
    "        big_enough = [self.subfolders[x].size for x in self.subfolders if (self.subfolders[x].size >= minsize)]\n",
    "        if len(big_enough) == 0:\n",
    "            return math.inf\n",
    "        return min(big_enough)\n",
    "    \n",
    "    def all_sizes(self):\n",
    "        return [self.size] + sum([self.subfolders[x].all_sizes() for x in self.subfolders], [])\n",
    "\n",
    "\n",
    "class FileSystem:\n",
    "    def __init__(self):\n",
    "        self.root = Dir()\n",
    "        self.current = self.root\n",
    "\n",
    "\n",
    "    def cd(self, d):\n",
    "        if d == '/':\n",
    "            self.current = self.root\n",
    "        elif d == '..':\n",
    "            if self.current == self.root:\n",
    "                raise ValueError(\"Cannot go up from root\")\n",
    "            self.current = self.current.folder\n",
    "        else:\n",
    "            self.current = self.current.subfolders[d]\n",
    "    \n",
    "    \n",
    "    def mkdir(self, name):\n",
    "        self.current.mkdir(name)\n",
    "    \n",
    "    \n",
    "    def pwd(self):\n",
    "        return self.current.full_path()\n",
    "    \n",
    "    \n",
    "    def print(self):\n",
    "        self.root.print()\n",
    "    \n",
    "    \n",
    "    def parse_command(self, comm):\n",
    "        if comm[0] == 'cd':\n",
    "            self.cd(comm[1])\n",
    "        if comm[0] == 'ls':\n",
    "            if self.current.subfolders == {} and self.current.files == {}:\n",
    "                for size, name in comm[1]:\n",
    "                    if size == 'dir':\n",
    "                        self.current.mkdir(name)\n",
    "                    else:\n",
    "                        self.current.add_file(name, int(size))\n",
    "            else:\n",
    "                print(self.current.subfolders.keys(), self.current.files.keys())\n",
    "                print(comm[1])\n",
    "                raise ValueError(\"Directory not empty\")\n",
    "    \n",
    "    \n",
    "    def du(self):\n",
    "        self.root.compute_size()\n",
    "        \n",
    "    \n",
    "    def to_free(self, needed=4*10**7):\n",
    "        return self.root.size - needed\n",
    "    \n",
    "    \n",
    "    def find_min(self, minsize=None):\n",
    "        if minsize is None:\n",
    "            minsize = self.to_free()\n",
    "        # return min(self.root.size, self.root.find_min(minsize)\n",
    "        return min([s for s in self.all_sizes() if s >= minsize])\n",
    "    \n",
    "    def all_sizes(self):\n",
    "        return self.root.all_sizes()"
   ]
  },
  {
   "cell_type": "code",
   "execution_count": 4,
   "id": "3a177cac-0ea0-49b6-bbae-9db223ac3d10",
   "metadata": {
    "tags": []
   },
   "outputs": [],
   "source": [
    "with open(input_file) as f:\n",
    "    terminal = [l.rstrip() for l in f]"
   ]
  },
  {
   "cell_type": "code",
   "execution_count": 5,
   "id": "6620e01f-b39a-4139-9873-83303b02e9ee",
   "metadata": {},
   "outputs": [],
   "source": [
    "commands = []\n",
    "lsing = False\n",
    "\n",
    "for x in terminal:\n",
    "    line = x.split()\n",
    "    if line[0] == '$':\n",
    "        if lsing:\n",
    "            lsing = False\n",
    "        if line[1] == 'cd':\n",
    "            commands.append(['cd', line[2]])\n",
    "        elif line[1] == 'ls':\n",
    "            lsing = True\n",
    "            lslist = []\n",
    "            commands.append(['ls', lslist])\n",
    "        else:\n",
    "            raise ValueError(line[1], \"is not a command\")\n",
    "    elif lsing:\n",
    "        lslist.append(line)\n",
    "    else:\n",
    "        raise ValueError(\"string not recognised:\", x)"
   ]
  },
  {
   "cell_type": "code",
   "execution_count": 6,
   "id": "2495e9b3-92ae-4ee3-ac2f-0bd97e1f4fa3",
   "metadata": {},
   "outputs": [],
   "source": [
    "fs = FileSystem()\n",
    "\n",
    "for command in commands:\n",
    "    fs.parse_command(command)\n",
    "    \n",
    "fs.du()"
   ]
  },
  {
   "cell_type": "code",
   "execution_count": 7,
   "id": "f6473e2b-b214-49fd-a044-c38528d617cb",
   "metadata": {},
   "outputs": [
    {
     "data": {
      "text/plain": [
       "1243729"
      ]
     },
     "execution_count": 7,
     "metadata": {},
     "output_type": "execute_result"
    }
   ],
   "source": [
    "#part 1\n",
    "fs.root.sum_smaller(10**5)"
   ]
  },
  {
   "cell_type": "code",
   "execution_count": 8,
   "id": "6674fa03-c431-4790-a5e5-eb80d244f792",
   "metadata": {},
   "outputs": [
    {
     "data": {
      "text/plain": [
       "4443914"
      ]
     },
     "execution_count": 8,
     "metadata": {},
     "output_type": "execute_result"
    }
   ],
   "source": [
    "#part 2\n",
    "fs.find_min()"
   ]
  },
  {
   "cell_type": "code",
   "execution_count": null,
   "id": "ae690874-af6d-4f78-9790-53b767eb0a03",
   "metadata": {},
   "outputs": [],
   "source": []
  }
 ],
 "metadata": {
  "kernelspec": {
   "display_name": "Python 3 (ipykernel)",
   "language": "python",
   "name": "python3"
  },
  "language_info": {
   "codemirror_mode": {
    "name": "ipython",
    "version": 3
   },
   "file_extension": ".py",
   "mimetype": "text/x-python",
   "name": "python",
   "nbconvert_exporter": "python",
   "pygments_lexer": "ipython3",
   "version": "3.9.12"
  }
 },
 "nbformat": 4,
 "nbformat_minor": 5
}
