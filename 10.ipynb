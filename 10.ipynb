{
 "cells": [
  {
   "cell_type": "code",
   "execution_count": 1,
   "id": "bc8139a2-2f0d-44ac-a843-8fef3ae5493b",
   "metadata": {},
   "outputs": [],
   "source": [
    "input_file = \"10_input.txt\""
   ]
  },
  {
   "cell_type": "code",
   "execution_count": 2,
   "id": "e7a128a5-1a33-44e1-845f-3464d291cf81",
   "metadata": {},
   "outputs": [],
   "source": [
    "with open(input_file) as f:\n",
    "    program = [line.rstrip() for line in f]"
   ]
  },
  {
   "cell_type": "code",
   "execution_count": 6,
   "id": "1422076c-a7d0-40d9-a9b1-fe6bf2a18144",
   "metadata": {},
   "outputs": [],
   "source": [
    "class CPU:\n",
    "    def __init__(self):\n",
    "        self.X = 1\n",
    "        self.history = []\n",
    "        self.w = 40\n",
    "        self.h = 6\n",
    "        \n",
    "    \n",
    "    def execute(self, line):\n",
    "        if line == 'noop':\n",
    "            self.history.append(self.X)\n",
    "        elif line[:4] == 'addx':\n",
    "            self.history.append(self.X)\n",
    "            self.history.append(self.X)\n",
    "            self.X += int(line[5:])\n",
    "            \n",
    "    \n",
    "    def execute_program(self, program):\n",
    "        for line in program:\n",
    "            self.execute(line)\n",
    "\n",
    "    \n",
    "    def signal_strength_tot(self, start=20, period=40):\n",
    "        return sum((cycle + 1) * self.history[cycle] for cycle in range(start-1, len(self.history), period))\n",
    "    \n",
    "    \n",
    "    def render(self):\n",
    "        self.screen = [list(' ' * self.w) for _ in range(self.h)]\n",
    "        for r in range(self.h):\n",
    "            for x in range(self.w):\n",
    "                cycle = 40 * r + x\n",
    "                if abs(self.history[cycle] - x) <= 1:\n",
    "                    self.screen[r][x] = 'x'\n",
    "    \n",
    "    \n",
    "    def print_screen(self):\n",
    "        self.render()\n",
    "        for row in self.screen:\n",
    "            print(''.join(row))\n",
    "        print()"
   ]
  },
  {
   "cell_type": "code",
   "execution_count": 7,
   "id": "035d454f-5664-4751-ac92-a5cfa7a4f0eb",
   "metadata": {},
   "outputs": [
    {
     "data": {
      "text/plain": [
       "14860"
      ]
     },
     "execution_count": 7,
     "metadata": {},
     "output_type": "execute_result"
    }
   ],
   "source": [
    "cpu = CPU()\n",
    "\n",
    "cpu.execute_program(program)\n",
    "#part1\n",
    "cpu.signal_strength_tot()"
   ]
  },
  {
   "cell_type": "code",
   "execution_count": 8,
   "id": "99b65393-e610-425d-a796-8e0904267e91",
   "metadata": {},
   "outputs": [
    {
     "name": "stdout",
     "output_type": "stream",
     "text": [
      "xxx   xx  xxxx xxxx x  x x  x xxx  x  x \n",
      "x  x x  x    x x    x  x x  x x  x x x  \n",
      "x  x x      x  xxx  xxxx x  x x  x xx   \n",
      "xxx  x xx  x   x    x  x x  x xxx  x x  \n",
      "x x  x  x x    x    x  x x  x x x  x x  \n",
      "x  x  xxx xxxx xxxx x  x  xx  x  x x  x \n",
      "\n"
     ]
    }
   ],
   "source": [
    "#part2\n",
    "#cpu.render()\n",
    "cpu.print_screen()"
   ]
  }
 ],
 "metadata": {
  "kernelspec": {
   "display_name": "Python 3 (ipykernel)",
   "language": "python",
   "name": "python3"
  },
  "language_info": {
   "codemirror_mode": {
    "name": "ipython",
    "version": 3
   },
   "file_extension": ".py",
   "mimetype": "text/x-python",
   "name": "python",
   "nbconvert_exporter": "python",
   "pygments_lexer": "ipython3",
   "version": "3.9.12"
  }
 },
 "nbformat": 4,
 "nbformat_minor": 5
}
