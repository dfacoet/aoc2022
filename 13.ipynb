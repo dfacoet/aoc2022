{
 "cells": [
  {
   "cell_type": "code",
   "execution_count": 1,
   "id": "91c6ef70-ffaa-4ca8-8ef3-cf71bdb79c42",
   "metadata": {},
   "outputs": [],
   "source": [
    "import ast\n",
    "from functools import cmp_to_key"
   ]
  },
  {
   "cell_type": "code",
   "execution_count": 2,
   "id": "4cabf179-f033-42c7-805e-a57604cb3077",
   "metadata": {},
   "outputs": [],
   "source": [
    "input_file = \"13_input.txt\""
   ]
  },
  {
   "cell_type": "code",
   "execution_count": 3,
   "id": "bb8b873a-58cd-4c05-b447-e97992b0d78c",
   "metadata": {},
   "outputs": [],
   "source": [
    "with open(input_file) as f:\n",
    "    packets = [ast.literal_eval(line.rstrip()) for line in f if len(line) > 1]"
   ]
  },
  {
   "cell_type": "code",
   "execution_count": 4,
   "id": "e7e9d875-0817-466e-b82f-13d299864b74",
   "metadata": {},
   "outputs": [],
   "source": [
    "def compare_two_packets(p1, p2):\n",
    "    if type(p1) is int and type(p2) is int:\n",
    "        if p1 == p2:\n",
    "            return 0\n",
    "        if p1 > p2:\n",
    "            return +1\n",
    "        return -1\n",
    "    if type(p1) is list and type(p2) is list:\n",
    "        for l, r in zip(p1, p2):\n",
    "            comp = compare_two_packets(l, r)\n",
    "            if comp != 0:\n",
    "                return comp\n",
    "        return compare_two_packets(len(p1), len(p2))\n",
    "    # one int, one list\n",
    "    if type(p1) is int:\n",
    "        return compare_two_packets([p1], p2)\n",
    "    if type(p2) is int:\n",
    "        return compare_two_packets(p1, [p2])\n",
    "\n",
    "\n",
    "def part1(packets):\n",
    "    tot = 0\n",
    "    for k in range(0, len(packets), 2):\n",
    "        if compare_two_packets(packets[k], packets[k+1]) < 0:\n",
    "            tot += 1 + k // 2\n",
    "    return tot\n",
    "\n",
    "\n",
    "key_f = cmp_to_key(compare_two_packets)\n",
    "\n",
    "\n",
    "def part2(packets):\n",
    "    del1 = [[2]]\n",
    "    del2 = [[6]]\n",
    "    sorted_packets = sorted(packets + [del1] + [del2], key=key_f)\n",
    "    return (1 + sorted_packets.index(del1)) * (1 + sorted_packets.index(del2))"
   ]
  },
  {
   "cell_type": "code",
   "execution_count": 5,
   "id": "c9c684ea-1d13-4c95-b8fb-912ede392b94",
   "metadata": {},
   "outputs": [
    {
     "data": {
      "text/plain": [
       "5720"
      ]
     },
     "execution_count": 5,
     "metadata": {},
     "output_type": "execute_result"
    }
   ],
   "source": [
    "part1(packets)"
   ]
  },
  {
   "cell_type": "code",
   "execution_count": 6,
   "id": "b96981db-64a6-4f6e-91de-b32382812cc9",
   "metadata": {},
   "outputs": [
    {
     "data": {
      "text/plain": [
       "23504"
      ]
     },
     "execution_count": 6,
     "metadata": {},
     "output_type": "execute_result"
    }
   ],
   "source": [
    "part2(packets)"
   ]
  },
  {
   "cell_type": "code",
   "execution_count": null,
   "id": "4a278feb-d7b1-468b-8b35-b3b7afb0dffe",
   "metadata": {},
   "outputs": [],
   "source": []
  }
 ],
 "metadata": {
  "kernelspec": {
   "display_name": "Python 3 (ipykernel)",
   "language": "python",
   "name": "python3"
  },
  "language_info": {
   "codemirror_mode": {
    "name": "ipython",
    "version": 3
   },
   "file_extension": ".py",
   "mimetype": "text/x-python",
   "name": "python",
   "nbconvert_exporter": "python",
   "pygments_lexer": "ipython3",
   "version": "3.9.12"
  }
 },
 "nbformat": 4,
 "nbformat_minor": 5
}
