{
 "cells": [
  {
   "cell_type": "code",
   "execution_count": 1,
   "id": "0879ac72-3056-44e3-844b-4f3d954679ac",
   "metadata": {},
   "outputs": [],
   "source": [
    "input_file = \"02_input.txt\""
   ]
  },
  {
   "cell_type": "code",
   "execution_count": 2,
   "id": "08e3a1f4-515c-4bd3-8bbe-d9d1ea16c610",
   "metadata": {},
   "outputs": [],
   "source": [
    "with open(input_file) as f:\n",
    "    guide = f.readlines()\n",
    "guide = [x.rstrip().split() for x in guide]"
   ]
  },
  {
   "cell_type": "code",
   "execution_count": 3,
   "id": "6e61c39f-aa4d-46ea-8514-76ef77d3dee8",
   "metadata": {},
   "outputs": [],
   "source": [
    "def score(play):\n",
    "    o, m = play\n",
    "    return 1 + m + 3 * ((1 + m - o) % 3)\n",
    "\n",
    "\n",
    "def part1(guide):\n",
    "    #translate guide to rps\n",
    "    rps = range(3)\n",
    "    op_dict = dict(zip('ABC', rps))\n",
    "    my_dict = dict(zip('XYZ', rps))\n",
    "    g1 = [[op_dict[a], my_dict[b]] for a, b in guide]\n",
    "    return sum(score(x) for x in g1)\n",
    "\n",
    "\n",
    "def part2(guide):\n",
    "    # translate guide to rps / result\n",
    "    rps = range(3)\n",
    "    op_dict = dict(zip('ABC', rps))\n",
    "    # find move by adding -1/0/1 mod 3 to opponent's move, then score as before \n",
    "    my_dict = dict(zip('XYZ', range(-1,2))) # lose = -1, draw = 0, win = 1\n",
    "    g2 = [[op_dict[a], (op_dict[a] + my_dict[b]) % 3] for a, b in guide]\n",
    "    return sum(score(x) for x in g2)"
   ]
  },
  {
   "cell_type": "code",
   "execution_count": 4,
   "id": "2e90f78c-980d-4728-b280-8f44aee98aa6",
   "metadata": {},
   "outputs": [
    {
     "data": {
      "text/plain": [
       "13052"
      ]
     },
     "execution_count": 4,
     "metadata": {},
     "output_type": "execute_result"
    }
   ],
   "source": [
    "part1(guide)"
   ]
  },
  {
   "cell_type": "code",
   "execution_count": 5,
   "id": "261b8644-0c7d-4dbf-a7fb-b776fcfcc8b2",
   "metadata": {},
   "outputs": [
    {
     "data": {
      "text/plain": [
       "13693"
      ]
     },
     "execution_count": 5,
     "metadata": {},
     "output_type": "execute_result"
    }
   ],
   "source": [
    "part2(guide)"
   ]
  }
 ],
 "metadata": {
  "kernelspec": {
   "display_name": "Python 3 (ipykernel)",
   "language": "python",
   "name": "python3"
  },
  "language_info": {
   "codemirror_mode": {
    "name": "ipython",
    "version": 3
   },
   "file_extension": ".py",
   "mimetype": "text/x-python",
   "name": "python",
   "nbconvert_exporter": "python",
   "pygments_lexer": "ipython3",
   "version": "3.9.12"
  }
 },
 "nbformat": 4,
 "nbformat_minor": 5
}
