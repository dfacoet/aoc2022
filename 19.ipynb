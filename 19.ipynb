{
 "cells": [
  {
   "cell_type": "code",
   "execution_count": 1,
   "id": "c3bd26c2-2f98-4415-a327-4e7bc85f98d2",
   "metadata": {},
   "outputs": [],
   "source": [
    "import math\n",
    "import re\n",
    "import os\n",
    "#from queue import Queue, LifoQueue\n",
    "from collections import deque\n",
    "from operator import mul\n",
    "from functools import reduce\n",
    "\n",
    "import tqdm#.notebook as tqdm"
   ]
  },
  {
   "cell_type": "code",
   "execution_count": 2,
   "id": "78181b71-bb5c-4ab8-8996-ca080cd82287",
   "metadata": {},
   "outputs": [],
   "source": [
    "class Factory:\n",
    "    def __init__(self, blueprint):\n",
    "        d = [int(x) for x in re.findall(\"\\d+\", blueprint)]\n",
    "        self.id = d[0]\n",
    "        self.costs = (\n",
    "            (d[1], 0, 0, 0),\n",
    "            (d[2], 0, 0, 0),\n",
    "            (d[3], d[4], 0, 0),\n",
    "            (d[5], 0, d[6], 0),\n",
    "        )\n",
    "        max_ore = max(c[0] for c in self.costs)\n",
    "        self.max = (max_ore, d[4], d[6], math.inf)\n",
    "    \n",
    "    def find_best(self, maxstep=24, tqdm_update=12345):\n",
    "        q = deque()\n",
    "        initial = (       # resources, robots, time left\n",
    "            (0, 0, 0, 0),\n",
    "            (1, 0, 0, 0),\n",
    "            maxstep\n",
    "        )\n",
    "        q.append(initial)\n",
    "        c = 0\n",
    "        best = 0\n",
    "        checked = {initial}\n",
    "        with tqdm.tqdm() as progbar:\n",
    "            while q:\n",
    "                resources, robots, time_left = q.pop()\n",
    "                new_res = tuple(resources[k] + robots[k] for k in range(4))\n",
    "                t = time_left - 1\n",
    "                if time_left == 0:\n",
    "                    best = max(best, resources[-1])\n",
    "                elif new_res[-1] + robots[-1] * time_left + time_left * (time_left-1) // 2 < best:\n",
    "                    # building one geode robot per turn would not be enough\n",
    "                    continue\n",
    "                else:\n",
    "                    for robot in range(4):\n",
    "                        if robots[robot] <= self.max[robot] and resources[0] >= self.costs[robot][0]:\n",
    "                            #all(resources[k] >= self.costs[robot][k] for k in range(3)):\n",
    "                            if (robot == 2 and resources[1] < self.costs[robot][1]) or (robot == 3 and resources[2] < self.costs[robot][2]):\n",
    "                                continue\n",
    "                            new_res_b = tuple(new_res[k] - self.costs[robot][k] for k in range(3)) + (new_res[-1],)\n",
    "                            new_robots = robots[:robot] + (robots[robot] + 1,) + robots[robot+1:]\n",
    "                            new_state = (new_res_b, new_robots, t)\n",
    "                            if new_state not in checked:\n",
    "                                q.append(new_state)\n",
    "                                checked.add(new_state)\n",
    "                    new_state = (new_res, robots, t) # do not build\n",
    "                    if new_state not in checked:\n",
    "                        q.append(new_state)\n",
    "                        checked.add(new_state)\n",
    "\n",
    "                c += 1\n",
    "                if c % tqdm_update == 0:\n",
    "                    progbar.update(tqdm_update)\n",
    "                    progbar.set_description(f\"Blueprint #{self.id} Path #{c}, timesteps left: {time_left:02d}, queue: {len(q):02d}\")\n",
    "\n",
    "        return best\n",
    "\n",
    "\n",
    "def part1(factories):\n",
    "    print(len(factories), \"blueprints found\")\n",
    "    tot = 0\n",
    "    for f in factories:\n",
    "        quality = f.id * f.find_best(24)\n",
    "        #print(f\"#{f.id}: {quality}\")\n",
    "        tot += quality\n",
    "    return tot\n",
    "\n",
    "def quality(f):\n",
    "    return f.id * f.find_best(20)\n",
    "\n",
    "# def part1_parallel(factories):\n",
    "#     pool = Pool(2)\n",
    "#     quality_levels = pool.map(quality, factories)\n",
    "#     return sum(quality_levels)\n",
    "\n",
    "def part2(factories):\n",
    "    best_runs = [f.find_best(32) for f in factories[:3]]\n",
    "    return reduce(mul, best_runs, 1)"
   ]
  },
  {
   "cell_type": "code",
   "execution_count": 3,
   "id": "640da85e-ce8c-4384-9173-12e6e041df60",
   "metadata": {},
   "outputs": [],
   "source": [
    "with open(\"19_input.txt\") as f:\n",
    "    factories = [Factory(line.rstrip()) for line in f]"
   ]
  },
  {
   "cell_type": "code",
   "execution_count": 4,
   "id": "a74bffbd-e5a3-4a0b-a040-d80bb1950ae5",
   "metadata": {
    "tags": []
   },
   "outputs": [
    {
     "name": "stdout",
     "output_type": "stream",
     "text": [
      "30 blueprints found\n"
     ]
    },
    {
     "name": "stderr",
     "output_type": "stream",
     "text": [
      "Blueprint #1 Path #1333260, timesteps left: 03, queue: 06: : 1333260it [00:04, 302728.78it/s]\n",
      "Blueprint #2 Path #592560, timesteps left: 02, queue: 05: : 592560it [00:01, 389956.25it/s]\n",
      "Blueprint #3 Path #641940, timesteps left: 07, queue: 07: : 641940it [00:02, 270720.82it/s]\n",
      "Blueprint #4 Path #1654230, timesteps left: 05, queue: 06: : 1654230it [00:06, 268821.83it/s]\n",
      "Blueprint #5 Path #2641830, timesteps left: 04, queue: 06: : 2641830it [00:10, 257332.57it/s]\n",
      "Blueprint #6 Path #1740645, timesteps left: 05, queue: 11: : 1740645it [00:06, 287765.24it/s]\n",
      "Blueprint #7 Path #1074015, timesteps left: 02, queue: 10: : 1074015it [00:03, 323382.20it/s]\n",
      "Blueprint #8 Path #3061560, timesteps left: 02, queue: 08: : 3061560it [00:09, 333150.38it/s]\n",
      "Blueprint #9 Path #1345605, timesteps left: 07, queue: 10: : 1345605it [00:05, 259197.07it/s]\n",
      "Blueprint #10 Path #777735, timesteps left: 04, queue: 05: : 777735it [00:03, 254631.33it/s]\n",
      "Blueprint #11 Path #2036925, timesteps left: 02, queue: 11: : 2036925it [00:07, 270087.53it/s]\n",
      "Blueprint #12 Path #1617195, timesteps left: 07, queue: 08: : 1617195it [00:05, 272786.28it/s]\n",
      "Blueprint #13 Path #1604850, timesteps left: 03, queue: 08: : 1604850it [00:04, 366058.19it/s]\n",
      "Blueprint #14 Path #358005, timesteps left: 06, queue: 05: : 358005it [00:01, 263159.41it/s]\n",
      "Blueprint #15 Path #1518435, timesteps left: 05, queue: 06: : 1518435it [00:06, 238517.83it/s]\n",
      "Blueprint #16 Path #3839295, timesteps left: 00, queue: 09: : 3839295it [00:14, 269428.84it/s]\n",
      "Blueprint #17 Path #530835, timesteps left: 03, queue: 08: : 530835it [00:01, 391790.20it/s]\n",
      "Blueprint #18 Path #1148085, timesteps left: 06, queue: 09: : 1148085it [00:04, 244459.13it/s]\n",
      "Blueprint #19 Path #1592505, timesteps left: 02, queue: 11: : 1592505it [00:04, 348332.08it/s]\n",
      "Blueprint #20 Path #1827060, timesteps left: 05, queue: 09: : 1827060it [00:06, 268537.98it/s]\n",
      "Blueprint #21 Path #1604850, timesteps left: 03, queue: 09: : 1604850it [00:04, 341263.94it/s]\n",
      "Blueprint #22 Path #530835, timesteps left: 03, queue: 08: : 530835it [00:01, 378978.34it/s]\n",
      "Blueprint #23 Path #1469055, timesteps left: 02, queue: 08: : 1469055it [00:04, 349812.82it/s]\n",
      "Blueprint #24 Path #4814550, timesteps left: 05, queue: 09: : 4814550it [00:20, 235528.72it/s]\n",
      "Blueprint #25 Path #1864095, timesteps left: 05, queue: 05: : 1864095it [00:05, 313139.82it/s]\n",
      "Blueprint #26 Path #1506090, timesteps left: 03, queue: 13: : 1506090it [00:05, 254214.93it/s]\n",
      "Blueprint #27 Path #1777680, timesteps left: 00, queue: 05: : 1777680it [00:05, 354042.29it/s]\n",
      "Blueprint #28 Path #1506090, timesteps left: 02, queue: 09: : 1506090it [00:05, 295999.40it/s]\n",
      "Blueprint #29 Path #1296225, timesteps left: 04, queue: 09: : 1296225it [00:04, 283294.31it/s]\n",
      "Blueprint #30 Path #2012235, timesteps left: 01, queue: 11: : 2012235it [00:05, 341135.76it/s]\n"
     ]
    },
    {
     "data": {
      "text/plain": [
       "1404"
      ]
     },
     "execution_count": 4,
     "metadata": {},
     "output_type": "execute_result"
    }
   ],
   "source": [
    "part1(factories)"
   ]
  },
  {
   "cell_type": "code",
   "execution_count": 5,
   "id": "ba4a9f0d-4bdd-4625-a463-c43f84a994eb",
   "metadata": {
    "tags": []
   },
   "outputs": [
    {
     "name": "stderr",
     "output_type": "stream",
     "text": [
      "Blueprint #1 Path #20653185, timesteps left: 09, queue: 10: : 20653185it [02:50, 121127.56it/s]\n",
      "Blueprint #2 Path #14246130, timesteps left: 05, queue: 09: : 14246130it [01:19, 179620.13it/s]\n",
      "Blueprint #3 Path #9690825, timesteps left: 11, queue: 05: : 9690825it [01:03, 152402.85it/s]\n"
     ]
    },
    {
     "data": {
      "text/plain": [
       "5880"
      ]
     },
     "execution_count": 5,
     "metadata": {},
     "output_type": "execute_result"
    }
   ],
   "source": [
    "part2(factories)"
   ]
  }
 ],
 "metadata": {
  "kernelspec": {
   "display_name": "Python 3 (ipykernel)",
   "language": "python",
   "name": "python3"
  },
  "language_info": {
   "codemirror_mode": {
    "name": "ipython",
    "version": 3
   },
   "file_extension": ".py",
   "mimetype": "text/x-python",
   "name": "python",
   "nbconvert_exporter": "python",
   "pygments_lexer": "ipython3",
   "version": "3.9.12"
  }
 },
 "nbformat": 4,
 "nbformat_minor": 5
}
