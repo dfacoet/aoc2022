{
 "cells": [
  {
   "cell_type": "code",
   "execution_count": 1,
   "id": "ab985031-6ae7-444a-8e26-656ffca6ac45",
   "metadata": {},
   "outputs": [],
   "source": [
    "from copy import deepcopy\n",
    "\n",
    "import tqdm"
   ]
  },
  {
   "cell_type": "code",
   "execution_count": 2,
   "id": "03ef6e6a-420e-481a-bf04-7b445e95b2a9",
   "metadata": {},
   "outputs": [],
   "source": [
    "input_file = \"19_input.txt\""
   ]
  },
  {
   "cell_type": "code",
   "execution_count": 119,
   "id": "2429436a-bbcd-487b-a2d4-71c1c9ef1eef",
   "metadata": {},
   "outputs": [],
   "source": [
    "resource_names = [\"ore\", \"clay\", \"obsidian\", \"geode\"]\n",
    "\n",
    "class Blueprint:\n",
    "    def __init__(self, line):\n",
    "        bp = line.rstrip().split()\n",
    "        self.id = int(bp[1].rstrip(\":\"))\n",
    "        costs = [int(bp[i]) for i in [6, 12, 18, 21, 27, 30]]\n",
    "        self.costs = {\n",
    "            # \"wait\": {\"ore\": 0, \"clay\": 0, \"obsidian\": 0},\n",
    "            \"ore\": {\"ore\": costs[0], \"clay\": 0, \"obsidian\": 0, \"geode\": 0},\n",
    "            \"clay\": {\"ore\": costs[1], \"clay\": 0, \"obsidian\": 0, \"geode\": 0},\n",
    "            \"obsidian\": {\"ore\": costs[2], \"clay\": costs[3], \"obsidian\": 0, \"geode\": 0},\n",
    "            \"geode\": {\"ore\": costs[4], \"clay\": 0, \"obsidian\": costs[5], \"geode\": 0}\n",
    "        }\n",
    "    \n",
    "    def choices(self, state):\n",
    "        options = []\n",
    "        for robot in resource_names:\n",
    "            if all(state.resources[res] >= cost for res, cost in self.costs[robot].items()):\n",
    "                options.append(robot)\n",
    "        return options + [\"wait\"]\n",
    "                \n",
    "    \n",
    "    def find_best(self, nsteps=24):\n",
    "        paths = [State(maxsteps=nsteps, costs=self.costs)]\n",
    "        best = State()\n",
    "        best.resources[\"geode\"] = -1\n",
    "        c = 0\n",
    "        with tqdm.tqdm() as progbar:\n",
    "            while paths:\n",
    "                path = paths.pop()\n",
    "                c += 1\n",
    "                for build_robot in self.choices(path):\n",
    "                    new_path = path.copy()\n",
    "                    if build_robot == \"wait\":\n",
    "                        new_path.wait()\n",
    "                    else:\n",
    "                        new_path.build(build_robot)\n",
    "                    if new_path.time == nsteps:\n",
    "                        if new_path.resources[\"geode\"] > best.resources[\"geode\"]:\n",
    "                            best = new_path\n",
    "                    else:\n",
    "                        paths.append(new_path)\n",
    "                if c % tq_update_rate == 0:\n",
    "                    progbar.update(tq_update_rate)\n",
    "                    progbar.set_description(f\"Path n.{c}, time: {path.time}, queue: {len(paths)}\")\n",
    "        return best\n",
    "\n",
    "tq_update_rate = 1000\n",
    "\n",
    "\n",
    "class State:\n",
    "    def __init__(self, maxsteps=24, costs=None):\n",
    "        self.time = 0\n",
    "        self.resources = {\"ore\": 0, \"clay\": 0, \"obsidian\": 0, \"geode\": 0}\n",
    "        self.robots = {\"ore\": 1, \"clay\": 0, \"obsidian\": 0, \"geode\": 0}\n",
    "        self.maxsteps = maxsteps\n",
    "        self.costs = costs\n",
    "    \n",
    "    \n",
    "    def build(self, robot):\n",
    "        self.time += 1\n",
    "        for res in self.resources:\n",
    "            self.resources[res] += self.robots[res] - self.costs[robot][res]\n",
    "        self.resources[\"geode\"] += self.robots[\"geode\"]\n",
    "        self.robots[robot] += 1\n",
    "    \n",
    "    \n",
    "    def wait(self):\n",
    "        self.time += 1\n",
    "        for res in self.resources:\n",
    "            self.resources[res] += self.robots[res]\n",
    "        \n",
    "\n",
    "    def estimate_final(self):\n",
    "        return (self.maxsteps - self.time) * self.robots[\"geode\"] + self.resources[\"geode\"]\n",
    "\n",
    "    \n",
    "    def copy(self):\n",
    "        return deepcopy(self)"
   ]
  },
  {
   "cell_type": "code",
   "execution_count": 120,
   "id": "fd887930-337a-43f5-b303-9ace34c05d87",
   "metadata": {},
   "outputs": [],
   "source": [
    "with open(input_file) as f:\n",
    "    blueprints = [Blueprint(line) for line in f]"
   ]
  },
  {
   "cell_type": "code",
   "execution_count": 76,
   "id": "99a5f2e6-f645-4959-94f1-658b2fd8540a",
   "metadata": {
    "tags": []
   },
   "outputs": [
    {
     "name": "stderr",
     "output_type": "stream",
     "text": [
      "Path n.111000, time: 14, queue: 6: : 111000it [00:07, 13945.93it/s] \n"
     ]
    }
   ],
   "source": [
    "bestpath = blueprints[5].find_best(nsteps=15)"
   ]
  },
  {
   "cell_type": "code",
   "execution_count": 77,
   "id": "ec946252-5e8c-43f7-9a52-854cc9a71145",
   "metadata": {},
   "outputs": [
    {
     "name": "stdout",
     "output_type": "stream",
     "text": [
      "Resources:  {'ore': 13, 'clay': 0, 'obsidian': 0, 'geode': 0}\n",
      "Robots:  {'ore': 2, 'clay': 0, 'obsidian': 0, 'geode': 0}\n"
     ]
    }
   ],
   "source": [
    "print(\"Resources: \", bestpath.resources)\n",
    "print(\"Robots: \", bestpath.robots)"
   ]
  },
  {
   "cell_type": "code",
   "execution_count": 78,
   "id": "e719a808-9afb-4f6d-9910-4d0fbf2a8078",
   "metadata": {},
   "outputs": [
    {
     "data": {
      "text/plain": [
       "{'ore': {'ore': 2, 'clay': 0, 'obsidian': 0, 'geode': 0},\n",
       " 'clay': {'ore': 4, 'clay': 0, 'obsidian': 0, 'geode': 0},\n",
       " 'obsidian': {'ore': 3, 'clay': 19, 'obsidian': 0, 'geode': 0},\n",
       " 'geode': {'ore': 4, 'clay': 0, 'obsidian': 8, 'geode': 0}}"
      ]
     },
     "execution_count": 78,
     "metadata": {},
     "output_type": "execute_result"
    }
   ],
   "source": [
    "bestpath.costs"
   ]
  },
  {
   "cell_type": "code",
   "execution_count": 79,
   "id": "2132492a-d911-49ae-b424-1b238f5115a3",
   "metadata": {},
   "outputs": [],
   "source": [
    "sample_bp1 = Blueprint(\"Blueprint 1: Each ore robot costs 4 ore. Each clay robot costs 2 ore. Each obsidian robot costs 3 ore and 14 clay. Each geode robot costs 2 ore and 7 obsidian.\")"
   ]
  },
  {
   "cell_type": "code",
   "execution_count": 121,
   "id": "ae4eb944-5478-4826-a39d-135eb0ad53a2",
   "metadata": {},
   "outputs": [
    {
     "name": "stderr",
     "output_type": "stream",
     "text": [
      "Path n.3302000, time: 18, queue: 12: : 3302000it [04:39, 11796.19it/s]\n"
     ]
    }
   ],
   "source": [
    "bestsample = sample_bp1.find_best(nsteps=19)"
   ]
  },
  {
   "cell_type": "code",
   "execution_count": 118,
   "id": "70a2eaed-3006-4cef-a657-ae1b24dacbb8",
   "metadata": {},
   "outputs": [
    {
     "name": "stdout",
     "output_type": "stream",
     "text": [
      "Resources:  {'ore': 14, 'clay': 0, 'obsidian': 0, 'geode': 0}\n",
      "Robots:  {'ore': 2, 'clay': 0, 'obsidian': 0, 'geode': 0}\n"
     ]
    }
   ],
   "source": [
    "print(\"Resources: \", bestsample.resources)\n",
    "print(\"Robots: \", bestsample.robots)"
   ]
  },
  {
   "cell_type": "code",
   "execution_count": null,
   "id": "b4f5fe0a-3675-45b4-84c7-661bfda20d89",
   "metadata": {},
   "outputs": [],
   "source": []
  }
 ],
 "metadata": {
  "kernelspec": {
   "display_name": "Python 3 (ipykernel)",
   "language": "python",
   "name": "python3"
  },
  "language_info": {
   "codemirror_mode": {
    "name": "ipython",
    "version": 3
   },
   "file_extension": ".py",
   "mimetype": "text/x-python",
   "name": "python",
   "nbconvert_exporter": "python",
   "pygments_lexer": "ipython3",
   "version": "3.9.12"
  }
 },
 "nbformat": 4,
 "nbformat_minor": 5
}
